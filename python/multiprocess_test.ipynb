{
 "metadata": {
  "name": "multiprocess_test"
 },
 "nbformat": 3,
 "nbformat_minor": 0,
 "worksheets": [
  {
   "cells": [
    {
     "cell_type": "code",
     "collapsed": false,
     "input": [
      "from multiprocessing import Process\n",
      "import os\n",
      "import numpy as np\n",
      "from root_numpy import root2rec, root2array\n",
      "import pandas as pd\n",
      "\n",
      "ar = root2rec('../testdata/genev100_a.root',\n",
      "          branches=['mcid', 'mcm', 'mcp', 'mctheta', 'mcphi'])\n",
      "nparts = root2array('../testdata/genev100_a.root',\n",
      "          branches=['mcnpart']).astype(int)\n",
      "df = pd.DataFrame(ar)\n",
      "\n",
      "idxevt = np.repeat(df.index, nparts)\n",
      "idxprt = np.array([np.arange(0, npart) for npart in nparts]).flatten()"
     ],
     "language": "python",
     "metadata": {},
     "outputs": [],
     "prompt_number": 1
    },
    {
     "cell_type": "code",
     "collapsed": false,
     "input": [
      "def test(s):\n",
      "    print('PID = %d, args = %s' % (os.getpid(), s) )\n",
      "    return reduce(lambda x, y: pd.Series(x).append(pd.Series(y)), s).reindex([idxevt, idxprt], level=1)\n",
      "\n",
      "ss = [df[cname].values for cname in df.columns]\n",
      "ps = [Process(target=test, args=(s,)) for s in ss]\n",
      "for p in ps:\n",
      "    p.start()"
     ],
     "language": "python",
     "metadata": {},
     "outputs": [],
     "prompt_number": 2
    },
    {
     "cell_type": "code",
     "collapsed": false,
     "input": [
      "for p in ps:\n",
      "    p.join()"
     ],
     "language": "python",
     "metadata": {},
     "outputs": [],
     "prompt_number": "*"
    },
    {
     "cell_type": "markdown",
     "metadata": {},
     "source": [
      "# Only with __main__"
     ]
    },
    {
     "cell_type": "code",
     "collapsed": false,
     "input": [
      "import multiprocessing as mp\n",
      "import os\n",
      "import numpy\n",
      "\n",
      "def task(args):\n",
      "    print 'PID =', os.getpid(), ', args =', args\n",
      "    return os.getpid(), args\n",
      "\n",
      "task('test')"
     ],
     "language": "python",
     "metadata": {},
     "outputs": [
      {
       "output_type": "stream",
       "stream": "stdout",
       "text": [
        "PID = 29566 , args = test\n"
       ]
      },
      {
       "output_type": "pyout",
       "prompt_number": 1,
       "text": [
        "(29566, 'test')"
       ]
      }
     ],
     "prompt_number": 1
    },
    {
     "cell_type": "code",
     "collapsed": false,
     "input": [
      "pool = mp.Pool(processes=4)"
     ],
     "language": "python",
     "metadata": {},
     "outputs": [],
     "prompt_number": 2
    },
    {
     "cell_type": "code",
     "collapsed": false,
     "input": [
      "r = pool.map(task, range(1,9))"
     ],
     "language": "python",
     "metadata": {},
     "outputs": [],
     "prompt_number": 3
    },
    {
     "cell_type": "code",
     "collapsed": false,
     "input": [
      "r"
     ],
     "language": "python",
     "metadata": {},
     "outputs": [
      {
       "output_type": "pyout",
       "prompt_number": 4,
       "text": [
        "[(29666, 1),\n",
        " (29666, 2),\n",
        " (29666, 3),\n",
        " (29668, 4),\n",
        " (29667, 5),\n",
        " (29669, 6),\n",
        " (29666, 7),\n",
        " (29668, 8)]"
       ]
      }
     ],
     "prompt_number": 4
    },
    {
     "cell_type": "code",
     "collapsed": false,
     "input": [
      "from root_numpy import root2rec, root2array\n",
      "import os\n",
      "import pandas as pd\n",
      "ar = root2rec('../testdata/genev100_a.root',\n",
      "          branches=['mcid', 'mcm', 'mcp', 'mctheta', 'mcphi'])\n",
      "nparts = root2array('../testdata/genev100_a.root',\n",
      "          branches=['mcnpart']).astype(int)\n",
      "df = pd.DataFrame(ar)\n",
      "idxevt = np.repeat(df.index, nparts)\n",
      "idxprt = np.array([np.arange(0, npart) for npart in nparts]).flatten()"
     ],
     "language": "python",
     "metadata": {},
     "outputs": [],
     "prompt_number": 6
    },
    {
     "cell_type": "code",
     "collapsed": false,
     "input": [
      "def test(s):\n",
      "    print('PID = %d, args = %s' % (os.getpid(), args) )\n",
      "    return reduce(lambda x, y: pd.Series(x).append(pd.Series(y)), s).reindex([idxevt, idxpart], level=1)\n",
      "\n",
      "rtest = pool.map(test, [df[cname].values for cname in df.columns])"
     ],
     "language": "python",
     "metadata": {},
     "outputs": [],
     "prompt_number": "*"
    },
    {
     "cell_type": "code",
     "collapsed": false,
     "input": [],
     "language": "python",
     "metadata": {},
     "outputs": []
    }
   ],
   "metadata": {}
  }
 ]
}