{
 "metadata": {
  "name": "pandas_treemunge-Copy0"
 },
 "nbformat": 3,
 "nbformat_minor": 0,
 "worksheets": [
  {
   "cells": [
    {
     "cell_type": "markdown",
     "metadata": {},
     "source": [
      "# All imports"
     ]
    },
    {
     "cell_type": "code",
     "collapsed": false,
     "input": [
      "from math import atan2\n",
      "import functools as ft\n",
      "import numpy as np\n",
      "import numpy.linalg as la\n",
      "from scipy import optimize\n",
      "import pandas as pd\n",
      "import matplotlib.pyplot as plt\n",
      "\n",
      "from root_numpy import root2rec, root2array\n",
      "\n",
      "# from IPython.core.display import Image\n",
      "\n",
      "np.set_printoptions(precision=4, suppress=True)"
     ],
     "language": "python",
     "metadata": {},
     "outputs": [
      {
       "output_type": "stream",
       "stream": "stderr",
       "text": [
        "/usr/local/lib/python2.7/dist-packages/scikits/__init__.py:1: UserWarning: Module readline was already imported from /usr/lib/python2.7/lib-dynload/readline.so, but /usr/local/lib/python2.7/dist-packages is being added to sys.path\n",
        "  __import__('pkg_resources').declare_namespace(__name__)\n"
       ]
      }
     ],
     "prompt_number": 1
    },
    {
     "cell_type": "markdown",
     "metadata": {},
     "source": [
      "# Load TTree into DataFrame"
     ]
    },
    {
     "cell_type": "code",
     "collapsed": false,
     "input": [
      "ar = root2rec('../testdata/genev100_a.root',\n",
      "              branches=['mcnpart', 'mcid', 'mcm', 'mcp', 'mctheta', 'mcphi'])"
     ],
     "language": "python",
     "metadata": {},
     "outputs": [],
     "prompt_number": 2
    },
    {
     "cell_type": "code",
     "collapsed": false,
     "input": [
      "df = pd.DataFrame(ar)\n",
      "dftmp = df[0:100]"
     ],
     "language": "python",
     "metadata": {},
     "outputs": [],
     "prompt_number": 3
    },
    {
     "cell_type": "markdown",
     "metadata": {},
     "source": [
      "# Add particle index columns"
     ]
    },
    {
     "cell_type": "code",
     "collapsed": false,
     "input": [
      "\"\"\"df.mcid is a series of arrays, where each array contains the particle ids of the\n",
      "event.  Other particle-level df columns contain arrays with particle property values\n",
      "in the same order.\"\"\"\n",
      "# define curry function that takes as argument desired particle ids\n",
      "pidxs_l = lambda partids: lambda x: [np.where(x==partid)[0][0] for partid in partids]\n",
      "# pidxs returns a list of particle indexes\n",
      "# in this case the order is...\n",
      "pidxs = pidxs_l(np.array([11, 2212, 211, -211, 111]))\n",
      "# to correpsond to column labels\n",
      "cnames = ['idxE', 'idxP', 'idxPip', 'idxPim', 'idxPi0']\n",
      "# apply pidxs to the mcid series; result is a series of lists, but I want a series\n",
      "# for each part id, so...\n",
      "# pull out the series of mcid lists as a 2d numpy array, which provides nice slicing\n",
      "# features (could have been another dataframe, I suppose?)\n",
      "arr2d = np.array(list(df.mcid.apply(pidxs).values))\n",
      "# each row corresponds to an event, each column to the ith particle in the event\n",
      "# so I'll add a column for each particle type; the values will be the position\n",
      "# of the particle type in the arrays of other columns/series in the df.\n",
      "for cn, vals in zip(cnames, [arr2d[:,icol] for icol in range(0,5)]):\n",
      "    df[cn] = pd.Series(vals, name=cn)"
     ],
     "language": "python",
     "metadata": {},
     "outputs": [],
     "prompt_number": 4
    },
    {
     "cell_type": "markdown",
     "metadata": {},
     "source": [
      "# Perform some column-wise operations"
     ]
    },
    {
     "cell_type": "code",
     "collapsed": false,
     "input": [
      "# technically, these are element-wise (applymap versus apply)\n",
      "d2r = pi/180\n",
      "# dfrad = df[['mctheta','mcphi']].applymap(lambda x: np.cos(d2r*x))\n",
      "dfrad = df[['mctheta','mcphi']]*d2r\n",
      "dfcos = dfrad.applymap(np.cos)\n",
      "dfsin = dfrad.applymap(np.sin)"
     ],
     "language": "python",
     "metadata": {},
     "outputs": [],
     "prompt_number": 5
    },
    {
     "cell_type": "code",
     "collapsed": false,
     "input": [
      "# these are column-wise\n",
      "df['pz'] = df.mcp*dfcos.mctheta\n",
      "df['py'] = df.mcp*dfsin.mctheta*dfsin.mcphi\n",
      "df['px'] = df.mcp*dfsin.mctheta*dfcos.mcphi\n",
      "df['energy'] = (df.mcp*df.mcp + df.mcm*df.mcm).apply(lambda x: np.sqrt(x))"
     ],
     "language": "python",
     "metadata": {},
     "outputs": [],
     "prompt_number": 6
    },
    {
     "cell_type": "markdown",
     "metadata": {},
     "source": [
      "# Perform some row-wise operations"
     ]
    },
    {
     "cell_type": "code",
     "collapsed": false,
     "input": [
      "sqrt2 = lambda x: sqrt(x) if x >= 0 else -sqrt(-x)\n",
      "g = np.array([1, -1, -1, -1])\n",
      "boost = lambda beta, gamma: np.array([ [gamma,0,0,-beta*gamma], [0,1,0,0], [0,0,1,0], [-beta*gamma,0, 0, gamma] ])\n",
      "def R(e04, e14, p04):\n",
      "    e0, e1 = e04[1:], e14[1:]\n",
      "    q = (e0-e1)\n",
      "    v3 = q/la.norm(q)\n",
      "    v2 = ft.partial(lambda x: x/la.norm(x), np.cross(e0,e1))()\n",
      "    v1 = np.cross(v2, v3)\n",
      "    v = np.array([v1, v2, v3])\n",
      "    rot4_3rot = np.hstack(([[1], [0], [0], [0]], np.vstack(([[0, 0, 0]], v))))\n",
      "    w4 = e04-e14+p04\n",
      "    E, p = w4[0], la.norm(w4[1:])\n",
      "    m = sqrt2(E*E-p*p)\n",
      "    beta, gamma = p/E, E/m\n",
      "    return boost(beta, gamma).dot(rot4_3rot)\n",
      "\n",
      "# TODO: separate 4-vector series creation from operations that can be performed column-wise\n",
      "# after having them!  This row-wise calculation might be expensive (test it).\n",
      "e04 = np.array([5.497, 0, 0, 5.497])\n",
      "p04 = np.array([0.938, 0, 0, 0])\n",
      "v4idxs = ['energy', 'px', 'py', 'pz']\n",
      "def getkin(x):\n",
      "    [iE, iPx, iPy, iPz] = v4idxs\n",
      "    e4 = np.array([x[iE][0], x[iPx][0], x[iPy][0], x[iPz][0]])\n",
      "    p4 = np.array([x[iE][1], x[iPx][1], x[iPy][1], x[iPz][1]])\n",
      "    pip4 = np.array([x[iE][2], x[iPx][2], x[iPy][2], x[iPz][2]])\n",
      "    pim4 = np.array([x[iE][3], x[iPx][3], x[iPy][3], x[iPz][3]])\n",
      "    pi04 = np.array([x[iE][4], x[iPx][4], x[iPy][4], x[iPz][4]])\n",
      "    q4 = e04-e4\n",
      "    w4 = q4+p04\n",
      "    Q2 = -np.sum(q4*g*q4)\n",
      "    s = np.sum(w4*g*w4)\n",
      "    W = sqrt2(s)\n",
      "    o4 = w4-p4\n",
      "    o4cm = (R(e04, e4, p04).dot(o4))\n",
      "    o3cm = o4cm[1:]\n",
      "    costheta = o3cm[2]/la.norm(o3cm)\n",
      "    phi = atan2(o3cm[1],o3cm[0])\n",
      "    \n",
      "    return pd.Series(data=(W, Q2, costheta, phi, s, e04, p04, e4, p4, pip4, pim4, pi04, q4, w4))\n",
      "dfkin = df.apply(getkin, axis=1)\n",
      "dfkin.columns = ['W', 'Q2', 'costheta', 'phi', 's', 'e04', 'p04', 'e4', 'p4', 'pip4', 'pim4', 'pi04', 'q4', 'w4']"
     ],
     "language": "python",
     "metadata": {},
     "outputs": [],
     "prompt_number": 8
    },
    {
     "cell_type": "code",
     "collapsed": false,
     "input": [
      "plt.figure(1, figsize=(15, 5))\n",
      "plt.subplot(131)\n",
      "hphi = hist(dfkin.phi, bins=100)\n",
      "plt.subplot(132)\n",
      "hcos = hist(dfkin.costheta, bins=100)\n",
      "plt.subplot(133)\n",
      "hcos = hist(dfkin.costheta.apply(lambda x: np.arccos(x)), bins=100)"
     ],
     "language": "python",
     "metadata": {},
     "outputs": [
      {
       "output_type": "display_data",
       "png": "[encoded data removed]"
      }
     ],
     "prompt_number": 9
    },
    {
     "cell_type": "code",
     "collapsed": false,
     "input": [
      "class Parameter:\n",
      "    def __init__(self, value):\n",
      "            self.value = value\n",
      "\n",
      "    def set(self, value):\n",
      "            self.value = value\n",
      "\n",
      "    def __call__(self):\n",
      "            return self.value\n",
      "\n",
      "def fit(function, parameters, y, x = None):\n",
      "    def f(params, x, y):\n",
      "        i = 0\n",
      "        for p in parameters:\n",
      "            p.set(params[i])\n",
      "            i += 1\n",
      "        return y - function(x)\n",
      "\n",
      "    # if x is None: x = np.arange(y.shape[0])\n",
      "    p = [param() for param in parameters]\n",
      "    return optimize.leastsq(f, p, args=(x, y))"
     ],
     "language": "python",
     "metadata": {},
     "outputs": [],
     "prompt_number": 10
    },
    {
     "cell_type": "code",
     "collapsed": false,
     "input": [
      "mmp4 = dfkin.w4-dfkin.p4\n",
      "v4inv = lambda x: sqrt2(x.dot(g*x))\n",
      "mmp = mmp4.apply(v4inv)\n",
      "hmmp = histogram(mmp, bins=100)  # hist(mmp, bins=100)\n",
      "\n",
      "# set initial parameters and define function\n",
      "mu = Parameter(0.77)  # mmp.mean())\n",
      "sigma = Parameter(0.01)  # mmp.std())\n",
      "height = Parameter(2000)  # hmmp[1].max())\n",
      "def gauss(x): return height() * exp(-((x-mu())/sigma())**2)\n",
      "\n",
      "# fit\n",
      "Y = hmmp[0]\n",
      "X = (hmmp[1][1:]+hmmp[1][:-1])/2\n",
      "fitresult = fit(gauss, [mu, sigma, height], Y, X)\n",
      "print(fitresult[0])\n",
      "print(fitresult[1])\n",
      "Xl = np.linspace(hmmp[1].min(), hmmp[1].max(), 1000)\n",
      "plt.figure(1, figsize=(9,6))\n",
      "plt.errorbar(X, Y, yerr=np.sqrt(Y), fmt='ro', ms=2)\n",
      "plt.plot(Xl, [gauss(x) for x in Xl], 'g-', lw=2)"
     ],
     "language": "python",
     "metadata": {},
     "outputs": [
      {
       "output_type": "stream",
       "stream": "stdout",
       "text": [
        "[    0.7823     0.006   3108.294 ]\n",
        "3\n"
       ]
      },
      {
       "output_type": "pyout",
       "prompt_number": 49,
       "text": [
        "[<matplotlib.lines.Line2D at 0x25e76050>]"
       ]
      },
      {
       "output_type": "display_data",
       "png": "[encoded data removed]"
      }
     ],
     "prompt_number": 49
    },
    {
     "cell_type": "code",
     "collapsed": false,
     "input": [],
     "language": "python",
     "metadata": {},
     "outputs": [
      {
       "output_type": "pyout",
       "prompt_number": 39,
       "text": [
        "array([ 3108.294 ,     0.7823,    -0.006 ])"
       ]
      }
     ],
     "prompt_number": 39
    },
    {
     "cell_type": "markdown",
     "metadata": {},
     "source": [
      "# Return to column-wise operations"
     ]
    },
    {
     "cell_type": "code",
     "collapsed": false,
     "input": [],
     "language": "python",
     "metadata": {},
     "outputs": []
    },
    {
     "cell_type": "markdown",
     "metadata": {},
     "source": [
      "# OLD NOTES/TESTS"
     ]
    },
    {
     "cell_type": "code",
     "collapsed": false,
     "input": [
      "import numpy as np\n",
      "from scipy.optimize import curve_fit\n",
      "def func(x, a, b, c):\n",
      "    return a*np.exp(-b*x) + c\n",
      "\n",
      "x = np.linspace(0,4,50)\n",
      "y = func(x, 2.5, 1.3, 0.5)\n",
      "yn = y + 0.2*np.random.normal(size=len(x))\n",
      "\n",
      "popt, pcov = curve_fit(func, x, yn)\n",
      "print(popt)\n",
      "print(pcov)"
     ],
     "language": "python",
     "metadata": {},
     "outputs": [
      {
       "output_type": "stream",
       "stream": "stdout",
       "text": [
        "[ 2.5051  1.1231  0.4099]\n",
        "[[ 0.0132  0.0039 -0.0012]\n",
        " [ 0.0039  0.0149  0.0059]\n",
        " [-0.0012  0.0059  0.0038]]\n"
       ]
      }
     ],
     "prompt_number": 29
    },
    {
     "cell_type": "code",
     "collapsed": false,
     "input": [
      "fitresult"
     ],
     "language": "python",
     "metadata": {},
     "outputs": [
      {
       "output_type": "pyout",
       "prompt_number": 41,
       "text": [
        "(array([    0.7823,     0.0042,  2738.    ]), 4)"
       ]
      }
     ],
     "prompt_number": 41
    },
    {
     "cell_type": "code",
     "collapsed": false,
     "input": [
      "sqrt2 = lambda x: sqrt(x) if x >= 0 else -sqrt(-x)\n",
      "g = np.matrix(np.zeros((4,4)))\n",
      "g[0,0] = 1\n",
      "for i in range(1,4): g[i,i] = -1\n",
      "boost = lambda beta, gamma: np.matrix([ [gamma,0,0,-beta*gamma], [0,1,0,0], [0,0,1,0], [-beta*gamma,0, 0, gamma] ])\n",
      "def R(e04, e14, p04):\n",
      "    e0, e1 = e04[1:], e14[1:]\n",
      "    q = (e0-e1)\n",
      "    v3 = q/la.norm(q)\n",
      "    v2 = ft.partial(lambda x: x/la.norm(x), np.cross(e0,e1))()\n",
      "    v1 = ft.partial(lambda x: x/la.norm(x), np.cross(v2,v3))()\n",
      "    v = np.matrix([v1, v2, v3])\n",
      "    rot4_3rot = np.matrix(np.hstack(([[1], [0], [0], [0]], np.vstack(([[0, 0, 0]], v)))).T)\n",
      "    print(rot4_3rot.T*np.matrix(e04-e14).T)\n",
      "    w4 = e04-e14+p04\n",
      "    E, p = w4[0], la.norm(w4[1:])\n",
      "    m = sqrt2(E*E-p*p)\n",
      "    beta, gamma = p/E, E/m\n",
      "    bst = boost(beta, gamma)\n",
      "    print(rot4_3rot)\n",
      "    print(bst)\n",
      "    print(gamma)\n",
      "    print('+++++++')\n",
      "    print(bst*boost(-1*beta, gamma).T)\n",
      "    print('+++++++')\n",
      "    print(rot4_3rot*rot4_3rot.T)\n",
      "    return bst*rot4_3rot\n",
      "e04 = dftmp.e04.values[0]\n",
      "e14 = dftmp.e4.values[0]\n",
      "p04 = dftmp.p04.values[0]\n",
      "rot4 = R(e04, e14, p04)\n",
      "print(w4)\n",
      "print(rot4)\n",
      "print(rot4.T)\n",
      "print(rot4.T*np.matrix(w4).T)\n",
      "print(rot4.T*rot4)"
     ],
     "language": "python",
     "metadata": {},
     "outputs": [
      {
       "output_type": "stream",
       "stream": "stdout",
       "text": [
        "[[ 2.097]\n",
        " [ 0.   ]\n",
        " [ 0.   ]\n",
        " [ 2.394]]\n",
        "[[ 1.     0.     0.     0.   ]\n",
        " [ 0.    -0.498 -0.844  0.202]\n",
        " [ 0.     0.782 -0.537 -0.317]\n",
        " [ 0.     0.376  0.     0.927]]\n",
        "[[ 1.627  0.     0.    -1.283]\n",
        " [ 0.     1.     0.     0.   ]\n",
        " [ 0.     0.     1.     0.   ]\n",
        " [-1.283  0.     0.     1.627]]\n",
        "1.62660514773\n",
        "+++++++\n",
        "[[ 1.  0.  0.  0.]\n",
        " [ 0.  1.  0.  0.]\n",
        " [ 0.  0.  1.  0.]\n",
        " [ 0.  0.  0.  1.]]\n",
        "+++++++\n",
        "[[ 1.  0.  0.  0.]\n",
        " [ 0.  1. -0.  0.]\n",
        " [ 0. -0.  1. -0.]\n",
        " [ 0.  0. -0.  1.]]\n",
        "[ 3.035  0.483 -0.759  2.219]\n",
        "[[ 1.627 -0.482  0.    -1.189]\n",
        " [ 0.    -0.498 -0.844  0.202]\n",
        " [ 0.     0.782 -0.537 -0.317]\n",
        " [-1.283  0.611  0.     1.507]]\n",
        "[[ 1.627  0.     0.    -1.283]\n",
        " [-0.482 -0.498  0.782  0.611]\n",
        " [ 0.    -0.844 -0.537  0.   ]\n",
        " [-1.189  0.202 -0.317  1.507]]\n",
        "[[ 2.091]\n",
        " [-0.941]\n",
        " [ 0.   ]\n",
        " [ 0.074]]\n",
        "[[ 4.292 -1.568  0.    -3.868]\n",
        " [-1.568  1.465  0.     1.146]\n",
        " [ 0.     0.     1.     0.   ]\n",
        " [-3.868  1.146  0.     3.827]]\n"
       ]
      }
     ],
     "prompt_number": 114
    },
    {
     "cell_type": "code",
     "collapsed": false,
     "input": [
      "sqrt2 = lambda x: sqrt(x) if x >= 0 else -sqrt(-x)\n",
      "g = np.array([1, -1, -1, -1])\n",
      "\n",
      "boost = lambda beta, gamma: np.array([ [gamma,0,0,-beta*gamma], [0,1,0,0], [0,0,1,0], [-beta*gamma,0, 0, gamma] ])\n",
      "def R(e04, e14, p04):\n",
      "    e0, e1 = e04[1:], e14[1:]\n",
      "    q = (e0-e1)\n",
      "    v3 = q/la.norm(q)\n",
      "    v2 = ft.partial(lambda x: x/la.norm(x), np.cross(e0,e1))()\n",
      "    v1 = np.cross(v2, v3)\n",
      "    v = np.array([v1, v2, v3])\n",
      "    rot4_3rot = np.hstack(([[1], [0], [0], [0]], np.vstack(([[0, 0, 0]], v))))\n",
      "    w4 = e04-e14+p04\n",
      "    E, p = w4[0], la.norm(w4[1:])\n",
      "    m = sqrt2(E*E-p*p)\n",
      "    beta, gamma = E/p, E/m\n",
      "    print(rot4_3rot)\n",
      "    return boost(beta, gamma).dot(rot4_3rot)"
     ],
     "language": "python",
     "metadata": {},
     "outputs": [],
     "prompt_number": 45
    },
    {
     "cell_type": "code",
     "collapsed": false,
     "input": [
      "from numpy.linalg import norm\n",
      "la.norm([3, 3])\n",
      "np.set_printoptions(precision=3, suppress=True)\n",
      "dftmp = dfkin[0:2]\n",
      "e04 = dftmp.e04.values[0]\n",
      "e14 = dftmp.e4.values[0]\n",
      "p04 = dftmp.p04.values[0]\n",
      "w4 = e04-e14+p04\n",
      "E = w4[0]\n",
      "p = sqrt(w4[1:].dot(w4[1:]))\n",
      "m = sqrt(E*E-p*p)\n",
      "bst = boost(E/p, E/m)\n",
      "rot4 = R(e04, e14, p04)\n",
      "for k, v in { 'e04':e04, 'e14':e14, 'p04':p04, 'w4':w4, 'E':E, 'p':p, 'm':m, 'boost':bst, 'rot4':rot4 }.items():\n",
      "    print(k, v)"
     ],
     "language": "python",
     "metadata": {},
     "outputs": [
      {
       "output_type": "stream",
       "stream": "stdout",
       "text": [
        "[[ 1.     0.     0.     0.   ]\n",
        " [ 0.    -0.498  0.782  0.376]\n",
        " [ 0.    -0.844 -0.537  0.   ]\n",
        " [ 0.     0.202 -0.317  0.927]]\n",
        "('p', 2.3940350902672733)\n",
        "('w4', array([ 3.035,  0.483, -0.759,  2.219]))\n",
        "('E', 3.0354164218902584)\n",
        "('p04', array([ 0.938,  0.   ,  0.   ,  0.   ]))\n",
        "('boost', array([[ 1.627,  0.   ,  0.   , -2.062],\n",
        "       [ 0.   ,  1.   ,  0.   ,  0.   ],\n",
        "       [ 0.   ,  0.   ,  1.   ,  0.   ],\n",
        "       [-2.062,  0.   ,  0.   ,  1.627]]))\n",
        "('e04', array([ 5.497,  0.   ,  0.   ,  5.497]))\n",
        "('m', 1.8661052598527308)\n",
        "('e14', array([ 3.4  , -0.483,  0.759,  3.278], dtype=float32))\n",
        "('rot4', array([[ 1.627, -0.416,  0.654, -1.911],\n",
        "       [ 0.   , -0.498,  0.782,  0.376],\n",
        "       [ 0.   , -0.844, -0.537,  0.   ],\n",
        "       [-2.062,  0.328, -0.516,  1.507]]))\n"
       ]
      }
     ],
     "prompt_number": 46
    },
    {
     "cell_type": "code",
     "collapsed": false,
     "input": [
      "# http://stackoverflow.com/questions/6802577/python-rotation-of-3d-vector\n",
      "# unutbu says\n",
      "import numpy as np\n",
      "\n",
      "def rotation_matrix(axis, phi):\n",
      "    axis = axis/np.sqrt(np.dot(axis,axis))\n",
      "    a = np.cos(phi/2)\n",
      "    b,c,d = -axis*np.sin(phi/2)\n",
      "    return np.array([[a*a+b*b-c*c-d*d, 2*(b*c-a*d), 2*(b*d+a*c)],\n",
      "                     [2*(b*c+a*d), a*a+c*c-b*b-d*d, 2*(c*d-a*b)],\n",
      "                     [2*(b*d-a*c), 2*(c*d+a*b), a*a+d*d-b*b-c*c]])\n",
      "\n",
      "v = np.array([1,0,0])\n",
      "axis = np.array([0,1,0])\n",
      "phi = pi/2\n",
      "\n",
      "print(np.dot(rotation_matrix(axis,phi),v))\n",
      "# same page, juniper- says: using weave gives 20x improvement"
     ],
     "language": "python",
     "metadata": {},
     "outputs": [
      {
       "output_type": "stream",
       "stream": "stdout",
       "text": [
        "[  2.22044605e-16   0.00000000e+00   1.00000000e+00]\n"
       ]
      }
     ],
     "prompt_number": 74
    },
    {
     "cell_type": "code",
     "collapsed": false,
     "input": [
      "import numpy as np\n",
      "import numpy.linalg as la\n",
      "import functools as ft\n",
      "\n",
      "def R(e0, e1):\n",
      "    q = (e0-e1)\n",
      "    v3 = q/la.norm(q)\n",
      "    v2 = ft.partial(lambda x: x/la.norm(x), np.cross(e0,e1))()\n",
      "    v1 = np.cross(v2, v3)\n",
      "    v = np.array([v1, v2, v3])\n",
      "    return v\n",
      "\n",
      "e0 = np.array([0, 0, 1])\n",
      "e1 = np.array([0, 1, 0])\n",
      "\n",
      "print(rot(e0, e1))"
     ],
     "language": "python",
     "metadata": {},
     "outputs": [
      {
       "output_type": "stream",
       "stream": "stdout",
       "text": [
        "[[ 0.          0.70710678  0.70710678]\n",
        " [-1.          0.          0.        ]\n",
        " [ 0.         -0.70710678  0.70710678]]\n"
       ]
      }
     ],
     "prompt_number": 92
    },
    {
     "cell_type": "code",
     "collapsed": false,
     "input": [
      "import numpy as np\n",
      "import numpy.linalg as la\n",
      "import functools as ft\n",
      "# from new coordinate system\n",
      "# u->v\n",
      "\n",
      "u = np.array([[1, 0, 0], [0, 1, 0], [0, 0, 1]])\n",
      "\n",
      "e0 = np.array([0, 0, 1])\n",
      "e1 = np.array([0, 1, 0])\n",
      "q = (e0-e1)\n",
      "v3 = q/la.norm(q)\n",
      "v2 = ft.partial(lambda x: x/la.norm(x), np.cross(e0,e1))()\n",
      "v1 = np.cross(v2, v3)\n",
      "v = np.array([v1, v2, v3])\n",
      "\n",
      "def rot(e0, e1):\n",
      "    q = (e0-e1)\n",
      "    v3 = q/la.norm(q)\n",
      "    v2 = ft.partial(lambda x: x/la.norm(x), np.cross(e0,e1))()\n",
      "    v1 = np.cross(v2, v3)\n",
      "    v = np.array([v1, v2, v3])\n",
      "    return v\n",
      "\n",
      "print(e0)\n",
      "print(e1)\n",
      "print(q)\n",
      "print(v1)\n",
      "print(v2)\n",
      "print(v3)\n",
      "print(v)\n",
      "print(u)\n",
      "np.dot(u, v)"
     ],
     "language": "python",
     "metadata": {},
     "outputs": [
      {
       "output_type": "stream",
       "stream": "stdout",
       "text": [
        "[0 0 1]\n",
        "[0 1 0]\n",
        "[ 0 -1  1]\n",
        "[ 0.          0.70710678  0.70710678]\n",
        "[-1.  0.  0.]\n",
        "[ 0.         -0.70710678  0.70710678]\n",
        "[[ 0.          0.70710678  0.70710678]\n",
        " [-1.          0.          0.        ]\n",
        " [ 0.         -0.70710678  0.70710678]]\n",
        "[[1 0 0]\n",
        " [0 1 0]\n",
        " [0 0 1]]\n"
       ]
      },
      {
       "output_type": "pyout",
       "prompt_number": 91,
       "text": [
        "array([[ 0.        ,  0.70710678,  0.70710678],\n",
        "       [-1.        ,  0.        ,  0.        ],\n",
        "       [ 0.        , -0.70710678,  0.70710678]])"
       ]
      }
     ],
     "prompt_number": 91
    },
    {
     "cell_type": "code",
     "collapsed": false,
     "input": [
      "\"\"\"\n",
      "From my C++ code, evt.h...\n",
      "\n",
      "\tvoid CalcRot() {\n",
      "\t\tif (_3rot) delete _3rot;\n",
      "\t\tif (_4rot) delete _4rot;\n",
      "\t\tif (_boost) delete _boost;\n",
      "\t\tTVector3 uz = _q->Vect().Unit();\n",
      "\t\tTVector3 ux = (_e0->Vect().Cross(_e1->Vect())).Unit();\n",
      "\t\tux.Rotate(-PiOver2(),uz);\n",
      "\t\t_3rot = new TRotation();\n",
      "\t\t_3rot->SetZAxis(uz,ux).Invert();\n",
      "\t\t//_w and _q are in z-direction\n",
      "\t\t_boost = new TVector3(-1*_w->BoostVector());\n",
      "\t\t_4rot = new TLorentzRotation(*_3rot); //*_boost);\n",
      "\t\t*_4rot *= *_boost; //*_3rot;\n",
      "\t}\n",
      "\"\"\"\n",
      "\n"
     ],
     "language": "python",
     "metadata": {},
     "outputs": [],
     "prompt_number": 76
    },
    {
     "cell_type": "markdown",
     "metadata": {},
     "source": [
      "## Apply only works with same shape return value!"
     ]
    },
    {
     "cell_type": "code",
     "collapsed": false,
     "input": [
      "# df.apply(lambda x: x['mcp'][x['idxE']], axis=1)\n",
      "# df[['energy','px','py','pz']].shape\n",
      "print(df.energy.shape)\n",
      "print(df.px.shape)\n",
      "print(df.py.shape)\n",
      "print(df.pz.shape)\n",
      "print(df[['energy','px','py','pz']].shape)\n",
      "g = np.array([1, -1, -1, -1])\n",
      "e04 = np.array([5.497, 0, 0, 5.497])\n",
      "p04 = np.array([0.938, 0, 0, 0])\n",
      "sqrt2 = lambda x: sqrt(x) if x >= 0 else -sqrt(-x)\n",
      "#v4idxs = [10, 9, 8, 7]\n",
      "v4idxs = ['energy', 'px', 'py', 'pz']\n",
      "def test(x):\n",
      "    i = v4idxs\n",
      "    e4 = np.array([x[i[0]][0], x[i[1]][0], x[i[2]][0], x[i[3]][0]])\n",
      "    p4 = np.array([x[i[0]][1], x[i[1]][1], x[i[2]][1], x[i[3]][1]])\n",
      "    pip4 = np.array([x[i[0]][2], x[i[1]][2], x[i[2]][2], x[i[3]][2]])\n",
      "    pim4 = np.array([x[i[0]][3], x[i[1]][3], x[i[2]][3], x[i[3]][3]])\n",
      "    pi04 = np.array([x[i[0]][4], x[i[1]][4], x[i[2]][4], x[i[3]][4]])\n",
      "    q4 = e04-e4\n",
      "    w4 = q4+p04\n",
      "    Q2 = -np.sum(q4*g*q4)\n",
      "    s = np.sum(w4*g*w4)\n",
      "    W = sqrt2(s)\n",
      "    return pd.Series(data=(e04, p04, e4, p4, pip4, pim4, pi04, q4, w4, Q2, W, s))\n",
      "    #return pd.DataFrame( {'e4':e4, 'p4':p4, 'pip4':pip4, 'pim4':pim4, 'pi04':pi04, 'q4':q4, 'w4':w4, 'Q2':Q2, 'W':W, 's':s} )\n",
      "    # return pd.Series(np.array([x[1][2], x[2][2], x[3][2], x[4][2]]))\n",
      "# pd.concat([ pd.DataFrame(x) for x in [df.energy, df.px, df.py, df.pz] ], axis=1).shape\n",
      "dftest = df.apply(test, axis=1)\n",
      "# dftest.columns = ['e4', 'p4', 'pip4', 'pim4', 'pi04', 'q4', 'w4', 'Q2', 'W', 's']\n",
      "#dftest = df[['energy','px','py','pz']].reset_index().apply(lambda x: pd.Series(x[2]), axis=1)"
     ],
     "language": "python",
     "metadata": {},
     "outputs": [
      {
       "output_type": "stream",
       "stream": "stdout",
       "text": [
        "(100001,)\n",
        "(100001,)\n",
        "(100001,)\n",
        "(100001,)\n",
        "(100001, 4)\n"
       ]
      }
     ],
     "prompt_number": 23
    },
    {
     "cell_type": "code",
     "collapsed": false,
     "input": [
      "dftest"
     ],
     "language": "python",
     "metadata": {},
     "outputs": [
      {
       "html": [
        "<pre>\n",
        "&ltclass 'pandas.core.frame.DataFrame'&gt\n",
        "Int64Index: 100001 entries, 0 to 100000\n",
        "Data columns (total 12 columns):\n",
        "0     100001  non-null values\n",
        "1     100001  non-null values\n",
        "2     100001  non-null values\n",
        "3     100001  non-null values\n",
        "4     100001  non-null values\n",
        "5     100001  non-null values\n",
        "6     100001  non-null values\n",
        "7     100001  non-null values\n",
        "8     100001  non-null values\n",
        "9     100001  non-null values\n",
        "10    100001  non-null values\n",
        "11    100001  non-null values\n",
        "dtypes: object(12)\n",
        "</pre>"
       ],
       "output_type": "pyout",
       "prompt_number": 24,
       "text": [
        "<class 'pandas.core.frame.DataFrame'>\n",
        "Int64Index: 100001 entries, 0 to 100000\n",
        "Data columns (total 12 columns):\n",
        "0     100001  non-null values\n",
        "1     100001  non-null values\n",
        "2     100001  non-null values\n",
        "3     100001  non-null values\n",
        "4     100001  non-null values\n",
        "5     100001  non-null values\n",
        "6     100001  non-null values\n",
        "7     100001  non-null values\n",
        "8     100001  non-null values\n",
        "9     100001  non-null values\n",
        "10    100001  non-null values\n",
        "11    100001  non-null values\n",
        "dtypes: object(12)"
       ]
      }
     ],
     "prompt_number": 24
    },
    {
     "cell_type": "code",
     "collapsed": false,
     "input": [
      "def test(x):\n",
      "    i = v4idxs\n",
      "    e4 = np.array([x[i[0]][0], x[i[1]][0], x[i[2]][0], x[i[3]][0]])\n",
      "    p4 = np.array([x[i[0]][1], x[i[1]][1], x[i[2]][1], x[i[3]][1]])\n",
      "    pip4 = np.array([x[i[0]][2], x[i[1]][2], x[i[2]][2], x[i[3]][2]])\n",
      "    pim4 = np.array([x[i[0]][3], x[i[1]][3], x[i[2]][3], x[i[3]][3]])\n",
      "    pi04 = np.array([x[i[0]][4], x[i[1]][4], x[i[2]][4], x[i[3]][4]])\n",
      "    q4 = e04-e4\n",
      "    w4 = q4+p04\n",
      "    Q2 = -np.sum(q4*g*q4)\n",
      "    s = np.sum(w4*g*w4)\n",
      "    W = sqrt2(s)\n",
      "    # return (e4, p4, pip4, pim4, pi04, q4, w4, Q2, W, s)\n",
      "    return pd.DataFrame( {'e04':e04, 'p04':p04, 'e4':e4, 'p4':p4, 'pip4':pip4, 'pim4':pim4, 'pi04':pi04, 'q4':q4, 'w4':w4, 'Q2':Q2, 'W':W, 's':s} )\n",
      "\n",
      "def c4v(icomp):\n",
      "    i = ['energy', 'px', 'py', 'pz']\n",
      "    return lambda x: np.array([x[i[0]][icomp], x[i[1]][icomp], x[i[2]][icomp], x[i[3]][icomp]])\n",
      "\n",
      "# dftest = df.groupby(level=0).apply(test)\n",
      "# dftest = df[0:3].groupby(level=0).apply(lambda x: pd.DataFrame({'pzB':x['pz'][0], 'eB':x['energy'][0]}))\n",
      "# dftest = df[0:3].groupby(level=0).agg({'e4':c4v(0), 'p4':c4v(1)})\n",
      "grpd = df[0:3].groupby(level=0)\n",
      "# .agg([lambda x,y: x, lambda x,y: x[0]] ) # [c4v(0), c4v(1)])\n",
      "grpd.apply(lambda x: (x.energy.values))"
     ],
     "language": "python",
     "metadata": {},
     "outputs": [
      {
       "ename": "AttributeError",
       "evalue": "'numpy.ndarray' object has no attribute 'index'",
       "output_type": "pyerr",
       "traceback": [
        "\u001b[1;31m---------------------------------------------------------------------------\u001b[0m\n\u001b[1;31mAttributeError\u001b[0m                            Traceback (most recent call last)",
        "\u001b[1;32m<ipython-input-161-8e65ba9ab3ad>\u001b[0m in \u001b[0;36m<module>\u001b[1;34m()\u001b[0m\n\u001b[0;32m     23\u001b[0m \u001b[0mgrpd\u001b[0m \u001b[1;33m=\u001b[0m \u001b[0mdf\u001b[0m\u001b[1;33m[\u001b[0m\u001b[1;36m0\u001b[0m\u001b[1;33m:\u001b[0m\u001b[1;36m3\u001b[0m\u001b[1;33m]\u001b[0m\u001b[1;33m.\u001b[0m\u001b[0mgroupby\u001b[0m\u001b[1;33m(\u001b[0m\u001b[0mlevel\u001b[0m\u001b[1;33m=\u001b[0m\u001b[1;36m0\u001b[0m\u001b[1;33m)\u001b[0m\u001b[1;33m\u001b[0m\u001b[0m\n\u001b[0;32m     24\u001b[0m \u001b[1;31m# .agg([lambda x,y: x, lambda x,y: x[0]] ) # [c4v(0), c4v(1)])\u001b[0m\u001b[1;33m\u001b[0m\u001b[1;33m\u001b[0m\u001b[0m\n\u001b[1;32m---> 25\u001b[1;33m \u001b[0mgrpd\u001b[0m\u001b[1;33m.\u001b[0m\u001b[0mapply\u001b[0m\u001b[1;33m(\u001b[0m\u001b[1;32mlambda\u001b[0m \u001b[0mx\u001b[0m\u001b[1;33m:\u001b[0m \u001b[1;33m(\u001b[0m\u001b[0mx\u001b[0m\u001b[1;33m.\u001b[0m\u001b[0menergy\u001b[0m\u001b[1;33m.\u001b[0m\u001b[0mvalues\u001b[0m\u001b[1;33m)\u001b[0m\u001b[1;33m)\u001b[0m\u001b[1;33m\u001b[0m\u001b[0m\n\u001b[0m",
        "\u001b[1;32m/usr/local/lib/python2.7/dist-packages/pandas/core/groupby.pyc\u001b[0m in \u001b[0;36mapply\u001b[1;34m(self, func, *args, **kwargs)\u001b[0m\n\u001b[0;32m    323\u001b[0m         \u001b[0mfunc\u001b[0m \u001b[1;33m=\u001b[0m \u001b[0m_intercept_function\u001b[0m\u001b[1;33m(\u001b[0m\u001b[0mfunc\u001b[0m\u001b[1;33m)\u001b[0m\u001b[1;33m\u001b[0m\u001b[0m\n\u001b[0;32m    324\u001b[0m         \u001b[0mf\u001b[0m \u001b[1;33m=\u001b[0m \u001b[1;32mlambda\u001b[0m \u001b[0mg\u001b[0m\u001b[1;33m:\u001b[0m \u001b[0mfunc\u001b[0m\u001b[1;33m(\u001b[0m\u001b[0mg\u001b[0m\u001b[1;33m,\u001b[0m \u001b[1;33m*\u001b[0m\u001b[0margs\u001b[0m\u001b[1;33m,\u001b[0m \u001b[1;33m**\u001b[0m\u001b[0mkwargs\u001b[0m\u001b[1;33m)\u001b[0m\u001b[1;33m\u001b[0m\u001b[0m\n\u001b[1;32m--> 325\u001b[1;33m         \u001b[1;32mreturn\u001b[0m \u001b[0mself\u001b[0m\u001b[1;33m.\u001b[0m\u001b[0m_python_apply_general\u001b[0m\u001b[1;33m(\u001b[0m\u001b[0mf\u001b[0m\u001b[1;33m)\u001b[0m\u001b[1;33m\u001b[0m\u001b[0m\n\u001b[0m\u001b[0;32m    326\u001b[0m \u001b[1;33m\u001b[0m\u001b[0m\n\u001b[0;32m    327\u001b[0m     \u001b[1;32mdef\u001b[0m \u001b[0m_python_apply_general\u001b[0m\u001b[1;33m(\u001b[0m\u001b[0mself\u001b[0m\u001b[1;33m,\u001b[0m \u001b[0mf\u001b[0m\u001b[1;33m)\u001b[0m\u001b[1;33m:\u001b[0m\u001b[1;33m\u001b[0m\u001b[0m\n",
        "\u001b[1;32m/usr/local/lib/python2.7/dist-packages/pandas/core/groupby.pyc\u001b[0m in \u001b[0;36m_python_apply_general\u001b[1;34m(self, f)\u001b[0m\n\u001b[0;32m    329\u001b[0m \u001b[1;33m\u001b[0m\u001b[0m\n\u001b[0;32m    330\u001b[0m         return self._wrap_applied_output(keys, values,\n\u001b[1;32m--> 331\u001b[1;33m                                          not_indexed_same=mutated)\n\u001b[0m\u001b[0;32m    332\u001b[0m \u001b[1;33m\u001b[0m\u001b[0m\n\u001b[0;32m    333\u001b[0m     \u001b[1;32mdef\u001b[0m \u001b[0maggregate\u001b[0m\u001b[1;33m(\u001b[0m\u001b[0mself\u001b[0m\u001b[1;33m,\u001b[0m \u001b[0mfunc\u001b[0m\u001b[1;33m,\u001b[0m \u001b[1;33m*\u001b[0m\u001b[0margs\u001b[0m\u001b[1;33m,\u001b[0m \u001b[1;33m**\u001b[0m\u001b[0mkwargs\u001b[0m\u001b[1;33m)\u001b[0m\u001b[1;33m:\u001b[0m\u001b[1;33m\u001b[0m\u001b[0m\n",
        "\u001b[1;32m/usr/local/lib/python2.7/dist-packages/pandas/core/groupby.pyc\u001b[0m in \u001b[0;36m_wrap_applied_output\u001b[1;34m(self, keys, values, not_indexed_same)\u001b[0m\n\u001b[0;32m   1859\u001b[0m                         stacked_values = np.vstack([np.asarray(x)\n\u001b[0;32m   1860\u001b[0m                                                     for x in values])\n\u001b[1;32m-> 1861\u001b[1;33m                         \u001b[0mcolumns\u001b[0m \u001b[1;33m=\u001b[0m \u001b[0mvalues\u001b[0m\u001b[1;33m[\u001b[0m\u001b[1;36m0\u001b[0m\u001b[1;33m]\u001b[0m\u001b[1;33m.\u001b[0m\u001b[0mindex\u001b[0m\u001b[1;33m\u001b[0m\u001b[0m\n\u001b[0m\u001b[0;32m   1862\u001b[0m                         \u001b[0mindex\u001b[0m \u001b[1;33m=\u001b[0m \u001b[0mkey_index\u001b[0m\u001b[1;33m\u001b[0m\u001b[0m\n\u001b[0;32m   1863\u001b[0m                     \u001b[1;32melse\u001b[0m\u001b[1;33m:\u001b[0m\u001b[1;33m\u001b[0m\u001b[0m\n",
        "\u001b[1;31mAttributeError\u001b[0m: 'numpy.ndarray' object has no attribute 'index'"
       ]
      }
     ],
     "prompt_number": 161
    },
    {
     "cell_type": "code",
     "collapsed": false,
     "input": [
      "dftest['pzB'][0]["
     ],
     "language": "python",
     "metadata": {},
     "outputs": [
      {
       "output_type": "pyout",
       "prompt_number": 122,
       "text": [
        "array([ 3.278404  ,  0.69253618,  1.00598752,  0.05804169,  0.46203116], dtype=float32)"
       ]
      }
     ],
     "prompt_number": 122
    },
    {
     "cell_type": "markdown",
     "metadata": {},
     "source": [
      "## Load data frame\n",
      "### (if already pickled, per next section)"
     ]
    },
    {
     "cell_type": "code",
     "collapsed": false,
     "input": [
      "import pandas as pd\n",
      "df = pd.DataFrame.load('../testdata/genev100_a.p')\n",
      "print(df)"
     ],
     "language": "python",
     "metadata": {},
     "outputs": [
      {
       "output_type": "stream",
       "stream": "stdout",
       "text": [
        "<class 'pandas.core.frame.DataFrame'>\n",
        "MultiIndex: 500005 entries, (0, 0) to (100000, 4)\n",
        "Data columns (total 9 columns):\n",
        "mcid       500005  non-null values\n",
        "mcm        500005  non-null values\n",
        "mcp        500005  non-null values\n",
        "mcphi      500005  non-null values\n",
        "mctheta    500005  non-null values\n",
        "pz         500005  non-null values\n",
        "px         500005  non-null values\n",
        "py         500005  non-null values\n",
        "E          500005  non-null values\n",
        "dtypes: float32(8), int32(1)\n"
       ]
      }
     ],
     "prompt_number": 1
    },
    {
     "cell_type": "code",
     "collapsed": false,
     "input": [
      "dftmp = df[0:20]"
     ],
     "language": "python",
     "metadata": {},
     "outputs": [],
     "prompt_number": 2
    },
    {
     "cell_type": "code",
     "collapsed": false,
     "input": [
      "df.px"
     ],
     "language": "python",
     "metadata": {},
     "outputs": [
      {
       "output_type": "pyout",
       "prompt_number": 25,
       "text": [
        "0  0   -0.364776\n",
        "   1   -0.430062\n",
        "   2    0.280535\n",
        "   3    0.502209\n",
        "   4    0.012094\n",
        "1  0   -0.364776\n",
        "   1   -0.430062\n",
        "   2    0.280535\n",
        "   3    0.502209\n",
        "   4    0.012094\n",
        "2  0   -0.364776\n",
        "   1   -0.430062\n",
        "   2    0.280535\n",
        "   3    0.502209\n",
        "   4    0.012094\n",
        "...\n",
        "99998   0   -0.364776\n",
        "        1   -0.430062\n",
        "        2    0.280535\n",
        "        3    0.502209\n",
        "        4    0.012094\n",
        "99999   0   -0.364776\n",
        "        1   -0.430062\n",
        "        2    0.280535\n",
        "        3    0.502209\n",
        "        4    0.012094\n",
        "100000  0   -0.364776\n",
        "        1   -0.430062\n",
        "        2    0.280535\n",
        "        3    0.502209\n",
        "        4    0.012094\n",
        "Name: px, Length: 500005, dtype: float32"
       ]
      }
     ],
     "prompt_number": 25
    },
    {
     "cell_type": "code",
     "collapsed": false,
     "input": [],
     "language": "python",
     "metadata": {},
     "outputs": [
      {
       "output_type": "pyout",
       "prompt_number": 23,
       "text": [
        "0   -3.520399e-08\n",
        "1   -3.520399e-08\n",
        "2   -3.520399e-08\n",
        "3   -3.520399e-08\n",
        "Name: px, dtype: float32"
       ]
      }
     ],
     "prompt_number": 23
    },
    {
     "cell_type": "markdown",
     "metadata": {},
     "source": [
      "## Add LorentzVectors to DataFrame"
     ]
    },
    {
     "cell_type": "code",
     "collapsed": false,
     "input": [
      "d2r = pi/180.0\n",
      "lvs = {'pz':np.cos(d2r*df.mctheta)*df.mcp,\n",
      "       'py':np.sin(d2r*df.mctheta)*np.sin(d2r*df.mcphi)*df.mcp,\n",
      "       'px':np.sin(d2r*df.mctheta)*np.cos(d2r*df.mcphi)*df.mcp,\n",
      "       'E': np.sqrt(df.mcp*df.mcp + df.mcm*df.mcm)}"
     ],
     "language": "python",
     "metadata": {},
     "outputs": [],
     "prompt_number": 2
    },
    {
     "cell_type": "code",
     "collapsed": false,
     "input": [
      "for k,v in lvs.items():\n",
      "    df[k] = v\n",
      "\n",
      "df.columns"
     ],
     "language": "python",
     "metadata": {},
     "outputs": [
      {
       "output_type": "pyout",
       "prompt_number": 4,
       "text": [
        "Index([mcid, mcm, mcp, mcphi, mctheta, pz, px, py, E], dtype=object)"
       ]
      }
     ],
     "prompt_number": 4
    },
    {
     "cell_type": "code",
     "collapsed": false,
     "input": [
      "from rootpy.math.physics.vector import LorentzVector"
     ],
     "language": "python",
     "metadata": {},
     "outputs": [],
     "prompt_number": 9
    },
    {
     "cell_type": "code",
     "collapsed": false,
     "input": [
      "def getlv(px, py, pz, e):\n",
      "    return LorentzVector(px, py, pz, e)\n",
      "\n",
      "vgetlv = np.vectorize(getlv)"
     ],
     "language": "python",
     "metadata": {},
     "outputs": [],
     "prompt_number": 10
    },
    {
     "cell_type": "code",
     "collapsed": false,
     "input": [
      "lvs = vgetlv(df.px, df.py, df.pz, df.E)"
     ],
     "language": "python",
     "metadata": {},
     "outputs": [],
     "prompt_number": 11
    },
    {
     "cell_type": "code",
     "collapsed": false,
     "input": [
      "df['lv'] = lvs\n",
      "df.columns"
     ],
     "language": "python",
     "metadata": {},
     "outputs": [
      {
       "output_type": "pyout",
       "prompt_number": 17,
       "text": [
        "Index([mcid, mcm, mcp, mcphi, mctheta, pz, px, py, E, lv], dtype=object)"
       ]
      }
     ],
     "prompt_number": 17
    },
    {
     "cell_type": "code",
     "collapsed": false,
     "input": [
      "df.save('../testdata/genev100_a.p')"
     ],
     "language": "python",
     "metadata": {},
     "outputs": [],
     "prompt_number": 18
    },
    {
     "cell_type": "markdown",
     "metadata": {},
     "source": [
      "## Munge tree data and pickle"
     ]
    },
    {
     "cell_type": "code",
     "collapsed": false,
     "input": [
      "from rootpy.io import root_open\n",
      "from rootpy import asrootpy\n",
      "from rootpy.tree import Tree\n",
      "\n",
      "from rootpy.math.physics.vector import LorentzVector\n",
      "from rootpy.math.physics.vector import LorentzRotation\n",
      "from rootpy.math.physics.vector import Vector3\n",
      "from rootpy.math.physics.vector import Rotation\n",
      "\n",
      "from root_numpy import root2rec, root2array\n",
      "\n",
      "BEAM_E1F = 5.497\n",
      "E0_E1F = LorentzVector(0, 0, BEAM_E1F, BEAM_E1F)"
     ],
     "language": "python",
     "metadata": {},
     "outputs": [
      {
       "output_type": "stream",
       "stream": "stderr",
       "text": [
        "/home/ephelps/.local/lib/python2.7/site-packages/rootpy-dev-py2.7.egg/rootpy/compiled/__init__.py:6: UserWarning: Module readline was already imported from /usr/lib/python2.7/lib-dynload/readline.so, but /usr/local/lib/python2.7/dist-packages is being added to sys.path\n",
        "  import pkg_resources\n"
       ]
      }
     ],
     "prompt_number": 1
    },
    {
     "cell_type": "code",
     "collapsed": false,
     "input": [
      "ar = root2rec('../testdata/genev100_a.root',\n",
      "              branches=['mcid', 'mcm', 'mcp', 'mctheta', 'mcphi'])\n",
      "nparts = root2array('../testdata/genev100_a.root',\n",
      "              branches=['mcnpart']).astype(int)"
     ],
     "language": "python",
     "metadata": {},
     "outputs": [],
     "prompt_number": 2
    },
    {
     "cell_type": "code",
     "collapsed": false,
     "input": [
      "import pandas as pd\n",
      "df = pd.DataFrame(ar)\n",
      "#idxevt = np.array([df.index]*5).T.flatten()\n",
      "idxevt = np.repeat(df.index, nparts)\n",
      "idxprt = np.array([np.arange(0, npart) for npart in nparts]).flatten()"
     ],
     "language": "python",
     "metadata": {},
     "outputs": [],
     "prompt_number": 4
    },
    {
     "cell_type": "code",
     "collapsed": false,
     "input": [
      "# convert series of arrays into multiindexed series of numbers\n",
      "ss = [reduce(lambda x, y: pd.Series(x).append(pd.Series(y)), s).reindex([idxevt, idxprt], level=1) for s in [df[cname].values for cname in df.columns]]\n",
      "# SLOW.  probably much faster to convert each series of arrays into 2d numpy array and then slice"
     ],
     "language": "python",
     "metadata": {},
     "outputs": [],
     "prompt_number": 5
    },
    {
     "cell_type": "code",
     "collapsed": false,
     "input": [
      "df2 = pd.DataFrame(dict(zip(df.columns, ss)))"
     ],
     "language": "python",
     "metadata": {},
     "outputs": [],
     "prompt_number": 6
    },
    {
     "cell_type": "code",
     "collapsed": false,
     "input": [
      "print(df2)\n",
      "df2.describe()"
     ],
     "language": "python",
     "metadata": {},
     "outputs": [
      {
       "output_type": "stream",
       "stream": "stdout",
       "text": [
        "<class 'pandas.core.frame.DataFrame'>\n",
        "MultiIndex: 500005 entries, (0, 0) to (100000, 4)\n",
        "Data columns (total 5 columns):\n",
        "mcid       500005  non-null values\n",
        "mcm        500005  non-null values\n",
        "mcp        500005  non-null values\n",
        "mcphi      500005  non-null values\n",
        "mctheta    500005  non-null values\n",
        "dtypes: float32(4), int32(1)\n"
       ]
      },
      {
       "html": [
        "<div style=\"max-height:1000px;max-width:1500px;overflow:auto;\">\n",
        "<table border=\"1\" class=\"dataframe\">\n",
        "  <thead>\n",
        "    <tr style=\"text-align: right;\">\n",
        "      <th></th>\n",
        "      <th>mcid</th>\n",
        "      <th>mcm</th>\n",
        "      <th>mcp</th>\n",
        "      <th>mcphi</th>\n",
        "      <th>mctheta</th>\n",
        "    </tr>\n",
        "  </thead>\n",
        "  <tbody>\n",
        "    <tr>\n",
        "      <th>count</th>\n",
        "      <td> 500005.000000</td>\n",
        "      <td> 500005.000000</td>\n",
        "      <td> 500005.000000</td>\n",
        "      <td> 500005.000000</td>\n",
        "      <td> 500005.000000</td>\n",
        "    </tr>\n",
        "    <tr>\n",
        "      <th>mean</th>\n",
        "      <td>    466.800000</td>\n",
        "      <td>      0.270543</td>\n",
        "      <td>      1.204811</td>\n",
        "      <td>    219.918854</td>\n",
        "      <td>     26.759470</td>\n",
        "    </tr>\n",
        "    <tr>\n",
        "      <th>std</th>\n",
        "      <td>    883.733513</td>\n",
        "      <td>      0.337900</td>\n",
        "      <td>      0.871938</td>\n",
        "      <td>    103.399330</td>\n",
        "      <td>      7.545522</td>\n",
        "    </tr>\n",
        "    <tr>\n",
        "      <th>min</th>\n",
        "      <td>   -211.000000</td>\n",
        "      <td>      0.000511</td>\n",
        "      <td>      0.431022</td>\n",
        "      <td>     85.855698</td>\n",
        "      <td>     13.756502</td>\n",
        "    </tr>\n",
        "    <tr>\n",
        "      <th>25%</th>\n",
        "      <td>     11.000000</td>\n",
        "      <td>      0.134974</td>\n",
        "      <td>      0.604054</td>\n",
        "      <td>    122.230431</td>\n",
        "      <td>     22.845722</td>\n",
        "    </tr>\n",
        "    <tr>\n",
        "      <th>50%</th>\n",
        "      <td>    111.000000</td>\n",
        "      <td>      0.139567</td>\n",
        "      <td>      1.041616</td>\n",
        "      <td>    221.767731</td>\n",
        "      <td>     29.750919</td>\n",
        "    </tr>\n",
        "    <tr>\n",
        "      <th>75%</th>\n",
        "      <td>    211.000000</td>\n",
        "      <td>      0.139568</td>\n",
        "      <td>      1.076466</td>\n",
        "      <td>    327.403809</td>\n",
        "      <td>     33.452686</td>\n",
        "    </tr>\n",
        "    <tr>\n",
        "      <th>max</th>\n",
        "      <td>   2212.000000</td>\n",
        "      <td>      0.938272</td>\n",
        "      <td>      2.876268</td>\n",
        "      <td>    340.078217</td>\n",
        "      <td>     33.612129</td>\n",
        "    </tr>\n",
        "  </tbody>\n",
        "</table>\n",
        "</div>"
       ],
       "output_type": "pyout",
       "prompt_number": 7,
       "text": [
        "                mcid            mcm            mcp          mcphi        mctheta\n",
        "count  500005.000000  500005.000000  500005.000000  500005.000000  500005.000000\n",
        "mean      466.800000       0.270543       1.204811     219.918854      26.759470\n",
        "std       883.733513       0.337900       0.871938     103.399330       7.545522\n",
        "min      -211.000000       0.000511       0.431022      85.855698      13.756502\n",
        "25%        11.000000       0.134974       0.604054     122.230431      22.845722\n",
        "50%       111.000000       0.139567       1.041616     221.767731      29.750919\n",
        "75%       211.000000       0.139568       1.076466     327.403809      33.452686\n",
        "max      2212.000000       0.938272       2.876268     340.078217      33.612129"
       ]
      }
     ],
     "prompt_number": 7
    },
    {
     "cell_type": "code",
     "collapsed": false,
     "input": [
      "df2.save('../testdata/genev100_a.p')"
     ],
     "language": "python",
     "metadata": {},
     "outputs": [],
     "prompt_number": 9
    },
    {
     "cell_type": "markdown",
     "metadata": {},
     "source": [
      "## Scratch"
     ]
    },
    {
     "cell_type": "code",
     "collapsed": false,
     "input": [
      "np.array([np.arange(0, npart) for npart in nparts]).flatten()"
     ],
     "language": "python",
     "metadata": {},
     "outputs": [
      {
       "output_type": "pyout",
       "prompt_number": 11,
       "text": [
        "array([0, 1, 2, ..., 2, 3, 4])"
       ]
      }
     ],
     "prompt_number": 11
    },
    {
     "cell_type": "code",
     "collapsed": false,
     "input": [
      "smcid = pd.Series(df['mcid'][0], index=[[0]*5, range(0,5)]).append(pd.Series(df['mcid'][1], index=[[1]*5, range(0,5)]))\n",
      "smcp = pd.Series(df['mcp'][0], index=[[0]*5, range(0,5)]).append(pd.Series(df['mcp'][1], index=[[1]*5, range(0,5)]))\n",
      "df2 = pd.DataFrame({'mcid':smcid, 'mcp':smcp})\n",
      "df2"
     ],
     "language": "python",
     "metadata": {},
     "outputs": [],
     "prompt_number": 7
    },
    {
     "cell_type": "code",
     "collapsed": false,
     "input": [
      "# in this case, mcid always contains the same 5 values, so a simple reshape would do\n",
      "# pd.Series(df.mcid[0]).reindex([idxevt, range(0,5)*df.shape[0]], level=1)\n",
      "# but lets test reduce\n",
      "reduce(lambda x, y: pd.Series(x).append(pd.Series(y)), df.mcid[0:3]).reindex([idxevt, range(0,5)*df.shape[0]], level=1)"
     ],
     "language": "python",
     "metadata": {},
     "outputs": [
      {
       "output_type": "pyout",
       "prompt_number": 45,
       "text": [
        "0  0      11\n",
        "   1    2212\n",
        "   2     211\n",
        "   3    -211\n",
        "   4     111\n",
        "1  0      11\n",
        "   1    2212\n",
        "   2     211\n",
        "   3    -211\n",
        "   4     111\n",
        "2  0      11\n",
        "   1    2212\n",
        "   2     211\n",
        "   3    -211\n",
        "   4     111\n",
        "...\n",
        "99998   0      11\n",
        "        1    2212\n",
        "        2     211\n",
        "        3    -211\n",
        "        4     111\n",
        "99999   0      11\n",
        "        1    2212\n",
        "        2     211\n",
        "        3    -211\n",
        "        4     111\n",
        "100000  0      11\n",
        "        1    2212\n",
        "        2     211\n",
        "        3    -211\n",
        "        4     111\n",
        "Length: 500005, dtype: int32"
       ]
      }
     ],
     "prompt_number": 45
    },
    {
     "cell_type": "code",
     "collapsed": false,
     "input": [
      "import os\n",
      "import multiprocessing as mp\n",
      "pool = mp.Pool(processes=4)\n",
      "def tasks(args):\n",
      "    print('PID = %d, args = %s', (os.getpid(), args))\n",
      "    return os.getpid(), args\n",
      "\n",
      "tasks('test')"
     ],
     "language": "python",
     "metadata": {},
     "outputs": [
      {
       "output_type": "stream",
       "stream": "stdout",
       "text": [
        "('PID = %d, args = %s', (28154, 'test'))\n"
       ]
      },
      {
       "output_type": "pyout",
       "prompt_number": 1,
       "text": [
        "(28154, 'test')"
       ]
      }
     ],
     "prompt_number": 1
    },
    {
     "cell_type": "code",
     "collapsed": false,
     "input": [
      "result = pool.map(tasks, range(1,9))"
     ],
     "language": "python",
     "metadata": {},
     "outputs": [],
     "prompt_number": "*"
    },
    {
     "cell_type": "code",
     "collapsed": false,
     "input": [
      "result"
     ],
     "language": "python",
     "metadata": {},
     "outputs": [],
     "prompt_number": "*"
    },
    {
     "cell_type": "code",
     "collapsed": false,
     "input": [
      "def ar2s_reidx(s):\n",
      "    from root_numpy import root2rec, root2array\n",
      "    import os\n",
      "    import pandas as pd\n",
      "    df = pd.DataFrame(ar)\n",
      "    idxevt = np.repeat(df.index, nparts)\n",
      "    idxprt = np.array([np.arange(0, npart) for npart in nparts]).flatten()\n",
      "    ar = root2rec('../testdata/genev100_a.root',\n",
      "              branches=['mcid', 'mcm', 'mcp', 'mctheta', 'mcphi'])\n",
      "    nparts = root2array('../testdata/genev100_a.root',\n",
      "              branches=['mcnpart']).astype(int)\n",
      "    print('PID = %d, args = %s' % (os.getpid(), args) )\n",
      "    return reduce(lambda x, y: pd.Series(x).append(pd.Series(y)), s).reindex([idxevt, idxpart], level=1)\n",
      "\n",
      "result = pool.map(ar2s_reidx, [df[cname].values for cname in df.columns])"
     ],
     "language": "python",
     "metadata": {},
     "outputs": [],
     "prompt_number": "*"
    },
    {
     "cell_type": "code",
     "collapsed": false,
     "input": [
      "df.columns"
     ],
     "language": "python",
     "metadata": {},
     "outputs": [
      {
       "output_type": "pyout",
       "prompt_number": 12,
       "text": [
        "Index([mcid, mcm, mcp, mcphi, mctheta, pz, px, py, E, lv], dtype=object)"
       ]
      }
     ],
     "prompt_number": 12
    },
    {
     "cell_type": "code",
     "collapsed": false,
     "input": [
      "del df['lv']"
     ],
     "language": "python",
     "metadata": {},
     "outputs": [],
     "prompt_number": 13
    },
    {
     "cell_type": "code",
     "collapsed": false,
     "input": [
      "df.save('../testdata/genev100_a.p')"
     ],
     "language": "python",
     "metadata": {},
     "outputs": [],
     "prompt_number": 14
    },
    {
     "cell_type": "code",
     "collapsed": false,
     "input": [
      "evtgrps = dftmp.groupby(level=0)"
     ],
     "language": "python",
     "metadata": {},
     "outputs": [],
     "prompt_number": 4
    },
    {
     "cell_type": "code",
     "collapsed": false,
     "input": [
      "for e in evtgrps: print(e)"
     ],
     "language": "python",
     "metadata": {},
     "outputs": [
      {
       "output_type": "stream",
       "stream": "stdout",
       "text": [
        "(0,      mcid       mcm       mcp       mcphi    mctheta        pz        px  \\\n",
        "0 0    11  0.000511  2.876268  122.230431  13.756502  2.793763 -0.364776   \n",
        "  1  2212  0.938272  1.041616  221.767731  33.612129  0.867462 -0.430062   \n",
        "  2   211  0.139568  0.604054  327.403809  33.452686  0.503987  0.280535   \n",
        "  3  -211  0.139567  1.076466  340.078217  29.750919  0.934578  0.502209   \n",
        "  4   111  0.134974  0.431022   85.855698  22.845722  0.397210  0.012094   \n",
        "\n",
        "           py         E  \n",
        "0 0  0.578573  2.876268  \n",
        "  1 -0.384084  1.401899  \n",
        "  2 -0.179383  0.619968  \n",
        "  3 -0.182013  1.085476  \n",
        "  4  0.166907  0.451661  )\n",
        "(1,      mcid       mcm       mcp       mcphi    mctheta        pz        px  \\\n",
        "1 0    11  0.000511  2.876268  122.230431  13.756502  2.793763 -0.364776   \n",
        "  1  2212  0.938272  1.041616  221.767731  33.612129  0.867462 -0.430062   \n",
        "  2   211  0.139568  0.604054  327.403809  33.452686  0.503987  0.280535   \n",
        "  3  -211  0.139567  1.076466  340.078217  29.750919  0.934578  0.502209   \n",
        "  4   111  0.134974  0.431022   85.855698  22.845722  0.397210  0.012094   \n",
        "\n",
        "           py         E  \n",
        "1 0  0.578573  2.876268  \n",
        "  1 -0.384084  1.401899  \n",
        "  2 -0.179383  0.619968  \n",
        "  3 -0.182013  1.085476  \n",
        "  4  0.166907  0.451661  )\n",
        "(2,      mcid       mcm       mcp       mcphi    mctheta        pz        px  \\\n",
        "2 0    11  0.000511  2.876268  122.230431  13.756502  2.793763 -0.364776   \n",
        "  1  2212  0.938272  1.041616  221.767731  33.612129  0.867462 -0.430062   \n",
        "  2   211  0.139568  0.604054  327.403809  33.452686  0.503987  0.280535   \n",
        "  3  -211  0.139567  1.076466  340.078217  29.750919  0.934578  0.502209   \n",
        "  4   111  0.134974  0.431022   85.855698  22.845722  0.397210  0.012094   \n",
        "\n",
        "           py         E  \n",
        "2 0  0.578573  2.876268  \n",
        "  1 -0.384084  1.401899  \n",
        "  2 -0.179383  0.619968  \n",
        "  3 -0.182013  1.085476  \n",
        "  4  0.166907  0.451661  )\n",
        "(3,      mcid       mcm       mcp       mcphi    mctheta        pz        px  \\\n",
        "3 0    11  0.000511  2.876268  122.230431  13.756502  2.793763 -0.364776   \n",
        "  1  2212  0.938272  1.041616  221.767731  33.612129  0.867462 -0.430062   \n",
        "  2   211  0.139568  0.604054  327.403809  33.452686  0.503987  0.280535   \n",
        "  3  -211  0.139567  1.076466  340.078217  29.750919  0.934578  0.502209   \n",
        "  4   111  0.134974  0.431022   85.855698  22.845722  0.397210  0.012094   \n",
        "\n",
        "           py         E  \n",
        "3 0  0.578573  2.876268  \n",
        "  1 -0.384084  1.401899  \n",
        "  2 -0.179383  0.619968  \n",
        "  3 -0.182013  1.085476  \n",
        "  4  0.166907  0.451661  )"
       ]
      },
      {
       "output_type": "stream",
       "stream": "stdout",
       "text": [
        "\n"
       ]
      }
     ],
     "prompt_number": 8
    },
    {
     "cell_type": "code",
     "collapsed": false,
     "input": [
      "for evt in [e[1] for e in evtgrps]:\n",
      "    idxelectron = evt.mcid==11\n",
      "    print(evt[idxelectron][['E', 'px', 'py', 'pz']])\n",
      "    print(type(evt[idxelectron][['E', 'px']].values[0]))"
     ],
     "language": "python",
     "metadata": {},
     "outputs": [
      {
       "output_type": "stream",
       "stream": "stdout",
       "text": [
        "            E        px        py        pz\n",
        "0 0  2.876268 -0.364776  0.578573  2.793763\n",
        "<type 'numpy.ndarray'>\n",
        "            E        px        py        pz\n",
        "1 0  2.876268 -0.364776  0.578573  2.793763\n",
        "<type 'numpy.ndarray'>\n",
        "            E        px        py        pz\n",
        "2 0  2.876268 -0.364776  0.578573  2.793763\n",
        "<type 'numpy.ndarray'>\n",
        "            E        px        py        pz\n",
        "3 0  2.876268 -0.364776  0.578573  2.793763\n",
        "<type 'numpy.ndarray'>\n"
       ]
      }
     ],
     "prompt_number": 68
    },
    {
     "cell_type": "code",
     "collapsed": false,
     "input": [
      "e0 = np.array([5.497, 0.0, 0.0, 5.497])\n",
      "p0 = np.array([0.938, 0.0, 0.0, 0.0])\n",
      "g = np.array([1, -1, -1, -1])\n",
      "def getkin(evt):\n",
      "    e1 = evt[evt.mcid==11][['E', 'px', 'py', 'pz']].values[0]\n",
      "    q = e0-e1\n",
      "    q2 = np.sum(q*g*q)\n",
      "    w = q+p0\n",
      "    s = np.sum(w*g*w)\n",
      "    return pd.Series({'Q2': -q2, 'W': sqrt(s)})\n",
      "    \n",
      "s = evtgrps.apply(getkin).reset_index(level=0, drop=True)"
     ],
     "language": "python",
     "metadata": {},
     "outputs": [],
     "prompt_number": 79
    },
    {
     "cell_type": "code",
     "collapsed": false,
     "input": [
      "s"
     ],
     "language": "python",
     "metadata": {},
     "outputs": [
      {
       "html": [
        "<div style=\"max-height:1000px;max-width:1500px;overflow:auto;\">\n",
        "<table border=\"1\" class=\"dataframe\">\n",
        "  <thead>\n",
        "    <tr style=\"text-align: right;\">\n",
        "      <th></th>\n",
        "      <th>Q2</th>\n",
        "      <th>W</th>\n",
        "    </tr>\n",
        "  </thead>\n",
        "  <tbody>\n",
        "    <tr>\n",
        "      <th>0</th>\n",
        "      <td> 0.907065</td>\n",
        "      <td> 2.21117</td>\n",
        "    </tr>\n",
        "    <tr>\n",
        "      <th>1</th>\n",
        "      <td> 0.907065</td>\n",
        "      <td> 2.21117</td>\n",
        "    </tr>\n",
        "    <tr>\n",
        "      <th>2</th>\n",
        "      <td> 0.907065</td>\n",
        "      <td> 2.21117</td>\n",
        "    </tr>\n",
        "    <tr>\n",
        "      <th>3</th>\n",
        "      <td> 0.907065</td>\n",
        "      <td> 2.21117</td>\n",
        "    </tr>\n",
        "  </tbody>\n",
        "</table>\n",
        "</div>"
       ],
       "output_type": "pyout",
       "prompt_number": 89,
       "text": [
        "         Q2        W\n",
        "0  0.907065  2.21117\n",
        "1  0.907065  2.21117\n",
        "2  0.907065  2.21117\n",
        "3  0.907065  2.21117"
       ]
      }
     ],
     "prompt_number": 89
    },
    {
     "cell_type": "code",
     "collapsed": false,
     "input": [
      "from root_numpy import root2rec, root2array\n",
      "import pandas as pd\n",
      "ar = root2rec('../testdata/genev100_a.root',\n",
      "              branches=['mcnpart', 'mcid', 'mcm', 'mcp', 'mctheta', 'mcphi'])\n",
      "df = pd.DataFrame(ar)\n",
      "dftmp = df[0:100]"
     ],
     "language": "python",
     "metadata": {},
     "outputs": [],
     "prompt_number": 84
    },
    {
     "cell_type": "code",
     "collapsed": false,
     "input": [
      "print(type(dftmp.mcid[0]))\n",
      "print(type(dftmp.mcid))\n",
      "print(type(dftmp.mcid.index))\n",
      "print(type(dftmp.mcid.values))\n"
     ],
     "language": "python",
     "metadata": {},
     "outputs": [
      {
       "output_type": "stream",
       "stream": "stdout",
       "text": [
        "<type 'numpy.ndarray'>\n",
        "<class 'pandas.core.series.Series'>\n",
        "<class 'pandas.core.index.Int64Index'>\n",
        "<type 'numpy.ndarray'>\n"
       ]
      }
     ],
     "prompt_number": 100
    },
    {
     "cell_type": "code",
     "collapsed": false,
     "input": [
      "# partids = { 'e': 11, 'p': 2212, 'pip': 211, 'pim': -211, 'pi0': 111 }\n",
      "pids = np.array([11, 2212, 211, -211, 111])\n",
      "\n",
      "def pidxs_f(mcids):\n",
      "        return [np.where(mcids==partid)[0][0] for partid in pids]\n",
      "    \n",
      "def curry_pidxs(partids):\n",
      "    def pidxs(mcids):\n",
      "        return [np.where(mcids==partid)[0][0] for partid in partids]\n",
      "    return pidxs\n",
      "\n",
      "pidxs_l = lambda partids: lambda x: [np.where(x==partid)[0][0] for partid in partids]\n",
      "curry_pidxs(pids)(dftmp.mcid[0])\n",
      "# dftmp.mcid[0]"
     ],
     "language": "python",
     "metadata": {},
     "outputs": [
      {
       "output_type": "pyout",
       "prompt_number": 153,
       "text": [
        "[0, 1, 2, 3, 4]"
       ]
      }
     ],
     "prompt_number": 153
    },
    {
     "cell_type": "code",
     "collapsed": false,
     "input": [
      "arnd = np.random.random_integers(-212, 2214, 10000000)"
     ],
     "language": "python",
     "metadata": {},
     "outputs": [],
     "prompt_number": 139
    },
    {
     "cell_type": "code",
     "collapsed": false,
     "input": [
      "%%timeit -n 10\n",
      "pidxs_f(arnd)"
     ],
     "language": "python",
     "metadata": {},
     "outputs": [
      {
       "output_type": "stream",
       "stream": "stdout",
       "text": [
        "10 loops, best of 3: 260 ms per loop\n"
       ]
      }
     ],
     "prompt_number": 145
    },
    {
     "cell_type": "code",
     "collapsed": false,
     "input": [
      "%%timeit -n 10\n",
      "curry_pidxs(pids)(arnd)"
     ],
     "language": "python",
     "metadata": {},
     "outputs": [
      {
       "output_type": "stream",
       "stream": "stdout",
       "text": [
        "10 loops, best of 3: 259 ms per loop\n"
       ]
      }
     ],
     "prompt_number": 144
    },
    {
     "cell_type": "code",
     "collapsed": false,
     "input": [
      "%%timeit -n 10\n",
      "pidxs_l(arnd)"
     ],
     "language": "python",
     "metadata": {},
     "outputs": [
      {
       "output_type": "stream",
       "stream": "stdout",
       "text": [
        "10 loops, best of 3: 501 ns per loop\n"
       ]
      }
     ],
     "prompt_number": 154
    },
    {
     "cell_type": "code",
     "collapsed": false,
     "input": [
      "%time pidxs_l(pids)(arnd)"
     ],
     "language": "python",
     "metadata": {},
     "outputs": [
      {
       "output_type": "stream",
       "stream": "stdout",
       "text": [
        "CPU times: user 0.27 s, sys: 0.01 s, total: 0.28 s\n",
        "Wall time: 0.28 s\n"
       ]
      },
      {
       "output_type": "pyout",
       "prompt_number": 155,
       "text": [
        "array([2060,  569, 9640, 2277, 4155])"
       ]
      }
     ],
     "prompt_number": 155
    },
    {
     "cell_type": "code",
     "collapsed": false,
     "input": [
      "pidxs_l = lambda partids: lambda x: [np.where(x==partid)[0][0] for partid in partids]\n",
      "pidxs = pidxs_l(np.array([11, 2212, 211, -211, 111]))"
     ],
     "language": "python",
     "metadata": {},
     "outputs": [
      {
       "output_type": "pyout",
       "prompt_number": 152,
       "text": [
        "[0, 1, 2, 3, 4]"
       ]
      }
     ],
     "prompt_number": 152
    },
    {
     "cell_type": "code",
     "collapsed": false,
     "input": [
      "pidxs(dftmp.mcid[0])"
     ],
     "language": "python",
     "metadata": {},
     "outputs": [
      {
       "output_type": "pyout",
       "prompt_number": 173,
       "text": [
        "[0, 1, 2, 3, 4]"
       ]
      }
     ],
     "prompt_number": 173
    },
    {
     "cell_type": "code",
     "collapsed": false,
     "input": [
      "pidxs_l = lambda partids: lambda x: [np.where(x==partid)[0][0] for partid in partids]\n",
      "pidxs = pidxs_l(np.array([11, 2212, 211, -211, 111]))\n",
      "arr2d = np.array(list(df.mcid.apply(pidxs).values))\n",
      "cnames = ['idxE', 'idxP', 'idxPip', 'idxPim', 'idxPi0']\n",
      "print(df)\n",
      "for cn, vals in zip(cnames, [arr2d[:,icol] for icol in range(0,5)]):\n",
      "    df[cn] = pd.Series(vals, name=cn)\n",
      "print(df)"
     ],
     "language": "python",
     "metadata": {},
     "outputs": [
      {
       "output_type": "stream",
       "stream": "stdout",
       "text": [
        "<class 'pandas.core.frame.DataFrame'>\n",
        "Int64Index: 100001 entries, 0 to 100000\n",
        "Data columns (total 11 columns):\n",
        "mcnpart    100001  non-null values\n",
        "mcid       100001  non-null values\n",
        "mcm        100001  non-null values\n",
        "mcp        100001  non-null values\n",
        "mctheta    100001  non-null values\n",
        "mcphi      100001  non-null values\n",
        "idxE       100001  non-null values\n",
        "idxP       100001  non-null values\n",
        "idxPip     100001  non-null values\n",
        "idxPim     100001  non-null values\n",
        "idxPi0     100001  non-null values\n",
        "dtypes: int64(5), object(5), uint8(1)\n",
        "<class 'pandas.core.frame.DataFrame'>\n",
        "Int64Index: 100001 entries, 0 to 100000\n",
        "Data columns (total 11 columns):\n",
        "mcnpart    100001  non-null values\n",
        "mcid       100001  non-null values\n",
        "mcm        100001  non-null values\n",
        "mcp        100001  non-null values\n",
        "mctheta    100001  non-null values\n",
        "mcphi      100001  non-null values\n",
        "idxE       100001  non-null values\n",
        "idxP       100001  non-null values\n",
        "idxPip     100001  non-null values\n",
        "idxPim     100001  non-null values\n",
        "idxPi0     100001  non-null values\n",
        "dtypes: int64(5), object(5), uint8(1)\n"
       ]
      }
     ],
     "prompt_number": 211
    },
    {
     "cell_type": "code",
     "collapsed": false,
     "input": [
      "[arr2d[:,icol] for icol in range(0,5)]"
     ],
     "language": "python",
     "metadata": {},
     "outputs": [
      {
       "output_type": "pyout",
       "prompt_number": 209,
       "text": [
        "[array([0, 0, 0, ..., 0, 0, 0]),\n",
        " array([1, 1, 1, ..., 1, 1, 1]),\n",
        " array([2, 2, 2, ..., 2, 2, 2]),\n",
        " array([3, 3, 3, ..., 3, 3, 3]),\n",
        " array([4, 4, 4, ..., 4, 4, 4])]"
       ]
      }
     ],
     "prompt_number": 209
    },
    {
     "cell_type": "code",
     "collapsed": false,
     "input": [
      "\"\"\"df.mcid is a series of arrays, where each array contains the particle ids of the\n",
      "event.  Other particle-level df columns contain arrays with particle property values\n",
      "in the same order.\"\"\"\n",
      "# define curry function that takes as argument desired particle ids\n",
      "pidxs_l = lambda partids: lambda x: np.array([np.where(x==partid)[0][0] for partid in partids])\n",
      "# pidxs returns a list of particle indexes\n",
      "# in this case the order is...\n",
      "pidxs = pidxs_l(np.array([11, 2212, 211, -211, 111]))\n",
      "# to correpsond to column labels\n",
      "cnames = ['idxE', 'idxP', 'idxPip', 'idxPim', 'idxPi0']\n",
      "# apply pidxs to each the mcid series; result is a \n",
      "# pull out the series of mcid arrays as a 2d numpy array, which provides nice slicing\n",
      "# features (could have been another dataframe, I suppose)\n",
      "tmp = df.mcid.apply(pidxs)\n",
      "# arr2d = np.array(list(df.mcid.apply(pidxs).values))\n",
      "# each row corresponds to an event, each column to the ith particle in the event\n",
      "# so \n",
      "#for cn, vals in zip(cnames, [arr2d[:,icol] for icol in range(0,5)]):\n",
      "#    df[cn] = pd.Series(vals, name=cn)"
     ],
     "language": "python",
     "metadata": {},
     "outputs": [],
     "prompt_number": 11
    },
    {
     "cell_type": "code",
     "collapsed": false,
     "input": [
      "print(tmp)\n",
      "print(type(tmp))\n",
      "print(tmp[0])\n",
      "print(type(tmp[0]))"
     ],
     "language": "python",
     "metadata": {},
     "outputs": [
      {
       "output_type": "stream",
       "stream": "stdout",
       "text": [
        "0     [0, 1, 2, 3, 4]\n",
        "1     [0, 1, 2, 3, 4]\n",
        "2     [0, 1, 2, 3, 4]\n",
        "3     [0, 1, 2, 3, 4]\n",
        "4     [0, 1, 2, 3, 4]\n",
        "5     [0, 1, 2, 3, 4]\n",
        "6     [0, 1, 2, 3, 4]\n",
        "7     [0, 1, 2, 3, 4]\n",
        "8     [0, 1, 2, 3, 4]\n",
        "9     [0, 1, 2, 3, 4]\n",
        "10    [0, 1, 2, 3, 4]\n",
        "11    [0, 1, 2, 3, 4]\n",
        "12    [0, 1, 2, 3, 4]\n",
        "13    [0, 1, 2, 3, 4]\n",
        "14    [0, 1, 2, 3, 4]\n",
        "...\n",
        "99986     [0, 1, 2, 3, 4]\n",
        "99987     [0, 1, 2, 3, 4]\n",
        "99988     [0, 1, 2, 3, 4]\n",
        "99989     [0, 1, 2, 3, 4]\n",
        "99990     [0, 1, 2, 3, 4]\n",
        "99991     [0, 1, 2, 3, 4]\n",
        "99992     [0, 1, 2, 3, 4]\n",
        "99993     [0, 1, 2, 3, 4]\n",
        "99994     [0, 1, 2, 3, 4]\n",
        "99995     [0, 1, 2, 3, 4]\n",
        "99996     [0, 1, 2, 3, 4]\n",
        "99997     [0, 1, 2, 3, 4]\n",
        "99998     [0, 1, 2, 3, 4]\n",
        "99999     [0, 1, 2, 3, 4]\n",
        "100000    [0, 1, 2, 3, 4]\n",
        "Name: mcid, Length: 100001, dtype: object\n",
        "<class 'pandas.core.series.Series'>\n",
        "[0 1 2 3 4]\n",
        "<type 'numpy.ndarray'>\n"
       ]
      }
     ],
     "prompt_number": 12
    },
    {
     "cell_type": "code",
     "collapsed": false,
     "input": [
      "tmp[0][:]"
     ],
     "language": "python",
     "metadata": {},
     "outputs": [
      {
       "output_type": "pyout",
       "prompt_number": 22,
       "text": [
        "array([0, 1, 2, 3, 4])"
       ]
      }
     ],
     "prompt_number": 22
    },
    {
     "cell_type": "code",
     "collapsed": false,
     "input": [
      "tmp[:,1]"
     ],
     "language": "python",
     "metadata": {},
     "outputs": [
      {
       "ename": "ValueError",
       "evalue": "Can only tuple-index with a MultiIndex",
       "output_type": "pyerr",
       "traceback": [
        "\u001b[1;31m---------------------------------------------------------------------------\u001b[0m\n\u001b[1;31mValueError\u001b[0m                                Traceback (most recent call last)",
        "\u001b[1;32m<ipython-input-18-650aca157f39>\u001b[0m in \u001b[0;36m<module>\u001b[1;34m()\u001b[0m\n\u001b[1;32m----> 1\u001b[1;33m \u001b[0mtmp\u001b[0m\u001b[1;33m[\u001b[0m\u001b[1;33m:\u001b[0m\u001b[1;33m,\u001b[0m\u001b[1;36m1\u001b[0m\u001b[1;33m]\u001b[0m\u001b[1;33m\u001b[0m\u001b[0m\n\u001b[0m",
        "\u001b[1;32m/usr/local/lib/python2.7/dist-packages/pandas/core/series.pyc\u001b[0m in \u001b[0;36m__getitem__\u001b[1;34m(self, key)\u001b[0m\n\u001b[0;32m    634\u001b[0m             \u001b[0mkey\u001b[0m \u001b[1;33m=\u001b[0m \u001b[0m_check_bool_indexer\u001b[0m\u001b[1;33m(\u001b[0m\u001b[0mself\u001b[0m\u001b[1;33m.\u001b[0m\u001b[0mindex\u001b[0m\u001b[1;33m,\u001b[0m \u001b[0mkey\u001b[0m\u001b[1;33m)\u001b[0m\u001b[1;33m\u001b[0m\u001b[0m\n\u001b[0;32m    635\u001b[0m \u001b[1;33m\u001b[0m\u001b[0m\n\u001b[1;32m--> 636\u001b[1;33m         \u001b[1;32mreturn\u001b[0m \u001b[0mself\u001b[0m\u001b[1;33m.\u001b[0m\u001b[0m_get_with\u001b[0m\u001b[1;33m(\u001b[0m\u001b[0mkey\u001b[0m\u001b[1;33m)\u001b[0m\u001b[1;33m\u001b[0m\u001b[0m\n\u001b[0m\u001b[0;32m    637\u001b[0m \u001b[1;33m\u001b[0m\u001b[0m\n\u001b[0;32m    638\u001b[0m     \u001b[1;32mdef\u001b[0m \u001b[0m_get_with\u001b[0m\u001b[1;33m(\u001b[0m\u001b[0mself\u001b[0m\u001b[1;33m,\u001b[0m \u001b[0mkey\u001b[0m\u001b[1;33m)\u001b[0m\u001b[1;33m:\u001b[0m\u001b[1;33m\u001b[0m\u001b[0m\n",
        "\u001b[1;32m/usr/local/lib/python2.7/dist-packages/pandas/core/series.pyc\u001b[0m in \u001b[0;36m_get_with\u001b[1;34m(self, key)\u001b[0m\n\u001b[0;32m    652\u001b[0m             \u001b[1;32mif\u001b[0m \u001b[0misinstance\u001b[0m\u001b[1;33m(\u001b[0m\u001b[0mkey\u001b[0m\u001b[1;33m,\u001b[0m \u001b[0mtuple\u001b[0m\u001b[1;33m)\u001b[0m\u001b[1;33m:\u001b[0m\u001b[1;33m\u001b[0m\u001b[0m\n\u001b[0;32m    653\u001b[0m                 \u001b[1;32mtry\u001b[0m\u001b[1;33m:\u001b[0m\u001b[1;33m\u001b[0m\u001b[0m\n\u001b[1;32m--> 654\u001b[1;33m                     \u001b[1;32mreturn\u001b[0m \u001b[0mself\u001b[0m\u001b[1;33m.\u001b[0m\u001b[0m_get_values_tuple\u001b[0m\u001b[1;33m(\u001b[0m\u001b[0mkey\u001b[0m\u001b[1;33m)\u001b[0m\u001b[1;33m\u001b[0m\u001b[0m\n\u001b[0m\u001b[0;32m    655\u001b[0m                 \u001b[1;32mexcept\u001b[0m\u001b[1;33m:\u001b[0m\u001b[1;33m\u001b[0m\u001b[0m\n\u001b[0;32m    656\u001b[0m                     \u001b[1;32mif\u001b[0m \u001b[0mlen\u001b[0m\u001b[1;33m(\u001b[0m\u001b[0mkey\u001b[0m\u001b[1;33m)\u001b[0m \u001b[1;33m==\u001b[0m \u001b[1;36m1\u001b[0m\u001b[1;33m:\u001b[0m\u001b[1;33m\u001b[0m\u001b[0m\n",
        "\u001b[1;32m/usr/local/lib/python2.7/dist-packages/pandas/core/series.pyc\u001b[0m in \u001b[0;36m_get_values_tuple\u001b[1;34m(self, key)\u001b[0m\n\u001b[0;32m    692\u001b[0m \u001b[1;33m\u001b[0m\u001b[0m\n\u001b[0;32m    693\u001b[0m         \u001b[1;32mif\u001b[0m \u001b[1;32mnot\u001b[0m \u001b[0misinstance\u001b[0m\u001b[1;33m(\u001b[0m\u001b[0mself\u001b[0m\u001b[1;33m.\u001b[0m\u001b[0mindex\u001b[0m\u001b[1;33m,\u001b[0m \u001b[0mMultiIndex\u001b[0m\u001b[1;33m)\u001b[0m\u001b[1;33m:\u001b[0m\u001b[1;33m\u001b[0m\u001b[0m\n\u001b[1;32m--> 694\u001b[1;33m             \u001b[1;32mraise\u001b[0m \u001b[0mValueError\u001b[0m\u001b[1;33m(\u001b[0m\u001b[1;34m'Can only tuple-index with a MultiIndex'\u001b[0m\u001b[1;33m)\u001b[0m\u001b[1;33m\u001b[0m\u001b[0m\n\u001b[0m\u001b[0;32m    695\u001b[0m \u001b[1;33m\u001b[0m\u001b[0m\n\u001b[0;32m    696\u001b[0m         \u001b[1;31m# If key is contained, would have returned by now\u001b[0m\u001b[1;33m\u001b[0m\u001b[1;33m\u001b[0m\u001b[0m\n",
        "\u001b[1;31mValueError\u001b[0m: Can only tuple-index with a MultiIndex"
       ]
      }
     ],
     "prompt_number": 18
    },
    {
     "cell_type": "code",
     "collapsed": false,
     "input": [],
     "language": "python",
     "metadata": {},
     "outputs": []
    }
   ],
   "metadata": {}
  }
 ]
}