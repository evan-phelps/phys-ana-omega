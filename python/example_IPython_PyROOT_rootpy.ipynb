{
 "metadata": {
  "name": "example_IPython_PyROOT_rootpy"
 },
 "nbformat": 3,
 "nbformat_minor": 0,
 "worksheets": [
  {
   "cells": [
    {
     "cell_type": "markdown",
     "metadata": {},
     "source": [
      "# IPython Notebook with PyROOT?\n",
      "\n",
      "PyROOT exposes the ROOT framework as Python modules, which, in addition to providing access to ROOT through a higher-level language, unleashes the full variety of scientific and infrastructure libraries of Python, including non-PROOF distributed processing; interfaces to R, GnuPlot, symbolic math packages, etc.; the entire SciPy suite; and more.\n",
      "\n",
      "In the case of this \"Notebook,\" I would like to test the compatibility of PyROOT with SciPy's IPython Notebook, toward more easily reproducible research in a quasi-interactive environment.\n",
      "\n",
      "First, let's try to open a ROOT file and perform some basic operations.\n"
     ]
    },
    {
     "cell_type": "code",
     "collapsed": false,
     "input": [
      "import ROOT\n",
      "from ROOT import TFile\n",
      "fin_38729 = TFile('/data/e1f/skim/38729.root')"
     ],
     "language": "python",
     "metadata": {},
     "outputs": [],
     "prompt_number": 1
    },
    {
     "cell_type": "markdown",
     "metadata": {},
     "source": [
      "Notice that external functions (e.g., wrapped C++ functions) that print to stdout/stderr only print to the console that launched the notebook rather than to the notebook itself:"
     ]
    },
    {
     "cell_type": "code",
     "collapsed": false,
     "input": [
      "fin_38729.ls()"
     ],
     "language": "python",
     "metadata": {},
     "outputs": [],
     "prompt_number": 2
    },
    {
     "cell_type": "markdown",
     "metadata": {},
     "source": [
      "So to print the hierarchy, I'll define a python function."
     ]
    },
    {
     "cell_type": "code",
     "collapsed": false,
     "input": [
      "from ROOT import TDirectory\n",
      "\n",
      "def printkeys(ks, lvl=0):\n",
      "    for k in ks:\n",
      "        print('%s%s;%d\\t%s' % ('  '*lvl, k.GetName(),\n",
      "                               k.GetCycle(), k.GetTitle()))\n",
      "        o = k.ReadObj()\n",
      "        if isinstance(o, TDirectory): printkeys(o.GetListOfKeys(), lvl+1)\n",
      "\n",
      "printkeys(fin_38729.GetListOfKeys())"
     ],
     "language": "python",
     "metadata": {},
     "outputs": [
      {
       "output_type": "stream",
       "stream": "stdout",
       "text": [
        "accuq;1\taccuq\n",
        "  h_qlVrun;1\tAccumulated Charge vs. Run\n",
        "  lumblocks;1\tLuminosity Block Information"
       ]
      },
      {
       "output_type": "stream",
       "stream": "stdout",
       "text": [
        "\n",
        "  lumevents;1\tfaraday cup charge accumulated in block, at event level\n",
        "  elist_lb_evts;1\tluminosity info per event\n",
        "skimq;1\tskimq\n",
        "  hevtsum;1\tEvent Statistics\n",
        "skime;1\tskime\n",
        "  hevtsum;1\tEvent Statistics\n",
        "pcor;1\tpcor\n",
        "  hpcor;1\te^{-} momentum corrections\n",
        "skim1or2pi;1\tskim1or2pi\n",
        "  hevtsum;1\tEvent Statistics\n",
        "h10clone;1\th10clone\n",
        "  h10;1\tCLAS\n",
        "3pi-tree;1\t3pi-tree\n",
        "  t3pi_physfrm;2\t4-vectors for pip, pim, pi0 channel\n",
        "  t3pi_physfrm;1\t4-vectors for pip, pim, pi0 channel\n",
        "  t3pi;1\t4-vectors for pip, pim, pi0 channel\n",
        "  elist;1\tt3pi elist\n"
       ]
      }
     ],
     "prompt_number": 3
    },
    {
     "cell_type": "code",
     "collapsed": false,
     "input": [
      "t = fin_38729.Get('3pi-tree/t3pi_physfrm')\n",
      "print(t.GetEntries())"
     ],
     "language": "python",
     "metadata": {},
     "outputs": [
      {
       "output_type": "stream",
       "stream": "stdout",
       "text": [
        "72353\n"
       ]
      }
     ],
     "prompt_number": 4
    },
    {
     "cell_type": "code",
     "collapsed": false,
     "input": [
      "from ROOT import TH1F\n",
      "from ROOT import TLorentzVector\n",
      "t.SetBranchStatus('*', 0)\n",
      "t.SetBranchStatus('omega', 1)\n",
      "# for some reason, SetBranchAddress must be called due to known bug\n",
      "# see http://root.cern.ch/phpBB3/viewtopic.php?f=14&t=9450\n",
      "lvomega = TLorentzVector()\n",
      "t.SetBranchAddress('omega', lvomega)\n",
      "\n",
      "h = TH1F('htest', 'hist test', 80, 0.4, 1.2)\n",
      "\n",
      "for i, evt in enumerate(t):\n",
      "    h.Fill(evt.omega.M())\n",
      "    if i % 10000 == 0 and i > 0: print(i)\n",
      "    \n",
      "print(h.GetEntries())"
     ],
     "language": "python",
     "metadata": {},
     "outputs": [
      {
       "output_type": "stream",
       "stream": "stdout",
       "text": [
        "10000\n",
        "20000"
       ]
      },
      {
       "output_type": "stream",
       "stream": "stdout",
       "text": [
        "\n",
        "30000"
       ]
      },
      {
       "output_type": "stream",
       "stream": "stdout",
       "text": [
        "\n",
        "40000"
       ]
      },
      {
       "output_type": "stream",
       "stream": "stdout",
       "text": [
        "\n",
        "50000"
       ]
      },
      {
       "output_type": "stream",
       "stream": "stdout",
       "text": [
        "\n",
        "60000"
       ]
      },
      {
       "output_type": "stream",
       "stream": "stdout",
       "text": [
        "\n",
        "70000"
       ]
      },
      {
       "output_type": "stream",
       "stream": "stdout",
       "text": [
        "\n",
        "72353.0\n"
       ]
      }
     ],
     "prompt_number": 5
    },
    {
     "cell_type": "markdown",
     "metadata": {},
     "source": [
      "Now, here's a limitation -- ROOT canvases will not print in the IPython Notebook."
     ]
    },
    {
     "cell_type": "code",
     "collapsed": false,
     "input": [
      "h.Draw()"
     ],
     "language": "python",
     "metadata": {},
     "outputs": [],
     "prompt_number": 6
    },
    {
     "cell_type": "markdown",
     "metadata": {},
     "source": [
      "So lets install the relatively new \"pythonized pyroot\" called rootpy (see https://github.com/rootpy/rootpy), assuming you already have dependencies (e.g., matplotlib) installed."
     ]
    },
    {
     "cell_type": "code",
     "collapsed": false,
     "input": [
      "!!sudo pip2 install rootpy"
     ],
     "language": "python",
     "metadata": {},
     "outputs": [
      {
       "output_type": "pyout",
       "prompt_number": 7,
       "text": [
        "['Requirement already satisfied (use --upgrade to upgrade): rootpy in /usr/lib/python2.7/site-packages',\n",
        " 'Cleaning up...']"
       ]
      }
     ],
     "prompt_number": 7
    },
    {
     "cell_type": "markdown",
     "metadata": {},
     "source": [
      "First, let's make sure we can plot with rootpy."
     ]
    },
    {
     "cell_type": "code",
     "collapsed": false,
     "input": [
      "from rootpy.plotting import Canvas, Hist\n",
      "\n",
      "def make_plot():\n",
      "    canvas = Canvas(400, 300)\n",
      "    hist = Hist(100, -3, 3)\n",
      "    hist.FillRandom('gaus')\n",
      "    hist.Draw()\n",
      "    return canvas\n",
      "\n",
      "canvas = make_plot()\n",
      "# empty canvas since the histogram\n",
      "# has been garbage collected!\n",
      "canvas.Draw()"
     ],
     "language": "python",
     "metadata": {},
     "outputs": [],
     "prompt_number": 8
    },
    {
     "cell_type": "markdown",
     "metadata": {},
     "source": [
      "But it's still not printing into the notebook.  Let's try the matplotlib interface."
     ]
    },
    {
     "cell_type": "code",
     "collapsed": false,
     "input": [
      "import rootpy.plotting.root2matplotlib as rplt\n",
      "import matplotlib.pyplot as plt\n",
      "\n",
      "hist = Hist(100, -3, 3)\n",
      "hist.FillRandom('gaus')\n",
      "fig = plt.figure(figsize=(7, 5), dpi=100, facecolor='white')\n",
      "rplt.errorbar(hist, xerr=False, emptybins=False)\n",
      "plt.show()"
     ],
     "language": "python",
     "metadata": {},
     "outputs": [
      {
       "output_type": "display_data",
       "png": "[encoded data removed]"
      }
     ],
     "prompt_number": 9
    },
    {
     "cell_type": "markdown",
     "metadata": {},
     "source": [
      "Great! Now for a the originally intended histogram."
     ]
    },
    {
     "cell_type": "code",
     "collapsed": false,
     "input": [
      "del h\n",
      "del canvas\n",
      "\n",
      "h = Hist(80, 0.4, 1.2)\n",
      "\n",
      "for i, evt in enumerate(t):\n",
      "    h.Fill(evt.omega.M())\n",
      "    if i+1 % 10000 == 0: print('processed %d' % i+1)\n",
      "        \n",
      "fig_mmp = plt.figure(figsize=(7, 5), dpi=100, facecolor='white')\n",
      "rplt.errorbar(h, xerr=False, emptybins=False)\n",
      "plt.show()"
     ],
     "language": "python",
     "metadata": {},
     "outputs": [
      {
       "output_type": "display_data",
       "png": "[encoded data removed]"
      }
     ],
     "prompt_number": 10
    }
   ],
   "metadata": {}
  }
 ]
}