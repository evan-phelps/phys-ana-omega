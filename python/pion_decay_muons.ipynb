{
 "metadata": {
  "name": ""
 },
 "nbformat": 3,
 "nbformat_minor": 0,
 "worksheets": [
  {
   "cells": [
    {
     "cell_type": "code",
     "collapsed": false,
     "input": [
      "import numpy as np\n",
      "import pandas as pd\n",
      "import matplotlib.pyplot as plt\n",
      "\n",
      "from root_numpy import root2rec, root2array\n",
      "\n",
      "np.set_printoptions(precision=4, suppress=True)\n",
      "plt.rc('text', usetex=True)"
     ],
     "language": "python",
     "metadata": {},
     "outputs": [],
     "prompt_number": 1
    },
    {
     "cell_type": "code",
     "collapsed": false,
     "input": [
      "treerecs = root2rec('../testdata/genev102.gsim.gpp.10.ana.root', treename='h10', branches=['mcid', 'pidpart', 'id', 'mcp'])\n",
      "df = pd.DataFrame(treerecs)"
     ],
     "language": "python",
     "metadata": {},
     "outputs": [],
     "prompt_number": 2
    },
    {
     "cell_type": "code",
     "collapsed": false,
     "input": [
      "smcid = df.mcid.apply(lambda x: pd.Series(x)).stack()\n",
      "spartid = df.pidpart.apply(lambda x: pd.Series(x)).stack()\n",
      "sid = df.id.apply(lambda x: pd.Series(x)).stack()\n",
      "sp = df.mcp.apply(lambda x: pd.Series(x)).stack()"
     ],
     "language": "python",
     "metadata": {},
     "outputs": [],
     "prompt_number": 3
    },
    {
     "cell_type": "code",
     "collapsed": false,
     "input": [
      "hmc = hist(smcid, bins=np.arange(-2500.5, 2500.5,1))\n",
      "hpart = hist(spartid, bins=np.arange(-2500.5, 2500.5,1))\n",
      "hrecon = hist(sid, bins=np.arange(-2500.5, 2500.5,1))"
     ],
     "language": "python",
     "metadata": {},
     "outputs": [
      {
       "metadata": {},
       "output_type": "display_data",
       "png": "[encoded data removed]",
       "text": [
        "<matplotlib.figure.Figure at 0x4cc9210>"
       ]
      }
     ],
     "prompt_number": 4
    },
    {
     "cell_type": "code",
     "collapsed": false,
     "input": [
      "ds = [dict(zip((h[1][1:]+h[1][:-1])/2,h[0])) for h in [hmc, hpart, hrecon]]"
     ],
     "language": "python",
     "metadata": {},
     "outputs": [],
     "prompt_number": 5
    },
    {
     "cell_type": "code",
     "collapsed": false,
     "input": [
      "countmcid = smcid.value_counts()\n",
      "countpartid = spartid.value_counts()\n",
      "countevntid = sid.value_counts()"
     ],
     "language": "python",
     "metadata": {},
     "outputs": [],
     "prompt_number": 6
    },
    {
     "cell_type": "code",
     "collapsed": false,
     "input": [
      "pdgids = {0:'unknown', -211:'pi-', 211:'pi+', 111:'pi0', 2212:'p+', 11:'e-', 22:'photon',\n",
      "          2112:'n', 321:'k+', -321:'k-', 45:'deuteron?', 47:'alpha?', 49:'he3?'}\n",
      "geantids = {0:'unknown', 1:'photon', 3:'e-', 8:'pi+', 9:'pi-', 11:'k+', 12:'k-',\n",
      "            13:'n', 14:'p+', 15:'p-', 45:'deuteron'}"
     ],
     "language": "python",
     "metadata": {},
     "outputs": [],
     "prompt_number": 7
    },
    {
     "cell_type": "code",
     "collapsed": false,
     "input": [
      "idmaps = [pdgids, geantids, pdgids]\n",
      "labels = ['thrown','gsim','recon']\n",
      "for l, s, m in zip(labels, [countmcid, countpartid, countevntid], idmaps):\n",
      "    s.index = pd.Index([m[k] for k in s.index])\n",
      "# for l, s, m in zip(labels, [countmcid, countpartid, countevntid], idmaps):\n",
      "#     s.index = pd.MultiIndex.from_tuples([(l, m[k]) for k in s.index])"
     ],
     "language": "python",
     "metadata": {},
     "outputs": [],
     "prompt_number": 8
    },
    {
     "cell_type": "code",
     "collapsed": false,
     "input": [
      "df = pd.DataFrame({'thrown':countmcid, 'gsim':countpartid, 'recon':countevntid})"
     ],
     "language": "python",
     "metadata": {},
     "outputs": [],
     "prompt_number": 9
    },
    {
     "cell_type": "code",
     "collapsed": false,
     "input": [
      "df.sort_index(by='thrown', ascending=True).reindex_axis(['thrown','gsim','recon'], axis=1).describe"
     ],
     "language": "python",
     "metadata": {},
     "outputs": [
      {
       "metadata": {},
       "output_type": "pyout",
       "prompt_number": 10,
       "text": [
        "<bound method DataFrame.describe of            thrown   gsim  recon\n",
        "photon      14367  39023  10924\n",
        "e-          50000  18134  17024\n",
        "p+          50000  21924  26197\n",
        "pi+         50000  48090  37024\n",
        "pi-         50000  23494  10472\n",
        "pi0         50000    NaN    NaN\n",
        "alpha?        NaN    NaN    408\n",
        "deuteron      NaN    182    NaN\n",
        "deuteron?     NaN    NaN   1134\n",
        "he3?          NaN    NaN    315\n",
        "k+            NaN    859   3361\n",
        "k-            NaN    247   1379\n",
        "n             NaN  17787  40317\n",
        "p-            NaN    114    NaN\n",
        "unknown       NaN   2579  35662>"
       ]
      }
     ],
     "prompt_number": 10
    },
    {
     "cell_type": "code",
     "collapsed": false,
     "input": [
      "hp = hist(sp, bins=np.arange(0, 4, 0.01))"
     ],
     "language": "python",
     "metadata": {},
     "outputs": [
      {
       "metadata": {},
       "output_type": "display_data",
       "png": "[encoded data removed]",
       "text": [
        "<matplotlib.figure.Figure at 0x4cb6790>"
       ]
      }
     ],
     "prompt_number": 12
    },
    {
     "cell_type": "code",
     "collapsed": false,
     "input": [
      "def lifetime(p):\n",
      "    E = sqrt(p**2+0.1396**2)\n",
      "    b = p/E\n",
      "    g = sqrt(1/(1-b**2))\n",
      "    return 26*g\n",
      "\n",
      "plt.figure(figsize=(14,6))\n",
      "hlifetime = hist(sp[smcid==211].apply(lifetime), bins=arange(0,700,4), lw=0)  # , log=True)\n",
      "plt.xlabel(r'$\\pi^{+}$ mean lifetime (ns)', fontsize=16)\n",
      "plt.tick_params(labelsize=18)\n",
      "plt.savefig('pion_meanlifetime.png')"
     ],
     "language": "python",
     "metadata": {},
     "outputs": [
      {
       "metadata": {},
       "output_type": "display_data",
       "png": "[encoded data removed]",
       "text": [
        "<matplotlib.figure.Figure at 0x1f267a10>"
       ]
      }
     ],
     "prompt_number": 53
    },
    {
     "cell_type": "code",
     "collapsed": false,
     "input": [
      "def lfdistance(p):\n",
      "    E = sqrt(p**2+0.1396**2)\n",
      "    b = p/E\n",
      "    g = sqrt(1/(1-b**2))\n",
      "    return 26*g*b*0.3\n",
      "\n",
      "plt.figure(figsize=(14,6))\n",
      "hdist = hist(sp[smcid==211].apply(lfdistance), bins=arange(0,200,1), lw=0)\n",
      "plt.xlabel(r'$\\pi^{+}$ mean path length (m)', fontsize=16)\n",
      "plt.tick_params(labelsize=18)\n",
      "plt.axvline(4, color='r', lw=2)\n",
      "plt.savefig('pion_meandistance.png')"
     ],
     "language": "python",
     "metadata": {},
     "outputs": [
      {
       "metadata": {},
       "output_type": "display_data",
       "png": "[encoded data removed]",
       "text": [
        "<matplotlib.figure.Figure at 0x7f1a5996fe10>"
       ]
      }
     ],
     "prompt_number": 55
    },
    {
     "cell_type": "code",
     "collapsed": false,
     "input": [],
     "language": "python",
     "metadata": {},
     "outputs": []
    }
   ],
   "metadata": {}
  }
 ]
}