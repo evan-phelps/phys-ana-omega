<!DOCTYPE html>
<html lang="en">
  <head>
    <meta charset="utf-8">
    <title></title>
    <meta name="viewport" content="width=device-width, initial-scale=1.0">
    <meta name="description" content="">
    <meta name="author" content="">
    <!--NEW RELIC Start Perf Measurement-->
    <script type="text/javascript">var NREUMQ=NREUMQ||[];NREUMQ.push(["mark","firstbyte",new Date().getTime()]);</script>
    <!--NREND-->

    <!-- Le styles -->
    <!--<link href="/static/css/bootstrap.css" rel="stylesheet">-->
    <link href="/static/css/docs.css" rel="stylesheet">
    <link href="/static/js/google-code-prettify/prettify.css" rel="stylesheet">
    <link href="/static/style.min.css" rel="stylesheet">
    <link href="/static/css/bootstrap-responsive.css" rel="stylesheet">

    <!-- Le HTML5 shim, for IE6-8 support of HTML5 elements -->
    <!--[if lt IE 9]>
      <script src="http://html5shim.googlecode.com/svn/trunk/html5.js"></script>
    <![endif]-->

    <!-- Le fav and touch icons -->
    <link rel="shortcut icon" href="/static/ico/ipynb_icon_16x16.png">
    <link rel="apple-touch-icon-precomposed" sizes="144x144" href="/static/ico/apple-touch-icon-144-precomposed.png">
    <link rel="apple-touch-icon-precomposed" sizes="114x114" href="/static/ico/apple-touch-icon-114-precomposed.png">
    <link rel="apple-touch-icon-precomposed" sizes="72x72" href="/static/ico/apple-touch-icon-72-precomposed.png">
    <link rel="apple-touch-icon-precomposed" href="/static/ico/apple-touch-icon-57-precomposed.png">
    
    <style type="text/css" media='screen and (min-width:980px)'>
    .navbar-inner {
        opacity: 0.5;
        transition: opacity 0.5s ease-in-out;
        -webkit-transition: opacity 0.5s ease-in-out;
    }

    .navbar-inner ul{
        opacity: 0.5;
        transition: opacity 0.5s ease-in-out;
        -webkit-transition: opacity 0.5s ease-in-out;
    }

    body{
        padding-top:50px;
    }

    </style>
    <style type="text/css" >
    .imgwrap {
        text-align: center;
    }
    .input_area{
        padding: 0.4em;
    }
    div.input_area > div.highlight > pre {
        margin: 0px;
    }

    .navbar-inner:hover {
        opacity: 1.0;
    }

    .navbar-inner:hover ul{
        opacity: 1.0;
    }

    </style>
    
    
    <link href="/static/css/pygments.css" rel="stylesheet">
    
    <script src="https://c328740.ssl.cf1.rackcdn.com/mathjax/latest/MathJax.js?config=TeX-AMS_HTML"type="text/javascript">
    </script>
    <script type="text/javascript">
    init_mathjax = function() {
        if (window.MathJax) {
            // MathJax loaded
            MathJax.Hub.Config({
                tex2jax: {
                    inlineMath: [ ['$','$'], ["\\(","\\)"] ],
                    displayMath: [ ['$$','$$'], ["\\[","\\]"] ]
                },
                displayAlign: 'left', // Change this to 'center' to center equations.
                "HTML-CSS": {
                    styles: {'.MathJax_Display': {"margin": 0}}
                }
            });
            MathJax.Hub.Queue(["Typeset",MathJax.Hub]);
        }
    }
    init_mathjax();
    </script>
    
  </head>

  <body data-spy="scroll" data-target=".subnav" data-offset="50">


  <!-- Navbar
  ================================================== -->
    <div class="navbar navbar-fixed-top">
      <div class="navbar-inner">
        <div class="container">
          <button type="button" class="btn btn-navbar" data-toggle="collapse" data-target=".nav-collapse">
            <span class="icon-bar"></span>
            <span class="icon-bar"></span>
            <span class="icon-bar"></span>
          </button>
          <div class="nav-collapse collapse">
            <ul class="nav">
              <li>
                <a href="/">Home</a>
              </li>
              <li>
                <a href="/faq">FAQ</a>
              </li>
              <li class="">
                <a href="http://www.ipython.org">IPython</a>
              </li>
              <li>
              <a href="http://penandpants.com/2012/10/16/open-in-nbviewer-bookmarklet/">Bookmarklet</a>
              </li>
              

            </ul>
              
    <ul class="nav pull-right"> 
        <li class="">
            <a href="https://raw.github.com/vals/scilife-python-course/master/parallel python.ipynb" download="parallel python.ipynb">Download Notebook</a>
        </li>
    </ul>
    
          </div>
        </div>
      </div>
    </div>
    <div class="container">


    
<div class="text_cell_render border-box-sizing rendered_html">
<h1>Parallel computing with Python</h1>
<h2><code>multiprocessing</code></h2>
<p>The built in module <code>multiprocessing</code> provides functionality to create <em>processes</em> which runs given tasks.</p>
<p>http://docs.python.org/2/library/multiprocessing.html</p>
<p>All strategies for paralleliztion has a rathe large overhead compared to lower level languages such as C or FORTRAN.</p>
<p>The way <code>multiprocessing</code> runs code in parallel is by launching subprocesses with a seperate interpretor for for each process. This means that in order to gain speed the computation we want to perform should be relatively substantial.</p>
<p>(In case you are familiar with threads: It should be noted that Python has a <code>threading</code> module for working with threads, however, all threads will be run on a single CPU.)</p>
<p>Byt using multiprocessing we can utilize the machines we are running code on more efficiently</p>
</div>
<div class="cell border-box-sizing code_cell vbox">
<div class="input hbox">
<div class="prompt input_prompt">In&nbsp;[1]:</div>
<div class="input_area box-flex1">
<div class="highlight"><pre><span class="kn">import</span> <span class="nn">multiprocessing</span>
</pre></div>

</div>
</div>
</div>
<div class="cell border-box-sizing code_cell vbox">
<div class="input hbox">
<div class="prompt input_prompt">In&nbsp;[2]:</div>
<div class="input_area box-flex1">
<div class="highlight"><pre><span class="n">multiprocessing</span><span class="o">.</span><span class="n">cpu_count</span><span class="p">()</span>
</pre></div>

</div>
</div>
<div class="vbox output_wrapper">
<div class="hbox output_area">
<div class="prompt output_prompt">Out[2]:</div>
<div class="output vbox">
<div class="box-flex1 output_subarea output_pyout">

<pre>16</pre>
</div>
</div>

</div>
</div>
</div>
<div class="text_cell_render border-box-sizing rendered_html">
<p>Before talking about some more advanced featuers, let's describe the most typical use pattern of <code>multiprocessing</code>.</p>
<p>Note: <code>multiprocessing</code> <em>can</em> be used in the IPython Notebook, but there are sometimes issues with printing from subprocesses. To make things clearer and avoid complications we shall run external scripts in stead.</p>
</div>
<div class="text_cell_render border-box-sizing rendered_html">
<h3><code>Process</code></h3>
<p>Processes share nothing</p>
<p>To spawn a process, initiate it with a target function and call the <code>.start()</code> method.</p>
<p>This method will arrange things so that given code will be run in a seperate process from the parent process. To get the parent process to wait until a process has finished before moving on one need to call the <code>.join()</code> method.</p>
</div>
<div class="cell border-box-sizing code_cell vbox">
<div class="input hbox">
<div class="prompt input_prompt">In&nbsp;[4]:</div>
<div class="input_area box-flex1">
<div class="highlight"><pre><span class="kn">import</span> <span class="nn">os</span>
<span class="n">os</span><span class="o">.</span><span class="n">getpid</span><span class="p">()</span>
</pre></div>

</div>
</div>
<div class="vbox output_wrapper">
<div class="hbox output_area">
<div class="prompt output_prompt">Out[4]:</div>
<div class="output vbox">
<div class="box-flex1 output_subarea output_pyout">

<pre>83928</pre>
</div>
</div>

</div>
</div>
</div>
<div class="cell border-box-sizing code_cell vbox">
<div class="input hbox">
<div class="prompt input_prompt">In&nbsp;[7]:</div>
<div class="input_area box-flex1">
<div class="highlight"><pre><span class="o">%%</span><span class="k">file</span> <span class="n">mp</span><span class="o">.</span><span class="n">py</span>
<span class="kn">from</span> <span class="nn">multiprocessing</span> <span class="kn">import</span> <span class="n">Process</span>
<span class="kn">import</span> <span class="nn">os</span>

<span class="k">def</span> <span class="nf">worker</span><span class="p">():</span>
    <span class="k">print</span><span class="p">(</span><span class="s">&quot;Worker process {}&quot;</span><span class="o">.</span><span class="n">format</span><span class="p">(</span><span class="n">os</span><span class="o">.</span><span class="n">getpid</span><span class="p">()))</span>

<span class="k">if</span> <span class="n">__name__</span> <span class="o">==</span> <span class="s">&quot;__main__&quot;</span><span class="p">:</span>
    <span class="n">proc1</span> <span class="o">=</span> <span class="n">Process</span><span class="p">(</span><span class="n">target</span><span class="o">=</span><span class="n">worker</span><span class="p">)</span>
    <span class="n">proc1</span><span class="o">.</span><span class="n">start</span><span class="p">()</span>
    <span class="n">proc2</span> <span class="o">=</span> <span class="n">Process</span><span class="p">(</span><span class="n">target</span><span class="o">=</span><span class="n">worker</span><span class="p">)</span>
    <span class="n">proc2</span><span class="o">.</span><span class="n">start</span><span class="p">()</span>
</pre></div>

</div>
</div>
<div class="vbox output_wrapper">
<div class="hbox output_area">
<div class="prompt output_prompt"></div>
<div class="output vbox">
<div class="box-flex1 output_subarea output_stream output_stdout">
<pre>Overwriting mp.py
</pre>
</div>
</div>

</div>
</div>
</div>
<div class="cell border-box-sizing code_cell vbox">
<div class="input hbox">
<div class="prompt input_prompt">In&nbsp;[8]:</div>
<div class="input_area box-flex1">
<div class="highlight"><pre><span class="o">%%</span><span class="k">bash</span>
<span class="n">python</span> <span class="n">mp</span><span class="o">.</span><span class="n">py</span>
</pre></div>

</div>
</div>
<div class="vbox output_wrapper">
<div class="hbox output_area">
<div class="prompt output_prompt"></div>
<div class="output vbox">
<div class="box-flex1 output_subarea output_stream output_stdout">
<pre>Worker process 87461
Worker process 87462
</pre>
</div>
</div>

</div>
</div>
</div>
<div class="text_cell_render border-box-sizing rendered_html">
<p>To get the target function to actually work on some input, you need to provide the arguments in the constructur of the <code>Process</code>.</p>
</div>
<div class="cell border-box-sizing code_cell vbox">
<div class="input hbox">
<div class="prompt input_prompt">In&nbsp;[9]:</div>
<div class="input_area box-flex1">
<div class="highlight"><pre><span class="o">%%</span><span class="k">file</span> <span class="n">mp</span><span class="o">.</span><span class="n">py</span>
<span class="kn">from</span> <span class="nn">multiprocessing</span> <span class="kn">import</span> <span class="n">Process</span>
<span class="kn">import</span> <span class="nn">os</span>

<span class="k">def</span> <span class="nf">worker</span><span class="p">(</span><span class="n">arg</span><span class="p">):</span>
    <span class="k">print</span><span class="p">(</span><span class="s">&quot;Worker process {}, argument was {}&quot;</span><span class="o">.</span><span class="n">format</span><span class="p">(</span><span class="n">os</span><span class="o">.</span><span class="n">getpid</span><span class="p">(),</span> <span class="n">arg</span><span class="p">))</span>

<span class="k">if</span> <span class="n">__name__</span> <span class="o">==</span> <span class="s">&quot;__main__&quot;</span><span class="p">:</span>
    <span class="n">proc1</span> <span class="o">=</span> <span class="n">Process</span><span class="p">(</span><span class="n">target</span><span class="o">=</span><span class="n">worker</span><span class="p">,</span> <span class="n">args</span><span class="o">=</span><span class="p">(</span><span class="mi">10</span><span class="p">,))</span>
    <span class="n">proc1</span><span class="o">.</span><span class="n">start</span><span class="p">()</span>
    <span class="n">proc2</span> <span class="o">=</span> <span class="n">Process</span><span class="p">(</span><span class="n">target</span><span class="o">=</span><span class="n">worker</span><span class="p">,</span> <span class="n">args</span><span class="o">=</span><span class="p">(</span><span class="mi">11</span><span class="p">,))</span>
    <span class="n">proc2</span><span class="o">.</span><span class="n">start</span><span class="p">()</span>
</pre></div>

</div>
</div>
<div class="vbox output_wrapper">
<div class="hbox output_area">
<div class="prompt output_prompt"></div>
<div class="output vbox">
<div class="box-flex1 output_subarea output_stream output_stdout">
<pre>Overwriting mp.py
</pre>
</div>
</div>

</div>
</div>
</div>
<div class="cell border-box-sizing code_cell vbox">
<div class="input hbox">
<div class="prompt input_prompt">In&nbsp;[10]:</div>
<div class="input_area box-flex1">
<div class="highlight"><pre><span class="o">%%</span><span class="k">bash</span>
<span class="n">python</span> <span class="n">mp</span><span class="o">.</span><span class="n">py</span>
</pre></div>

</div>
</div>
<div class="vbox output_wrapper">
<div class="hbox output_area">
<div class="prompt output_prompt"></div>
<div class="output vbox">
<div class="box-flex1 output_subarea output_stream output_stdout">
<pre>Worker process 87490, argument was 10
Worker process 87491, argument was 11
</pre>
</div>
</div>

</div>
</div>
</div>
<div class="text_cell_render border-box-sizing rendered_html">
<p>Processes communicate over interprocess communication channel</p>
<ul>
<li><code>Queue</code></li>
<li><code>Pipe</code></li>
</ul>
</div>
<div class="text_cell_render border-box-sizing rendered_html">
<h3><code>Pipe</code></h3>
<p>Gives a pair of connection objects which are connected by a pipe. Uses <code>send</code> and <code>recv</code> methods on objects to comminucate between processes.</p>
</div>
<div class="text_cell_render border-box-sizing rendered_html">
<h3><code>Queue</code></h3>
<p>Gives a thread and process safe queue shared between processes. Can contain any pickle-able object.</p>
</div>
<div class="cell border-box-sizing code_cell vbox">
<div class="input hbox">
<div class="prompt input_prompt">In&nbsp;[11]:</div>
<div class="input_area box-flex1">
<div class="highlight"><pre><span class="o">%%</span><span class="k">file</span> <span class="n">mp2</span><span class="o">.</span><span class="n">py</span>
<span class="kn">from</span> <span class="nn">multiprocessing</span> <span class="kn">import</span> <span class="n">Process</span><span class="p">,</span> <span class="n">Queue</span>
<span class="kn">import</span> <span class="nn">os</span>

<span class="k">def</span> <span class="nf">worker</span><span class="p">(</span><span class="n">tasks</span><span class="p">,</span> <span class="n">results</span><span class="p">):</span>
    <span class="n">t</span> <span class="o">=</span> <span class="n">tasks</span><span class="o">.</span><span class="n">get</span><span class="p">()</span>
    <span class="n">result</span> <span class="o">=</span> <span class="n">t</span> <span class="o">*</span> <span class="mi">2</span>
    <span class="n">results</span><span class="o">.</span><span class="n">put</span><span class="p">([</span><span class="n">os</span><span class="o">.</span><span class="n">getpid</span><span class="p">(),</span> <span class="n">t</span><span class="p">,</span> <span class="s">&quot;-&gt;&quot;</span><span class="p">,</span> <span class="n">result</span><span class="p">])</span>

<span class="k">if</span> <span class="n">__name__</span> <span class="o">==</span> <span class="s">&quot;__main__&quot;</span><span class="p">:</span>
    <span class="n">n</span> <span class="o">=</span> <span class="mi">20</span>
    <span class="n">my_tasks</span> <span class="o">=</span> <span class="n">Queue</span><span class="p">()</span>
    <span class="n">my_results</span> <span class="o">=</span> <span class="n">Queue</span><span class="p">()</span>
    
    <span class="n">workers</span> <span class="o">=</span> <span class="p">[</span><span class="n">Process</span><span class="p">(</span><span class="n">target</span><span class="o">=</span><span class="n">worker</span><span class="p">,</span> <span class="n">args</span><span class="o">=</span><span class="p">(</span><span class="n">my_tasks</span><span class="p">,</span> <span class="n">my_results</span><span class="p">))</span> <span class="k">for</span> <span class="n">i</span> <span class="ow">in</span> <span class="nb">range</span><span class="p">(</span><span class="n">n</span><span class="p">)]</span>
    
    <span class="k">for</span> <span class="n">proc</span> <span class="ow">in</span> <span class="n">workers</span><span class="p">:</span>
        <span class="n">proc</span><span class="o">.</span><span class="n">start</span><span class="p">()</span>
    
    <span class="k">for</span> <span class="n">i</span> <span class="ow">in</span> <span class="nb">range</span><span class="p">(</span><span class="n">n</span><span class="p">):</span>
        <span class="n">my_tasks</span><span class="o">.</span><span class="n">put</span><span class="p">(</span><span class="n">i</span><span class="p">)</span>
    
    <span class="k">for</span> <span class="n">i</span> <span class="ow">in</span> <span class="nb">range</span><span class="p">(</span><span class="n">n</span><span class="p">):</span>
        <span class="n">result</span> <span class="o">=</span> <span class="n">my_results</span><span class="o">.</span><span class="n">get</span><span class="p">()</span>
        <span class="k">print</span><span class="p">(</span><span class="n">result</span><span class="p">)</span>
</pre></div>

</div>
</div>
<div class="vbox output_wrapper">
<div class="hbox output_area">
<div class="prompt output_prompt"></div>
<div class="output vbox">
<div class="box-flex1 output_subarea output_stream output_stdout">
<pre>Overwriting mp2.py
</pre>
</div>
</div>

</div>
</div>
</div>
<div class="cell border-box-sizing code_cell vbox">
<div class="input hbox">
<div class="prompt input_prompt">In&nbsp;[12]:</div>
<div class="input_area box-flex1">
<div class="highlight"><pre><span class="o">%%</span><span class="k">bash</span>
<span class="n">python</span> <span class="n">mp2</span><span class="o">.</span><span class="n">py</span>
</pre></div>

</div>
</div>
<div class="vbox output_wrapper">
<div class="hbox output_area">
<div class="prompt output_prompt"></div>
<div class="output vbox">
<div class="box-flex1 output_subarea output_stream output_stdout">
<pre>[87680, 0, &apos;-&gt;&apos;, 0]
[87681, 1, &apos;-&gt;&apos;, 2]
[87682, 2, &apos;-&gt;&apos;, 4]
[87683, 3, &apos;-&gt;&apos;, 6]
[87685, 5, &apos;-&gt;&apos;, 10]
[87684, 4, &apos;-&gt;&apos;, 8]
[87687, 7, &apos;-&gt;&apos;, 14]
[87686, 6, &apos;-&gt;&apos;, 12]
[87688, 8, &apos;-&gt;&apos;, 16]
[87689, 9, &apos;-&gt;&apos;, 18]
[87691, 11, &apos;-&gt;&apos;, 22]
[87690, 10, &apos;-&gt;&apos;, 20]
[87693, 13, &apos;-&gt;&apos;, 26]
[87692, 12, &apos;-&gt;&apos;, 24]
[87694, 14, &apos;-&gt;&apos;, 28]
[87695, 15, &apos;-&gt;&apos;, 30]
[87696, 16, &apos;-&gt;&apos;, 32]
[87697, 17, &apos;-&gt;&apos;, 34]
[87699, 19, &apos;-&gt;&apos;, 38]
[87698, 18, &apos;-&gt;&apos;, 36]
</pre>
</div>
</div>

</div>
</div>
</div>
<div class="text_cell_render border-box-sizing rendered_html">
<p>Because the processes are executed in parallel we can never know the order of results being put in the <code>Queue</code>.</p>
</div>
<div class="cell border-box-sizing code_cell vbox">
<div class="input hbox">
<div class="prompt input_prompt">In&nbsp;[13]:</div>
<div class="input_area box-flex1">
<div class="highlight"><pre><span class="kn">from</span> <span class="nn">multiprocessing</span> <span class="kn">import</span> <span class="n">Queue</span>
</pre></div>

</div>
</div>
</div>
<div class="cell border-box-sizing code_cell vbox">
<div class="input hbox">
<div class="prompt input_prompt">In&nbsp;[14]:</div>
<div class="input_area box-flex1">
<div class="highlight"><pre><span class="n">q</span> <span class="o">=</span> <span class="n">Queue</span><span class="p">()</span>
</pre></div>

</div>
</div>
</div>
<div class="cell border-box-sizing code_cell vbox">
<div class="input hbox">
<div class="prompt input_prompt">In&nbsp;[15]:</div>
<div class="input_area box-flex1">
<div class="highlight"><pre><span class="n">q</span><span class="o">.</span><span class="n">get</span><span class="err">?</span>
</pre></div>

</div>
</div>
</div>
<div class="text_cell_render border-box-sizing rendered_html">
<h3><code>Manager</code></h3>
<p>A special <code>Process</code> which holds Python objects so that other processes can manipulate them.
When a managed object is manipulated somewhere, the manager will make sure the change is propagated to any other processes using the managed object.</p>
</div>
<div class="cell border-box-sizing code_cell vbox">
<div class="input hbox">
<div class="prompt input_prompt">In&nbsp;[16]:</div>
<div class="input_area box-flex1">
<div class="highlight"><pre><span class="o">%%</span><span class="k">file</span> <span class="n">mp3</span><span class="o">.</span><span class="n">py</span>
<span class="kn">from</span> <span class="nn">multiprocessing</span> <span class="kn">import</span> <span class="n">Process</span><span class="p">,</span> <span class="n">Manager</span>
<span class="kn">import</span> <span class="nn">os</span>

<span class="k">def</span> <span class="nf">worker</span><span class="p">(</span><span class="n">l</span><span class="p">):</span>
    <span class="n">p</span> <span class="o">=</span> <span class="n">os</span><span class="o">.</span><span class="n">getpid</span><span class="p">()</span>
    <span class="n">l</span><span class="p">[</span><span class="nb">int</span><span class="p">(</span><span class="nb">str</span><span class="p">(</span><span class="n">p</span><span class="p">)[</span><span class="o">-</span><span class="mi">2</span><span class="p">:])]</span> <span class="o">=</span> <span class="n">p</span>


<span class="k">if</span> <span class="n">__name__</span> <span class="o">==</span> <span class="s">&quot;__main__&quot;</span><span class="p">:</span>
    <span class="n">n</span> <span class="o">=</span> <span class="mi">100</span>
    <span class="n">manager</span> <span class="o">=</span> <span class="n">Manager</span><span class="p">()</span>
    <span class="n">l</span> <span class="o">=</span> <span class="n">manager</span><span class="o">.</span><span class="n">list</span><span class="p">()</span>
    <span class="n">l</span><span class="o">.</span><span class="n">extend</span><span class="p">([</span><span class="mi">0</span><span class="p">]</span> <span class="o">*</span> <span class="n">n</span><span class="p">)</span>
    
    <span class="n">processes</span> <span class="o">=</span> <span class="p">[</span><span class="n">Process</span><span class="p">(</span><span class="n">target</span><span class="o">=</span><span class="n">worker</span><span class="p">,</span> <span class="n">args</span><span class="o">=</span><span class="p">(</span><span class="n">l</span><span class="p">,))</span> <span class="k">for</span> <span class="n">i</span> <span class="ow">in</span> <span class="nb">range</span><span class="p">(</span><span class="mi">20</span><span class="p">)]</span>
    
    <span class="k">for</span> <span class="n">proc</span> <span class="ow">in</span> <span class="n">processes</span><span class="p">:</span>
        <span class="n">proc</span><span class="o">.</span><span class="n">start</span><span class="p">()</span>
    
    <span class="k">for</span> <span class="n">proc</span> <span class="ow">in</span> <span class="n">processes</span><span class="p">:</span>
        <span class="n">proc</span><span class="o">.</span><span class="n">join</span><span class="p">()</span>
    
    <span class="k">print</span><span class="p">(</span><span class="n">l</span><span class="p">)</span>
</pre></div>

</div>
</div>
<div class="vbox output_wrapper">
<div class="hbox output_area">
<div class="prompt output_prompt"></div>
<div class="output vbox">
<div class="box-flex1 output_subarea output_stream output_stdout">
<pre>Overwriting mp3.py
</pre>
</div>
</div>

</div>
</div>
</div>
<div class="cell border-box-sizing code_cell vbox">
<div class="input hbox">
<div class="prompt input_prompt">In&nbsp;[17]:</div>
<div class="input_area box-flex1">
<div class="highlight"><pre><span class="o">%%</span><span class="k">bash</span>
<span class="n">python</span> <span class="n">mp3</span><span class="o">.</span><span class="n">py</span>
</pre></div>

</div>
</div>
<div class="vbox output_wrapper">
<div class="hbox output_area">
<div class="prompt output_prompt"></div>
<div class="output vbox">
<div class="box-flex1 output_subarea output_stream output_stdout">
<pre>[0, 0, 0, 0, 0, 0, 0, 0, 0, 0, 0, 0, 0, 0, 0, 0, 0, 0, 0, 0, 0, 0, 0, 0, 87824, 87825, 87826, 87827, 87828, 87829, 87830, 87831, 87832, 87833, 87834, 87835, 87836, 87837, 87838, 87839, 87840, 87841, 87842, 87843, 0, 0, 0, 0, 0, 0, 0, 0, 0, 0, 0, 0, 0, 0, 0, 0, 0, 0, 0, 0, 0, 0, 0, 0, 0, 0, 0, 0, 0, 0, 0, 0, 0, 0, 0, 0, 0, 0, 0, 0, 0, 0, 0, 0, 0, 0, 0, 0, 0, 0, 0, 0, 0, 0, 0, 0]
</pre>
</div>
</div>

</div>
</div>
</div>
<div class="text_cell_render border-box-sizing rendered_html">
<h3><code>Pool</code></h3>
<p>The <code>Pool</code> class distributes work between workers and collects the results as a list. It is <em>extremely</em> handy for quickly implementing some simple parallelization.</p>
</div>
<div class="cell border-box-sizing code_cell vbox">
<div class="input hbox">
<div class="prompt input_prompt">In&nbsp;[20]:</div>
<div class="input_area box-flex1">
<div class="highlight"><pre><span class="o">%%</span><span class="k">file</span> <span class="n">mp</span><span class="o">.</span><span class="n">py</span>
<span class="kn">import</span> <span class="nn">multiprocessing</span>
<span class="kn">import</span> <span class="nn">os</span>


<span class="k">def</span> <span class="nf">task</span><span class="p">(</span><span class="n">args</span><span class="p">):</span>
    <span class="k">print</span> <span class="s">&quot;Running process&quot;</span><span class="p">,</span> <span class="n">os</span><span class="o">.</span><span class="n">getpid</span><span class="p">(),</span> <span class="s">&quot;with args&quot;</span><span class="p">,</span> <span class="n">args</span>
    <span class="k">return</span> <span class="n">os</span><span class="o">.</span><span class="n">getpid</span><span class="p">(),</span> <span class="n">args</span>


<span class="k">if</span> <span class="n">__name__</span> <span class="o">==</span> <span class="s">&quot;__main__&quot;</span><span class="p">:</span>
    <span class="n">pool</span> <span class="o">=</span> <span class="n">multiprocessing</span><span class="o">.</span><span class="n">Pool</span><span class="p">(</span><span class="n">processes</span><span class="o">=</span><span class="mi">4</span><span class="p">)</span>
    <span class="n">result</span> <span class="o">=</span> <span class="n">pool</span><span class="o">.</span><span class="n">map</span><span class="p">(</span><span class="n">task</span><span class="p">,</span> <span class="p">[</span><span class="mi">1</span><span class="p">,</span><span class="mi">2</span><span class="p">,</span><span class="mi">3</span><span class="p">,</span><span class="mi">4</span><span class="p">]</span><span class="o">*</span><span class="mi">3</span><span class="p">)</span>
    <span class="k">print</span><span class="p">(</span><span class="n">result</span><span class="p">)</span>
</pre></div>

</div>
</div>
<div class="vbox output_wrapper">
<div class="hbox output_area">
<div class="prompt output_prompt"></div>
<div class="output vbox">
<div class="box-flex1 output_subarea output_stream output_stdout">
<pre>Overwriting mp.py
</pre>
</div>
</div>

</div>
</div>
</div>
<div class="cell border-box-sizing code_cell vbox">
<div class="input hbox">
<div class="prompt input_prompt">In&nbsp;[21]:</div>
<div class="input_area box-flex1">
<div class="highlight"><pre><span class="o">%%</span><span class="k">bash</span>
<span class="n">python</span> <span class="n">mp</span><span class="o">.</span><span class="n">py</span>
</pre></div>

</div>
</div>
<div class="vbox output_wrapper">
<div class="hbox output_area">
<div class="prompt output_prompt"></div>
<div class="output vbox">
<div class="box-flex1 output_subarea output_stream output_stdout">
<pre>Running process 88078 with args 4
Running process 88077 with args 3
Running process 88077 with args 3
Running process 88077 with args 2
Running process 88075 with args 1
Running process 88075 with args 1
Running process 88075 with args 4
Running process 88075 with args 3
Running process 88076 with args 2
Running process 88076 with args 2
Running process 88076 with args 1
Running process 88076 with args 4
[(88075, 1), (88076, 2), (88077, 3), (88078, 4), (88075, 1), (88076, 2), (88077, 3), (88075, 4), (88076, 1), (88077, 2), (88075, 3), (88076, 4)]
</pre>
</div>
</div>

</div>
</div>
</div>
<div class="text_cell_render border-box-sizing rendered_html">
<p>The method <code>.map()</code> works like the built in function <code>map()</code>, but will send data from the iterable to different processes. By default it will send one element at a time, but this can be changed with the <code>chunksize</code> parameter.</p>
<p>A similar method called <code>.map_async()</code> usually performs better in parallel, but in that case one has to fetch the results using a <code>.get()</code> method of the returned value of <code>.map_async()</code> (which is an instance of the class <code>AsyncResult</code>).</p>
</div>
<div class="cell border-box-sizing code_cell vbox">
<div class="input hbox">
<div class="prompt input_prompt">In&nbsp;[22]:</div>
<div class="input_area box-flex1">
<div class="highlight"><pre><span class="o">%%</span><span class="k">file</span> <span class="n">mp</span><span class="o">.</span><span class="n">py</span>
<span class="kn">import</span> <span class="nn">multiprocessing</span>
<span class="kn">import</span> <span class="nn">os</span>

<span class="k">def</span> <span class="nf">task</span><span class="p">(</span><span class="n">args</span><span class="p">):</span>
    <span class="k">print</span> <span class="s">&quot;Running process&quot;</span><span class="p">,</span> <span class="n">os</span><span class="o">.</span><span class="n">getpid</span><span class="p">(),</span> <span class="s">&quot;with args&quot;</span><span class="p">,</span> <span class="n">args</span>
    <span class="k">return</span> <span class="n">os</span><span class="o">.</span><span class="n">getpid</span><span class="p">(),</span> <span class="n">args</span>


<span class="k">if</span> <span class="n">__name__</span> <span class="o">==</span> <span class="s">&quot;__main__&quot;</span><span class="p">:</span>
    <span class="n">pool</span> <span class="o">=</span> <span class="n">multiprocessing</span><span class="o">.</span><span class="n">Pool</span><span class="p">(</span><span class="n">processes</span><span class="o">=</span><span class="mi">4</span><span class="p">)</span>
    <span class="n">result</span> <span class="o">=</span> <span class="n">pool</span><span class="o">.</span><span class="n">map_async</span><span class="p">(</span><span class="n">task</span><span class="p">,</span> <span class="p">[</span><span class="mi">1</span><span class="p">,</span><span class="mi">2</span><span class="p">,</span><span class="mi">3</span><span class="p">,</span><span class="mi">4</span><span class="p">])</span>
    <span class="k">print</span><span class="p">(</span><span class="n">result</span><span class="o">.</span><span class="n">get</span><span class="p">())</span>
</pre></div>

</div>
</div>
<div class="vbox output_wrapper">
<div class="hbox output_area">
<div class="prompt output_prompt"></div>
<div class="output vbox">
<div class="box-flex1 output_subarea output_stream output_stdout">
<pre>Overwriting mp.py
</pre>
</div>
</div>

</div>
</div>
</div>
<div class="cell border-box-sizing code_cell vbox">
<div class="input hbox">
<div class="prompt input_prompt">In&nbsp;[23]:</div>
<div class="input_area box-flex1">
<div class="highlight"><pre><span class="o">%%</span><span class="k">bash</span>
<span class="n">python</span> <span class="n">mp</span><span class="o">.</span><span class="n">py</span>
</pre></div>

</div>
</div>
<div class="vbox output_wrapper">
<div class="hbox output_area">
<div class="prompt output_prompt"></div>
<div class="output vbox">
<div class="box-flex1 output_subarea output_stream output_stdout">
<pre>Running process 88108 with args 1
Running process 88109 with args 2
Running process 88110 with args 3
Running process 88111 with args 4
[(88108, 1), (88109, 2), (88110, 3), (88111, 4)]
</pre>
</div>
</div>

</div>
</div>
</div>
<div class="text_cell_render border-box-sizing rendered_html">
<h2>IPython Parallel</h2>
<p>http://ipython.org/ipython-doc/dev/parallel/</p>
<p>The strategy for achieving parallelization in IPython Parallel differs from <code>multiprocessing</code> in that you need to start <em>engine</em> processes and a <em>hub</em> process before you want to run code.</p>
<p>One then connect to the hub, which will aid in the distrubution of work across the engines.</p>
<p>When IPython is installed, a program <code>ipcluster</code> is also installed which simplifies starting engines and hub. To start a cluster with 4 workers one would run </p>
<pre><code>$ ipcluster start -n 4
</code></pre>
<p>In the IPython Notebook, clusters can also be started from the IPython Dashboard.</p>
</div>
<div class="cell border-box-sizing code_cell vbox">
<div class="input hbox">
<div class="prompt input_prompt">In&nbsp;[24]:</div>
<div class="input_area box-flex1">
<div class="highlight"><pre><span class="kn">from</span> <span class="nn">IPython.parallel</span> <span class="kn">import</span> <span class="n">Client</span>
</pre></div>

</div>
</div>
</div>
<div class="text_cell_render border-box-sizing rendered_html">
<p>Let's try initiating the client before we have started the cluster!</p>
</div>
<div class="cell border-box-sizing code_cell vbox">
<div class="input hbox">
<div class="prompt input_prompt">In&nbsp;[25]:</div>
<div class="input_area box-flex1">
<div class="highlight"><pre><span class="n">cli</span> <span class="o">=</span> <span class="n">Client</span><span class="p">()</span>
</pre></div>

</div>
</div>
<div class="vbox output_wrapper">
<div class="hbox output_area">
<div class="prompt output_prompt"></div>
<div class="output vbox">
<div class="box-flex1 output_subarea output_pyerr">
<pre>
<span class="ansired">---------------------------------------------------------------------------</span>
<span class="ansired">IOError</span>                                   Traceback (most recent call last)
<span class="ansigreen">&lt;ipython-input-25-e24bb842824a&gt;</span> in <span class="ansicyan">&lt;module&gt;</span><span class="ansiblue">()</span>
<span class="ansigreen">----&gt; 1</span><span class="ansired"> </span>cli <span class="ansiblue">=</span> Client<span class="ansiblue">(</span><span class="ansiblue">)</span><span class="ansiblue"></span>

<span class="ansigreen">/Users/vale/.virtualenvs/devel/lib/python2.7/site-packages/IPython/parallel/client/client.pyc</span> in <span class="ansicyan">__init__</span><span class="ansiblue">(self, url_or_file, profile, profile_dir, ipython_dir, context, debug, exec_key, sshserver, sshkey, password, paramiko, timeout, **extra_args)</span>
<span class="ansigreen">    409</span>                     url_or_file <span class="ansiblue">=</span> os<span class="ansiblue">.</span>path<span class="ansiblue">.</span>join<span class="ansiblue">(</span>self<span class="ansiblue">.</span>_cd<span class="ansiblue">.</span>security_dir<span class="ansiblue">,</span> url_or_file<span class="ansiblue">)</span><span class="ansiblue"></span>
<span class="ansigreen">    410</span>                 <span class="ansigreen">if</span> <span class="ansigreen">not</span> os<span class="ansiblue">.</span>path<span class="ansiblue">.</span>exists<span class="ansiblue">(</span>url_or_file<span class="ansiblue">)</span><span class="ansiblue">:</span><span class="ansiblue"></span>
<span class="ansigreen">--&gt; 411</span><span class="ansired">                     </span><span class="ansigreen">raise</span> IOError<span class="ansiblue">(</span><span class="ansiblue">&quot;Connection file not found: %r&quot;</span> <span class="ansiblue">%</span> url_or_file<span class="ansiblue">)</span><span class="ansiblue"></span>
<span class="ansigreen">    412</span>             <span class="ansigreen">with</span> open<span class="ansiblue">(</span>url_or_file<span class="ansiblue">)</span> <span class="ansigreen">as</span> f<span class="ansiblue">:</span><span class="ansiblue"></span>
<span class="ansigreen">    413</span>                 cfg <span class="ansiblue">=</span> json<span class="ansiblue">.</span>loads<span class="ansiblue">(</span>f<span class="ansiblue">.</span>read<span class="ansiblue">(</span><span class="ansiblue">)</span><span class="ansiblue">)</span><span class="ansiblue"></span>

<span class="ansired">IOError</span>: Connection file not found: u&apos;/Users/vale/.ipython/profile_default/security/ipcontroller-client.json&apos;</pre>
</div>
</div>

</div>
</div>
</div>
<div class="text_cell_render border-box-sizing rendered_html">
<p>IPython keeps track of addresses and such of local engines in the <code>.ipython</code> directory in your home folder. But <code>Client()</code> can also take a URL or a path to a configuration file with information on how to connect to the cluster.</p>
<p>Now start the cluster (either in terminal or on the Dashboard)</p>
</div>
<div class="cell border-box-sizing code_cell vbox">
<div class="input hbox">
<div class="prompt input_prompt">In&nbsp;[26]:</div>
<div class="input_area box-flex1">
<div class="highlight"><pre><span class="n">cli</span> <span class="o">=</span> <span class="n">Client</span><span class="p">()</span>
</pre></div>

</div>
</div>
</div>
<div class="cell border-box-sizing code_cell vbox">
<div class="input hbox">
<div class="prompt input_prompt">In&nbsp;[27]:</div>
<div class="input_area box-flex1">
<div class="highlight"><pre><span class="n">cli</span><span class="o">.</span><span class="n">ids</span>
</pre></div>

</div>
</div>
<div class="vbox output_wrapper">
<div class="hbox output_area">
<div class="prompt output_prompt">Out[27]:</div>
<div class="output vbox">
<div class="box-flex1 output_subarea output_pyout">

<pre>[0, 1, 2, 3, 4, 5, 6, 7]</pre>
</div>
</div>

</div>
</div>
</div>
<div class="text_cell_render border-box-sizing rendered_html">
<p>The <code>ids</code> field lists the engines in the cluster.</p>
<p>Say we want to have a look at the pid like we have done for all the <code>multiprocessing</code> exampels.</p>
</div>
<div class="cell border-box-sizing code_cell vbox">
<div class="input hbox">
<div class="prompt input_prompt">In&nbsp;[28]:</div>
<div class="input_area box-flex1">
<div class="highlight"><pre><span class="k">def</span> <span class="nf">get_pid</span><span class="p">():</span>
    <span class="kn">import</span> <span class="nn">os</span>
    <span class="k">return</span> <span class="n">os</span><span class="o">.</span><span class="n">getpid</span><span class="p">()</span>
</pre></div>

</div>
</div>
</div>
<div class="cell border-box-sizing code_cell vbox">
<div class="input hbox">
<div class="prompt input_prompt">In&nbsp;[29]:</div>
<div class="input_area box-flex1">
<div class="highlight"><pre><span class="n">cli</span><span class="p">[</span><span class="mi">0</span><span class="p">]</span><span class="o">.</span><span class="n">apply_sync</span><span class="p">(</span><span class="n">get_pid</span><span class="p">)</span>
</pre></div>

</div>
</div>
<div class="vbox output_wrapper">
<div class="hbox output_area">
<div class="prompt output_prompt">Out[29]:</div>
<div class="output vbox">
<div class="box-flex1 output_subarea output_pyout">

<pre>88707</pre>
</div>
</div>

</div>
</div>
</div>
<div class="cell border-box-sizing code_cell vbox">
<div class="input hbox">
<div class="prompt input_prompt">In&nbsp;[30]:</div>
<div class="input_area box-flex1">
<div class="highlight"><pre><span class="n">get_pid</span><span class="p">()</span>
</pre></div>

</div>
</div>
<div class="vbox output_wrapper">
<div class="hbox output_area">
<div class="prompt output_prompt">Out[30]:</div>
<div class="output vbox">
<div class="box-flex1 output_subarea output_pyout">

<pre>83928</pre>
</div>
</div>

</div>
</div>
</div>
<div class="text_cell_render border-box-sizing rendered_html">
<p>We need to <code>import os</code> in the function we send to the engine. That engine was started without any imported functions. Every time we want the engines to have some data, we need to explicitly send it to them. Or instructions on how to get it in the case of <code>import</code>.</p>
<p>There is a method for syncing import across engines.</p>
</div>
<div class="cell border-box-sizing code_cell vbox">
<div class="input hbox">
<div class="prompt input_prompt">In&nbsp;[33]:</div>
<div class="input_area box-flex1">
<div class="highlight"><pre><span class="n">cli</span><span class="p">[:]</span><span class="o">.</span><span class="n">apply_sync</span><span class="p">(</span><span class="n">get_pid</span><span class="p">)</span>
</pre></div>

</div>
</div>
<div class="vbox output_wrapper">
<div class="hbox output_area">
<div class="prompt output_prompt">Out[33]:</div>
<div class="output vbox">
<div class="box-flex1 output_subarea output_pyout">

<pre>[88707, 88708, 88706, 88709, 88710, 88711, 88712, 88713]</pre>
</div>
</div>

</div>
</div>
</div>
<div class="text_cell_render border-box-sizing rendered_html">
<p>A collection of engines is referred to as an <em>engine pool</em>, the standard <em>view</em> to an engine pool is called a <em>direct view</em>.</p>
</div>
<div class="cell border-box-sizing code_cell vbox">
<div class="input hbox">
<div class="prompt input_prompt">In&nbsp;[34]:</div>
<div class="input_area box-flex1">
<div class="highlight"><pre><span class="n">dview</span> <span class="o">=</span> <span class="n">cli</span><span class="p">[:]</span>
</pre></div>

</div>
</div>
</div>
<div class="text_cell_render border-box-sizing rendered_html">
<p>The direct view provides a decorator which can be used to make any function parallelized.</p>
</div>
<div class="cell border-box-sizing code_cell vbox">
<div class="input hbox">
<div class="prompt input_prompt">In&nbsp;[35]:</div>
<div class="input_area box-flex1">
<div class="highlight"><pre><span class="nd">@dview.parallel</span><span class="p">(</span><span class="n">block</span><span class="o">=</span><span class="bp">True</span><span class="p">)</span>
<span class="k">def</span> <span class="nf">pstr</span><span class="p">(</span><span class="n">x</span><span class="p">):</span>
    <span class="k">return</span> <span class="nb">str</span><span class="p">(</span><span class="n">x</span><span class="p">)</span>
</pre></div>

</div>
</div>
</div>
<div class="text_cell_render border-box-sizing rendered_html">
<p>After the <code>.parallel</code> decorater have been used on a function, it is changed in such a way that arguments given to the function will be split up, sent to engines, then put together again after the calculation is done.</p>
<p>The new <code>ParallelFunction</code> also has a <code>.map()</code> method which will run the function for each of the values in an iterable on different engines, and return the list of results when it's done.</p>
</div>
<div class="cell border-box-sizing code_cell vbox">
<div class="input hbox">
<div class="prompt input_prompt">In&nbsp;[36]:</div>
<div class="input_area box-flex1">
<div class="highlight"><pre><span class="nb">str</span><span class="p">(</span><span class="nb">range</span><span class="p">(</span><span class="mi">10</span><span class="p">))</span>
</pre></div>

</div>
</div>
<div class="vbox output_wrapper">
<div class="hbox output_area">
<div class="prompt output_prompt">Out[36]:</div>
<div class="output vbox">
<div class="box-flex1 output_subarea output_pyout">

<pre>&apos;[0, 1, 2, 3, 4, 5, 6, 7, 8, 9]&apos;</pre>
</div>
</div>

</div>
</div>
</div>
<div class="cell border-box-sizing code_cell vbox">
<div class="input hbox">
<div class="prompt input_prompt">In&nbsp;[37]:</div>
<div class="input_area box-flex1">
<div class="highlight"><pre><span class="n">pstr</span><span class="p">(</span><span class="nb">range</span><span class="p">(</span><span class="mi">10</span><span class="p">))</span>
</pre></div>

</div>
</div>
<div class="vbox output_wrapper">
<div class="hbox output_area">
<div class="prompt output_prompt">Out[37]:</div>
<div class="output vbox">
<div class="box-flex1 output_subarea output_pyout">

<pre>[&apos;[0, 1]&apos;, &apos;[2, 3]&apos;, &apos;[4]&apos;, &apos;[5]&apos;, &apos;[6]&apos;, &apos;[7]&apos;, &apos;[8]&apos;, &apos;[9]&apos;]</pre>
</div>
</div>

</div>
</div>
</div>
<div class="cell border-box-sizing code_cell vbox">
<div class="input hbox">
<div class="prompt input_prompt">In&nbsp;[38]:</div>
<div class="input_area box-flex1">
<div class="highlight"><pre><span class="n">pstr</span><span class="o">.</span><span class="n">map</span><span class="p">(</span><span class="nb">range</span><span class="p">(</span><span class="mi">10</span><span class="p">))</span>
</pre></div>

</div>
</div>
<div class="vbox output_wrapper">
<div class="hbox output_area">
<div class="prompt output_prompt">Out[38]:</div>
<div class="output vbox">
<div class="box-flex1 output_subarea output_pyout">

<pre>[&apos;0&apos;, &apos;1&apos;, &apos;2&apos;, &apos;3&apos;, &apos;4&apos;, &apos;5&apos;, &apos;6&apos;, &apos;7&apos;, &apos;8&apos;, &apos;9&apos;]</pre>
</div>
</div>

</div>
</div>
</div>
<div class="cell border-box-sizing code_cell vbox">
<div class="input hbox">
<div class="prompt input_prompt">In&nbsp;[39]:</div>
<div class="input_area box-flex1">
<div class="highlight"><pre><span class="kn">from</span> <span class="nn">numpy</span> <span class="kn">import</span> <span class="n">random</span>
</pre></div>

</div>
</div>
</div>
<div class="cell border-box-sizing code_cell vbox">
<div class="input hbox">
<div class="prompt input_prompt">In&nbsp;[40]:</div>
<div class="input_area box-flex1">
<div class="highlight"><pre><span class="nd">@dview.parallel</span><span class="p">(</span><span class="n">block</span><span class="o">=</span><span class="bp">True</span><span class="p">)</span>
<span class="k">def</span> <span class="nf">task</span><span class="p">(</span><span class="n">delay</span><span class="p">):</span>
    <span class="kn">import</span> <span class="nn">os</span><span class="o">,</span> <span class="nn">time</span>
    
    <span class="n">t0</span> <span class="o">=</span> <span class="n">time</span><span class="o">.</span><span class="n">time</span><span class="p">()</span>
    <span class="n">pid</span> <span class="o">=</span> <span class="n">os</span><span class="o">.</span><span class="n">getpid</span><span class="p">()</span>
    <span class="n">time</span><span class="o">.</span><span class="n">sleep</span><span class="p">(</span><span class="n">delay</span><span class="p">)</span>
    <span class="n">t1</span> <span class="o">=</span> <span class="n">time</span><span class="o">.</span><span class="n">time</span><span class="p">()</span>
    
    <span class="k">return</span> <span class="p">[</span><span class="n">pid</span><span class="p">,</span> <span class="n">t0</span><span class="p">,</span> <span class="n">t1</span><span class="p">]</span>
</pre></div>

</div>
</div>
</div>
<div class="cell border-box-sizing code_cell vbox">
<div class="input hbox">
<div class="prompt input_prompt">In&nbsp;[43]:</div>
<div class="input_area box-flex1">
<div class="highlight"><pre><span class="n">delays</span> <span class="o">=</span> <span class="n">random</span><span class="o">.</span><span class="n">rand</span><span class="p">(</span><span class="mi">4</span><span class="p">)</span>
</pre></div>

</div>
</div>
</div>
<div class="cell border-box-sizing code_cell vbox">
<div class="input hbox">
<div class="prompt input_prompt">In&nbsp;[44]:</div>
<div class="input_area box-flex1">
<div class="highlight"><pre><span class="n">task</span><span class="o">.</span><span class="n">map</span><span class="p">(</span><span class="n">delays</span><span class="p">)</span>
</pre></div>

</div>
</div>
<div class="vbox output_wrapper">
<div class="hbox output_area">
<div class="prompt output_prompt">Out[44]:</div>
<div class="output vbox">
<div class="box-flex1 output_subarea output_pyout">

<pre>[[88707, 1361974304.03308, 1361974304.959194],
 [88708, 1361974304.034218, 1361974304.233133],
 [88706, 1361974304.035217, 1361974304.954711],
 [88709, 1361974304.036044, 1361974304.276678]]</pre>
</div>
</div>

</div>
</div>
</div>
<div class="cell border-box-sizing code_cell vbox">
<div class="input hbox">
<div class="prompt input_prompt">In&nbsp;[45]:</div>
<div class="input_area box-flex1">
<div class="highlight"><pre><span class="k">def</span> <span class="nf">visualize_tasks</span><span class="p">(</span><span class="n">results</span><span class="p">):</span>
    <span class="n">res</span> <span class="o">=</span> <span class="n">np</span><span class="o">.</span><span class="n">array</span><span class="p">(</span><span class="n">results</span><span class="p">)</span>
    <span class="n">fig</span><span class="p">,</span> <span class="n">ax</span> <span class="o">=</span> <span class="n">plt</span><span class="o">.</span><span class="n">subplots</span><span class="p">(</span><span class="n">figsize</span><span class="o">=</span><span class="p">(</span><span class="mi">10</span><span class="p">,</span> <span class="n">res</span><span class="o">.</span><span class="n">shape</span><span class="p">[</span><span class="mi">1</span><span class="p">]))</span>
    
    <span class="n">yticks</span> <span class="o">=</span> <span class="p">[]</span>
    <span class="n">yticklabels</span> <span class="o">=</span> <span class="p">[]</span>
    <span class="n">tmin</span> <span class="o">=</span> <span class="nb">min</span><span class="p">(</span><span class="n">res</span><span class="p">[:,</span><span class="mi">1</span><span class="p">])</span>
    <span class="k">for</span> <span class="n">n</span><span class="p">,</span> <span class="n">pid</span> <span class="ow">in</span> <span class="nb">enumerate</span><span class="p">(</span><span class="n">np</span><span class="o">.</span><span class="n">unique</span><span class="p">(</span><span class="n">res</span><span class="p">[:,</span><span class="mi">0</span><span class="p">])):</span>
        <span class="n">yticks</span><span class="o">.</span><span class="n">append</span><span class="p">(</span><span class="n">n</span><span class="p">)</span>
        <span class="n">yticklabels</span><span class="o">.</span><span class="n">append</span><span class="p">(</span><span class="s">&quot;</span><span class="si">%d</span><span class="s">&quot;</span> <span class="o">%</span> <span class="n">pid</span><span class="p">)</span>
        <span class="k">for</span> <span class="n">m</span> <span class="ow">in</span> <span class="n">np</span><span class="o">.</span><span class="n">where</span><span class="p">(</span><span class="n">res</span><span class="p">[:,</span><span class="mi">0</span><span class="p">]</span> <span class="o">==</span> <span class="n">pid</span><span class="p">)[</span><span class="mi">0</span><span class="p">]:</span>
            <span class="n">ax</span><span class="o">.</span><span class="n">add_patch</span><span class="p">(</span><span class="n">Rectangle</span><span class="p">((</span><span class="n">res</span><span class="p">[</span><span class="n">m</span><span class="p">,</span><span class="mi">1</span><span class="p">]</span> <span class="o">-</span> <span class="n">tmin</span><span class="p">,</span> <span class="n">n</span><span class="o">-</span><span class="mf">0.25</span><span class="p">),</span>
                         <span class="n">res</span><span class="p">[</span><span class="n">m</span><span class="p">,</span><span class="mi">2</span><span class="p">]</span> <span class="o">-</span> <span class="n">res</span><span class="p">[</span><span class="n">m</span><span class="p">,</span><span class="mi">1</span><span class="p">],</span> <span class="mf">0.5</span><span class="p">,</span> <span class="n">color</span><span class="o">=</span><span class="s">&quot;green&quot;</span><span class="p">,</span> <span class="n">alpha</span><span class="o">=</span><span class="mf">0.5</span><span class="p">))</span>
        
    <span class="n">ax</span><span class="o">.</span><span class="n">set_ylim</span><span class="p">(</span><span class="o">-.</span><span class="mi">5</span><span class="p">,</span> <span class="n">n</span><span class="o">+.</span><span class="mi">5</span><span class="p">)</span>
    <span class="n">ax</span><span class="o">.</span><span class="n">set_xlim</span><span class="p">(</span><span class="mi">0</span><span class="p">,</span> <span class="nb">max</span><span class="p">(</span><span class="n">res</span><span class="p">[:,</span><span class="mi">2</span><span class="p">])</span> <span class="o">-</span> <span class="n">tmin</span> <span class="o">+</span> <span class="mf">0.</span><span class="p">)</span>
    <span class="n">ax</span><span class="o">.</span><span class="n">set_yticks</span><span class="p">(</span><span class="n">yticks</span><span class="p">)</span>
    <span class="n">ax</span><span class="o">.</span><span class="n">set_yticklabels</span><span class="p">(</span><span class="n">yticklabels</span><span class="p">)</span>
    <span class="n">ax</span><span class="o">.</span><span class="n">set_ylabel</span><span class="p">(</span><span class="s">&quot;PID&quot;</span><span class="p">)</span>
    <span class="n">ax</span><span class="o">.</span><span class="n">set_xlabel</span><span class="p">(</span><span class="s">&quot;seconds&quot;</span><span class="p">)</span>
</pre></div>

</div>
</div>
</div>
<div class="cell border-box-sizing code_cell vbox">
<div class="input hbox">
<div class="prompt input_prompt">In&nbsp;[46]:</div>
<div class="input_area box-flex1">
<div class="highlight"><pre><span class="n">delays</span> <span class="o">=</span> <span class="n">random</span><span class="o">.</span><span class="n">rand</span><span class="p">(</span><span class="mi">100</span><span class="p">)</span> <span class="o">/</span> <span class="mf">4.</span>
</pre></div>

</div>
</div>
</div>
<div class="cell border-box-sizing code_cell vbox">
<div class="input hbox">
<div class="prompt input_prompt">In&nbsp;[47]:</div>
<div class="input_area box-flex1">
<div class="highlight"><pre><span class="n">result</span> <span class="o">=</span> <span class="n">task</span><span class="o">.</span><span class="n">map</span><span class="p">(</span><span class="n">delays</span><span class="p">)</span>
</pre></div>

</div>
</div>
</div>
<div class="cell border-box-sizing code_cell vbox">
<div class="input hbox">
<div class="prompt input_prompt">In&nbsp;[48]:</div>
<div class="input_area box-flex1">
<div class="highlight"><pre><span class="n">visualize_tasks</span><span class="p">(</span><span class="n">result</span><span class="p">)</span>
</pre></div>

</div>
</div>
<div class="vbox output_wrapper">
<div class="hbox output_area">
<div class="prompt output_prompt"></div>
<div class="output vbox">
<div class="box-flex1 output_subarea output_display_data">

<img src="data:image/png;base64,iVBORw0KGgoAAAANSUhEUgAAAmwAAADOCAYAAACD3l7pAAAABHNCSVQICAgIfAhkiAAAAAlwSFlz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"></img>
</div>
</div>

</div>
</div>
</div>
<div class="text_cell_render border-box-sizing rendered_html">
<p>There are more views to engine pools, one of them is the <code>load_balanced_view</code> which automatically helps utilize engines which normally would sit aroudn idly waiting for other engines to finish.</p>
</div>
<div class="cell border-box-sizing code_cell vbox">
<div class="input hbox">
<div class="prompt input_prompt">In&nbsp;[49]:</div>
<div class="input_area box-flex1">
<div class="highlight"><pre><span class="n">lbview</span> <span class="o">=</span> <span class="n">cli</span><span class="o">.</span><span class="n">load_balanced_view</span><span class="p">()</span>
</pre></div>

</div>
</div>
</div>
<div class="cell border-box-sizing code_cell vbox">
<div class="input hbox">
<div class="prompt input_prompt">In&nbsp;[50]:</div>
<div class="input_area box-flex1">
<div class="highlight"><pre><span class="nd">@lbview.parallel</span><span class="p">(</span><span class="n">block</span><span class="o">=</span><span class="bp">True</span><span class="p">)</span>
<span class="k">def</span> <span class="nf">lb_task</span><span class="p">(</span><span class="n">delay</span><span class="p">):</span>
    <span class="kn">import</span> <span class="nn">os</span><span class="o">,</span> <span class="nn">time</span>
    
    <span class="n">t0</span> <span class="o">=</span> <span class="n">time</span><span class="o">.</span><span class="n">time</span><span class="p">()</span>
    <span class="n">pid</span> <span class="o">=</span> <span class="n">os</span><span class="o">.</span><span class="n">getpid</span><span class="p">()</span>
    <span class="n">time</span><span class="o">.</span><span class="n">sleep</span><span class="p">(</span><span class="n">delay</span><span class="p">)</span>
    <span class="n">t1</span> <span class="o">=</span> <span class="n">time</span><span class="o">.</span><span class="n">time</span><span class="p">()</span>
    
    <span class="k">return</span> <span class="p">[</span><span class="n">pid</span><span class="p">,</span> <span class="n">t0</span><span class="p">,</span> <span class="n">t1</span><span class="p">]</span>
</pre></div>

</div>
</div>
</div>
<div class="cell border-box-sizing code_cell vbox">
<div class="input hbox">
<div class="prompt input_prompt">In&nbsp;[51]:</div>
<div class="input_area box-flex1">
<div class="highlight"><pre><span class="n">result</span> <span class="o">=</span> <span class="n">lb_task</span><span class="o">.</span><span class="n">map</span><span class="p">(</span><span class="n">delays</span><span class="p">)</span>
</pre></div>

</div>
</div>
</div>
<div class="cell border-box-sizing code_cell vbox">
<div class="input hbox">
<div class="prompt input_prompt">In&nbsp;[52]:</div>
<div class="input_area box-flex1">
<div class="highlight"><pre><span class="n">visualize_tasks</span><span class="p">(</span><span class="n">result</span><span class="p">)</span>
</pre></div>

</div>
</div>
<div class="vbox output_wrapper">
<div class="hbox output_area">
<div class="prompt output_prompt"></div>
<div class="output vbox">
<div class="box-flex1 output_subarea output_display_data">

<img src="data:image/png;base64,iVBORw0KGgoAAAANSUhEUgAAAmwAAADOCAYAAACD3l7pAAAABHNCSVQICAgIfAhkiAAAAAlwSFlz
AAALEgAACxIB0t1+/AAAIABJREFUeJzt3X9w1PWdx/HnksSaHAQlXrsQiIuaFBOTsCGJEWO7bWGC
9BSDcGLiRQb0ckqrY8EFa8fjR+/gaFWkPdrCMOjlAmuiU8yNljt+mGSOkCyQxaSjXmPOFRNNp16F
EpNGSfb+cHabkEB+8N3sd5fXYyYz+e5+P9/v+/35frK8+X6/+/1YfD6fDxERERExrQmhDkBERERE
Lk0Fm4iIiIjJqWATERERMTkVbCIiIiImFx3qAILFYrGEOgQRERGREbvU90AjtmCDSycucinr169n
/fr1oQ5DwpjGkFwujaEry3AnmnRJVERERMTkVLCJiIiImJwKNpEhOByOUIcgYU5jSC6XxpD0Z4nU
mQ4sFovuYRMREZGwMFzdEtFfOvBbd2gdHZ0doQ7DNKwTrWyZt+WK75dw7YfxiDtc+2Yo1olWgLDP
YzhXSp4QnFzDbcxHwvEOtz43gj/nsbgiCraOzg5s19hCHYZpeM94AfVLuPbDeMQdrn0zFH8u4Z7H
cK6UPCE4uYbbmI+E4x1ufW4Ef85jEZR72DZv3kxaWhrp6ekUFRXR09OD2+0mNzcXu91OTk4Ox48f
B6C8vBy73R74iYqKoqmpCYCnn36apKQkJk2aNGD7v/zlL8nIyMBut3Pbbbfx1ltvBSMNEREREVMw
vGDzer3s2rWLxsZGmpub6e3txeVysXbtWjZt2oTH42Hjxo04nU4AiouL8Xg8eDweysrKuOGGG8jI
yABg0aJFuN3uQfsoLi6mqakJj8fDD3/4Q1avXm10GiIiIiKmYfgl0fj4eGJiYujq6iIqKoquri6m
TZuG1Wrl7NmzAJw5c4bExMRBbffu3cuyZcsCy7m5uUPuo/8Zt87OTq677jqDsxARERExD8MLtilT
prB69WqSkpKIjY2loKCA+fPnk5KSQn5+PmvWrKGvr49jx44NaltRUUFVVdWI9rNjxw6ee+45Pvvs
M+rq6oZcx/+E6FPvnoI8sM22jTUtEREREcNUV1dTXV094vUNL9haW1vZtm0bXq+XyZMns3TpUsrL
y9mzZw/bt2+nsLCQyspKVqxYwcGDBwPtGhoaiIuLIzU1dUT7efTRR3n00UfZt28fK1as4M033xy0
jr9g8+73XjE3NIqIiIj5ORyOAc/a27BhwyXXN/wethMnTjB37lwSEhKIjo5m8eLFHD16FLfbTWFh
IQBLliwZdG+ay+WiqKho1Pu77777aGxsNCR2ERERETMyvGCbNWsW9fX1dHd34/P5OHz4MKmpqSQn
J1NTUwPAkSNHSElJCbTp6+ujsrJywP1rl/Lee+8Ffn/99dcDX1IQERERiUSGXxLNzMykpKSE7Oxs
JkyYQFZWFqWlpeTl5bFq1Sp6enqIjY1l586dgTa1tbUkJSVhs9kGbMvpdLJv3z66u7uZMWMGDz/8
MM888ww///nPOXToEDExMfz1X/81e/bsMToNEREREdMIyoNznU5n4LEdftnZ2TQ0NAy5vsPhGPKL
A1u3bmXr1q2DXt+2bduo4rFOtF7Ww+oijf8J2Vd6v4RrP4xH3OHaN0Px5xLueQznSskTgpNruI35
SDje4dbnRvDnPBaaS1REREQkxIarW4Iy04GIiIiIGEcFm4iIiIjJqWATERERMTkVbCIiIiImp4JN
RERExORUsImIiIiYnAo2EREREZNTwSYiIiJicirYREREREwuKFNTmcXy/cuDun3rRCtb5m1h3aF1
dHR2BHVfoeDPDxj3HIO570g/bpcSqmM6nn1+JR/foag/RiYU/eSfpkjHZbD+n1XypYgu2GzX2IK6
ff/cZx2dHUHfVyj0n9ttvHMM5r4j/bhdSqiO6Xj2+ZV8fIei/hiZUPSTf586LoNdKXOLjkZQLolu
3ryZtLQ00tPTKSoqoqenB7fbTW5uLna7nZycHI4fPw5AeXk5drs98BMVFUVTUxMATz/9NElJSUya
NGnA9p977jnS0tLIzMxk3rx5nD59OhhpiIiIiJiC4QWb1+tl165dNDY20tzcTG9vLy6Xi7Vr17Jp
0yY8Hg8bN27E6XQCUFxcjMfjwePxUFZWxg033EBGRgYAixYtwu12D9pHVlYWJ0+e5K233mLJkiWB
bYmIiIhEIsMLtvj4eGJiYujq6uL8+fN0dXUxbdo0rFYrZ8+eBeDMmTMkJiYOart3716WLVsWWM7N
zcVqtQ5az+FwcPXVVwNw66230tbWZnQaIiIiIqZh+D1sU6ZMYfXq1SQlJREbG0tBQQHz588nJSWF
/Px81qxZQ19fH8eOHRvUtqKigqqqqlHtb/fu3SxcuHDI96pfrA78bpttwzbbNqpti4iIiARDdXU1
1dXVI17f8IKttbWVbdu24fV6mTx5MkuXLqW8vJw9e/awfft2CgsLqaysZMWKFRw8eDDQrqGhgbi4
OFJTU0e8r3//93+nsbGR559/fsj3Hcsdl5uOiIiIiOEcDgcOhyOwvGHDhkuub/gl0RMnTjB37lwS
EhKIjo5m8eLFHD16FLfbTWFhIQBLliwZdG+ay+WiqKhoxPs5dOgQ//zP/0xVVRUxMTGG5iAiIiJi
JoYXbLNmzaK+vp7u7m58Ph+HDx8mNTWV5ORkampqADhy5AgpKSmBNn19fVRWVg64f+1SPB4P//AP
/8B//Md/cN111xmdgoiIiIipGH5JNDMzk5KSErKzs5kwYQJZWVmUlpaSl5fHqlWr6OnpITY2lp07
dwba1NbWkpSUhM1mG7Atp9PJvn376O7uZsaMGTz88MM888wzOJ1OPvvsM5YsWQLA9ddfz/79+41O
RURERMQUgvLgXKfTOehRG9nZ2TQ0NAy5vsPhoK6ubtDrW7duZevWrYNe73/v26UE+8F7/qdUWyda
I/Ihf/78/L+PZ47B3HekH7dLCdUxHc8+v5KP71DUHyMTin7y71PHZbD+n1XyJYvP5/OFOohgsFgs
RGhqIiIiEmGGq1s0+buIiIiIyalgExERETE5FWwiIiIiJqeCTURERMTkVLCJiIiImJwKNhERERGT
U8EmIiIiYnIq2ERERERMLigzHZjFukPr6OjsCHUYIWGdaGXLvC2B5bH2hX874dyXocqh/zEI1r4j
4fiMVrByHo/jFSz+p8KHU8xGGu2YiNS/m3AcB+EYc6hEdMHW0dmB7RpbqMMIiQunOhlrX/i3E859
Gaoc+h+DYO07Eo7PaAUr5/E4XsHijz2cYjbSaMdEpP7dhOM4CMeYQ0WXREVERERMLigF2+bNm0lL
SyM9PZ2ioiJ6enpwu93k5uZit9vJycnh+PHjAJSXl2O32wM/UVFRNDU1AfD000+TlJTEpEmTBmy/
traWrKwsYmJiePXVV4ORgoiIiIhpGF6web1edu3aRWNjI83NzfT29uJyuVi7di2bNm3C4/GwceNG
nE4nAMXFxXg8HjweD2VlZdxwww1kZGQAsGjRItxu96B9XH/99bz00ksUFRUZHb6IiIiI6Rh+D1t8
fDwxMTF0dXURFRVFV1cX06ZNw2q1cvbsWQDOnDlDYmLioLZ79+5l2bJlgeXc3Nwh93H99dcDMGGC
ruiKiIhI5DO8YJsyZQqrV68mKSmJ2NhYCgoKmD9/PikpKeTn57NmzRr6+vo4duzYoLYVFRVUVVUZ
Fssp1ym8V3sBsM22YZttM2zbIiIiImPlPeXFe8o74vUNL9haW1vZtm0bXq+XyZMns3TpUsrLy9mz
Zw/bt2+nsLCQyspKVqxYwcGDBwPtGhoaiIuLIzU11bBYZi+brW+eiIiIiOlceCKp5qWaS65v+DXF
EydOMHfuXBISEoiOjmbx4sUcPXoUt9tNYWEhAEuWLBl0b5rL5RrTPWkWi8WQuEVERETMyvCCbdas
WdTX19Pd3Y3P5+Pw4cOkpqaSnJxMTc2X1eORI0dISUkJtOnr66OysnLA/Wsj4fP58Pl8hsYvIiIi
YjaGF2yZmZmUlJSQnZ1NRkYGPp+P0tJSfvWrX+F0Opk9ezY/+tGP2LlzZ6BNbW0tSUlJ2Gy2Adty
Op3MmDGD7u5uZsyYwcaNGwE4fvw4M2bM4JVXXqG0tJT09HSj0xARERExjaDMdOB0OgOP7fDLzs6m
oaFhyPUdDgd1dXWDXt+6dStbt24d9HpOTg4ffvjhsHFYJ1oHPfH/SuGf7qP/8lj6wr+dcO7LUOXQ
/xgEa9+RcHxGK1g5j8fxChZ/7OEUs5FGOyYi9e8mHMdBOMYcKhZfhF5TtFgsulwqIiIiYWG4ukUP
MhMRERExORVsIiIiIiangk1ERETE5FSwiYiIiJicCjYRERERk1PBJiIiImJyKthERERETE4Fm4iI
iIjJBWWmA7NZd2gdHZ0dIY3BOtHKlnlbTBHLcPyxgjn6LhQu93j170OIzH4crzEdTn87Rgh1vqHe
/1iNNW7/k/bDKdfLEa7H90IXfsZeCa6Igq2jswPbNbaQxuCfdsMMsQyn/xQh4RBvMFzu8bpwmpVI
7MfxGtPh9LdjhFDnG+r9j9VY4/a3C6dcL0e4Ht8LXYlTWemSqIiIiIjJBaVg27x5M2lpaaSnp1NU
VERPTw9ut5vc3Fzsdjs5OTkcP34cgPLycux2e+AnKiqKpqYmAJ5++mmSkpKYNGnSgO339PRw3333
kZycTF5eHh988EEw0hARERExBcMLNq/Xy65du2hsbKS5uZne3l5cLhdr165l06ZNeDweNm7ciNPp
BKC4uBiPx4PH46GsrIwbbriBjIwMABYtWoTb7R60j927d5OQkEBLSwtPPPEEa9euNToNEREREdMw
vGCLj48nJiaGrq4uzp8/T1dXF9OmTcNqtXL27FkAzpw5Q2Ji4qC2e/fuZdmyZYHl3NxcrFbroPWq
qqp48MEHAbj33ns5fPiw0WmIiIiImIbhXzqYMmUKq1evJikpidjYWAoKCpg/fz4pKSnk5+ezZs0a
+vr6OHbs2KC2FRUVVFVVDbuP9vZ2ZsyY8WUC0dFMnjyZP/7xj0yZMmXAeuvXrwfg1LunIA9ss22X
nZ+IiIjI5aqurqa6unrE6xtesLW2trJt2za8Xi+TJ09m6dKllJeXs2fPHrZv305hYSGVlZWsWLGC
gwcPBto1NDQQFxdHamqqYbH4Czbvfm9YfxtGREREIovD4cDhcASWN2zYcMn1Db8keuLECebOnUtC
QgLR0dEsXryYo0eP4na7KSwsBGDJkiWD7k1zuVwUFRWNaB+JiYmcPn0agPPnz3P27NlBZ9dERERE
IoXhBdusWbOor6+nu7sbn8/H4cOHSU1NJTk5mZqaGgCOHDlCSkpKoE1fXx+VlZUD7l+7lLvvvpuX
XnoJgFdeeYXvfOc7RqchIiIiYhqGXxLNzMykpKSE7OxsJkyYQFZWFqWlpeTl5bFq1Sp6enqIjY1l
586dgTa1tbUkJSVhs9kGbMvpdLJv3z66u7uZMWMGDz/8MM888wwrV67k7/7u70hOTiYhIQGXy2V0
GiIiIiKmccmC7cUXX2T79u28++67AKSmpvL9738/8A3Ni3E6nYHHdvhlZ2fT0NAw5PoOh4O6urpB
r2/dupWtW7cOev0rX/kKFRUVl4yhP+tEa8ifiuyf/sQMsQzHH6v/d7PHGwyXe7z69+HlbMfMxmtM
h9PfjhFCnW+o9z9WY43b3y6ccr0c4Xp8L3ThZ+yVwOLz+XxDvfHSSy+xbds2nnvuOex2Oz6fD4/H
w5NPPsnjjz9OSUnJeMc6KhaLhYukJiIiImIqw9UtFy3Ybr31VlwuFzNnzhzwutfr5b777rvo2TKz
UMEmIiIi4WK4uuWiXzo4d+7coGINwGazce7cOWOiExEREZFhXbRgu/rqqy/a6FLviYiIiIixLnpJ
NDY2lptuumnIRq2trXR1dQU1sMulS6IiIiISLoarWy76LdF33nknKAGJiIiIyOhc9AxbuNMZNhER
EQkXYz7DNnHiRCwWy0U3+qc//enyoxMRERGRYekMm4iIiEiIjfkMW3d3N7/85S9pbW0lPT2dlStX
Eh1t+ExWQbfu0Do6OjtCHUZQWSda2TJvyxWR61ipj4amfvmL8egL/9PZ1dfjM+5G09+R+rcQzDEX
juPZf5zD0UUrsAcffJCrrrqK/Px83njjDd5++21eeOGF8YzNEB2dHdiusYU6jKDyTy9yJeQ6Vuqj
oalf/mI8+sK/D/W1Fwj+uBtNf0fq30Iwx1w4judwno7rkt8SbW5uBuChhx4iJydn3IISERERkb+4
6INz+1/+HO2l0M2bN5OWlkZ6ejpFRUX09PTgdrvJzc3FbreTk5PD8ePHASgvL8dutwd+oqKiaGpq
AuDkyZOkp6eTnJzM448/Htj+Bx98wHe+8x0yMzP51re+RXt7+6jiExEREQknFy3YmpqamDRpUuCn
ubk58Ht8fPxFN+j1etm1axeNjY00NzfT29uLy+Vi7dq1bNq0CY/Hw8aNG3E6nQAUFxfj8XjweDyU
lZUxc+ZMMjIyAHjkkUfYvXs3LS0ttLS0cODAAQDWrFnD8uXLeeutt3jmmWd46qmnjOwTEREREVO5
aMHW29vLuXPnAj/nz58P/H6pR3rEx8cTExNDV1cX58+fp6uri2nTpmG1Wjl79iwAZ86cITExcVDb
vXv3cv/99wPw8ccfc+7cOXJzcwEoKSlh//79wJeXa7/97W8D4HA4eO2118aYvoiIiIj5Gf61zylT
prB69WqSkpKIjY2loKCA+fPnk5KSQn5+PmvWrKGvr49jx44NaltRUUFVVRUA7e3tTJ8+PfBeYmJi
4NJnZmYmr776Ko899hi//vWvOXfuHJ9++inXXnvtgO2tX7+eU++ewnu1F9tsG7bZNqPTFRERERm1
6upqqqurR7y+4QVba2sr27Ztw+v1MnnyZJYuXUp5eTl79uxh+/btFBYWUllZyYoVKzh48GCgXUND
A3FxcaSmpg67j5/+9Kd873vf48UXX+Qb3/gGiYmJREVFDVpv/fr1ePd7w+obLCIiIhL5HA4HDocj
sLxhw4ZLrm94wXbixAnmzp1LQkICAIsXL+bo0aO43W4OHToEwJIlS3jooYcGtHO5XBQVFQWWExMT
aWtrCyy3tbUFLqNOnTqVV199FYDOzk5effXVS95XJyIiIhLOLnoP21jNmjWL+vp6uru78fl8HD58
mNTUVJKTk6mpqQHgyJEjpKSkBNr09fVRWVnJsmXLAq9NnTqV+Ph4Ghoa8Pl8lJWVcc899wDwf//3
f/T19QFffiN15cqVRqchIiIiYhqGn2HLzMykpKSE7OxsJkyYQFZWFqWlpeTl5bFq1Sp6enqIjY1l
586dgTa1tbUkJSVhs9kGbGvHjh0sX76c7u5uFi5cyIIFC4Avr/s+9dRTWCwWvvnNb/Kv//qvRqch
IiIiYhpBmWvK6XQGHtvhl52dTUNDw5DrOxwO6urqBr0+Z86cwMN7+7v33nu59957RxSLdaI1rJ9s
PBL+6UGuhFzHSn00NPXLX4xHX/j3ob4en3E3mv6O1L+FYI65cBzP/pjDkSZ/FxEREQmx4eoWw+9h
ExERERFjqWATERERMTkVbCIiIiImp4JNRERExORUsImIiIiYnAo2EREREZNTwSYiIiJicirYRERE
REwuKDMdmM26Q+vo6OwIdRjjxjrRypZ5WwLLZs7fH6tZY/Q/FduMsY1F/7Fhpj43ahxEwvEy+98E
hH8/m7GPjYjJjHmNxGjG04X/vl1JroiCraOzA9s1tlCHMW4unCbEzPn7YzVrjP74zBjbWPQfG2bq
c6PGQSQcL7P/TUD497MZ+9iImMyY10iMZjyF0zRYRtMlURERERGTC0rBtnnzZtLS0khPT6eoqIie
nh7cbje5ubnY7XZycnI4fvw4AOXl5djt9sBPVFQUTU1NAJw8eZL09HSSk5N5/PHHA9t/7733uOOO
O7Db7WRmZvKb3/wmGGmIiIiImILhBZvX62XXrl00NjbS3NxMb28vLpeLtWvXsmnTJjweDxs3bsTp
dAJQXFyMx+PB4/FQVlbGzJkzycjIAOCRRx5h9+7dtLS00NLSwoEDBwD48Y9/zAMPPIDH48HlcvHo
o48anYaIiIiIaRh+D1t8fDwxMTF0dXURFRVFV1cX06ZNw2q1cvbsWQDOnDlDYmLioLZ79+7l/vvv
B+Djjz/m3Llz5ObmAlBSUsL+/ftZsGABU6dOHXZbAOvXrwfg1LunIA9ss20GZysiIiIyetXV1VRX
V494fcMLtilTprB69WqSkpKIjY2loKCA+fPnk5KSQn5+PmvWrKGvr49jx44NaltRUUFVVRUA7e3t
TJ8+PfBeYmIi7e3tADz11FPcdttt/OxnP+Ozzz7j8OHDQ8biL9i8+71hdQOmiIiIRDaHw4HD4Qgs
b9iw4ZLrG35JtLW1lW3btuH1evnoo4/o7OykvLyclStXsn37dk6fPs3zzz/PihUrBrRraGggLi6O
1NTUYffxgx/8gIceeogPP/yQN954gwceeMDoNERERERMw/CC7cSJE8ydO5eEhASio6NZvHgxR48e
xe12U1hYCMCSJUtwu90D2rlcLoqKigLLiYmJtLW1BZbb2toCZ9zq6ur427/9WwDy8vL485//zCef
fGJ0KiIiIiKmYHjBNmvWLOrr6+nu7sbn83H48GFSU1NJTk6mpqYGgCNHjpCSkhJo09fXR2VlJcuW
LQu8NnXqVOLj42loaMDn81FWVsaiRYsC+zh06BAA77zzDn/+85+57rrrjE5FRERExBQMv4ctMzOT
kpISsrOzmTBhAllZWZSWlpKXl8eqVavo6ekhNjaWnTt3BtrU1taSlJSEzWYbsK0dO3awfPlyuru7
WbhwIQsWLADgJz/5CStXruT555/HYrHw0ksvGZ2GiIiIiGkEZaYDp9MZeGyHX3Z2Ng0NDUOu73A4
qKurG/T6nDlzaG5uHvT6jTfeOKpvVlgnWq+opyP7p/nov2zW/P2xmjVGf3xmjG0s+o8NM/W5UeMg
Eo6X2f8mIPz72Yx9bERMZsxrJEYzni789+1KYvH5fL5QBxEMFouFCE1NREREIsxwdYumphIREREx
ORVsIiIiIiangk1ERETE5FSwiYiIiJicCjYRERERk1PBJiIiImJyKthERERETE4Fm4iIiIjJBWWm
A7NYvn95qEO4KOtEK1vmbWHdoXV0dHYEdR9AUPcTLP37CAh6fw2133Drs7EKh5zDIUajBSPnSOzH
UOfkf/r+aPYd6piHM5acwk3/fyPDQUQXbLZrbKEO4aL8U3B0dHYELc7+03wEcz/B0r+P/MYjj/E4
NmYTDjmHQ4xGC0bOkdiPoc7Jv//R7DvUMQ9nLDmFm3Cavgt0SVRERETE9IJSsG3evJm0tDTS09Mp
Kiqip6cHt9tNbm4udrudnJwcjh8/DkB5eTl2uz3wExUVRVNTEwAnT54kPT2d5ORkHn/88cD2f/CD
HwTW//rXv861114bjDRERERETMHwgs3r9bJr1y4aGxtpbm6mt7cXl8vF2rVr2bRpEx6Ph40bN+J0
OgEoLi7G4/Hg8XgoKytj5syZZGRkAPDII4+we/duWlpaaGlp4cCBAwA899xzgTbf//73uffee41O
Q0RERMQ0DL+HLT4+npiYGLq6uoiKiqKrq4tp06ZhtVo5e/YsAGfOnCExMXFQ271793L//fcD8PHH
H3Pu3Dlyc3MBKCkpYf/+/SxYsGBQm02bNg0ZS/WL1YHfbbNt2GbbDMhQRERE5PJUV1dTXV094vUN
L9imTJnC6tWrSUpKIjY2loKCAubPn09KSgr5+fmsWbOGvr4+jh07NqhtRUUFVVVVALS3tzN9+vTA
e4mJibS3tw9Y/4MPPsDr9fLtb397yFgcyx3GJSYiIiJiEIfDgcPhCCxv2LDhkusbfkm0tbWVbdu2
4fV6+eijj+js7KS8vJyVK1eyfft2Tp8+zfPPP8+KFSsGtGtoaCAuLo7U1NQR78vlcrF06VIsFovR
aYiIiIiYhuEF24kTJ5g7dy4JCQlER0ezePFijh49itvtprCwEIAlS5bgdrsHtHO5XBQVFQWWExMT
aWtrCyy3tbUNuoz68ssvBy6hioiIiEQqwwu2WbNmUV9fT3d3Nz6fj8OHD5OamkpycjI1NTUAHDly
hJSUlECbvr4+KisrWbZsWeC1qVOnEh8fT0NDAz6fj7KyMu65557A+++++y6ffvopeXl5RqcgIiIi
YiqG38OWmZlJSUkJ2dnZTJgwgaysLEpLS8nLy2PVqlX09PQQGxvLzp07A21qa2tJSkrCZrMN2NaO
HTtYvnw53d3dLFy4cMAXDnR2TURERK4UQZnpwOl0Bh7b4ZednU1DQ8OQ6zscDurq6ga9PmfOHJqb
m4ds84//+I/DxmHmpxj7p/2wTrQGLU7/PoK9n2Dp30f9Xwt2HuNxbMwmHHIOhxiNFoycI7EfQ52T
f/+j2XeoYx7OWHIKN/3/bQkHFp/P5wt1EMFgsViI0NREREQkwgxXt2hqKhERERGTU8EmIiIiYnIq
2ERERERMTgWbiIiIiMmpYBMRERExORVsIiIiIiangk1ERETE5FSwiYiIiJhcUGY6MJN1h9YFfu/o
7AhhJMaxTrSyZd4W1h1aZ7qczBzbePL3g1+49ofRxzMSx8dIcvI/UT1Scr5cYx0Hoe7HUO//coQy
9tEe7/6xXvhZeiWL+IKt/+CwXWMLXSAG8k8V0tHZYbqczBzbeLpwOpdw7Q+jj2ckjo+R5ORfJ1Jy
vlxjHQeh7sdQ7/9yhDL20R7v/rFG8tRYo6VLoiIiIiImF5SCbfPmzaSlpZGenk5RURE9PT243W5y
c3Ox2+3k5ORw/PhxAMrLy7Hb7YGfqKgompqaADh58iTp6ekkJyfz+OOPD9hHRUUFaWlp3HLLLRQX
FwcjDRERERFTMLxg83q97Nq1i8bGRpqbm+nt7cXlcrF27Vo2bdqEx+Nh48aNOJ1OAIqLi/F4PHg8
HsrKypgQgHzVAAAJsUlEQVQ5cyYZGRkAPPLII+zevZuWlhZaWlo4cOAAAC0tLWzZsoW6ujp++9vf
8sILLxidhoiIiIhpGH4PW3x8PDExMXR1dREVFUVXVxfTpk3DarVy9uxZAM6cOUNiYuKgtnv37uX+
++8H4OOPP+bcuXPk5uYCUFJSwv79+1mwYAG7du3ie9/7HpMnTwbguuuuGzKW9evXc+rdUwBYb7Fi
y7cZna6IiIjIqFVXV1NdXT3i9Q0v2KZMmcLq1atJSkoiNjaWgoIC5s+fT0pKCvn5+axZs4a+vj6O
HTs2qG1FRQVVVVUAtLe3M3369MB7iYmJtLe3A1+eYbNYLOTn59Pb28v69espKCgYtL3169fj3e81
OkURERGRy+JwOHA4HIHlDRs2XHJ9wy+Jtra2sm3bNrxeLx999BGdnZ2Ul5ezcuVKtm/fzunTp3n+
+edZsWLFgHYNDQ3ExcWRmpo67D6++OIL3nvvPWpqati3bx8PP/xw4OydiIiISKQxvGA7ceIEc+fO
JSEhgejoaBYvXszRo0dxu90UFhYCsGTJEtxu94B2LpeLoqKiwHJiYiJtbW2B5ba2tsAZtxkzZnDX
XXcRFRWFzWYjJSWF9957z+hUREREREzB8IJt1qxZ1NfX093djc/n4/Dhw6SmppKcnExNTQ0AR44c
ISUlJdCmr6+PyspKli1bFnht6tSpxMfH09DQgM/no6ysjEWLFgFwzz33BK77fvLJJ/zud7/jhhtu
MDoVEREREVMw/B62zMxMSkpKyM7OZsKECWRlZVFaWkpeXh6rVq2ip6eH2NhYdu7cGWhTW1tLUlIS
NpttwLZ27NjB8uXL6e7uZuHChSxYsACAgoIC/uu//ou0tDSioqL46U9/yrXXXmt0KiIiIiKmEJSZ
DpxOZ+CxHX7Z2dk0NDQMub7D4aCurm7Q63PmzKG5uXnINs8++yzPPvvssLH4p7iAwU+fD1f+nKwT
rabLycyxjaf+486/HI79YfTxjMTxMZKc/OtESs6Xa6zjINT9GOr9X45Qxj7a490/1gs/S69kFp/P
5wt1EMFgsViI0NRkHFRXVw/49o7IaGkMyeXSGLqyDFe3aGoqkSGM5tk4IkPRGJLLpTEk/algExER
ETE5FWwiIiIiJhfR97CJiIiIhItLlWRB+ZaoGURoHSoiIiJXIF0SFRERETE5FWwiIiIiJqeCTURE
RMTkwr5gO3DgALNmzSI5OZl/+Zd/GXKdxx57jOTkZDIzM/F4POMcoZjdcGOourqayZMnY7fbsdvt
/PjHPw5BlGJGK1as4Gtf+xrp6ekXXUefP3Ipw40hff5IgC+MnT9/3nfjjTf63n//fd/nn3/uy8zM
9L399tsD1nn99dd9d955p8/n8/nq6+t9t956ayhCFZMayRh68803fXfddVeIIhQzq62t9TU2Nvpu
ueWWId/X548MZ7gxpM8f8QvrM2xut5ubbroJm81GTEwMy5Yt47XXXhuwTlVVFQ8++CAAt956K2fO
nOH3v/99KMIVExrJGAJ961iGdscdd3Dttdde9H19/shwhhtDoM8f+VJYF2zt7e3MmDEjsDx9+nTa
29uHXaetrW3cYhRzG8kYslgs1NXVkZmZycKFC3n77bfHO0wJU/r8kculzx/xC+vnsI304bgX/u9E
D9UVv5GMhaysLD788EPi4uL4zW9+wz333MPvfve7cYhOIoE+f+Ry6PNH/ML6DFtiYiIffvhhYPnD
Dz9k+vTpl1ynra2NxMTEcYtRzG0kY2jSpEnExcUBcOedd/LFF1/wxz/+cVzjlPCkzx+5XPr8Eb+w
Ltiys7NpaWnB6/Xy+eef8/LLL3P33XcPWOfuu+/m3/7t3wCor6/nmmuu4Wtf+1oowhUTGskY+v3v
fx84S+J2u/H5fEyZMiUU4UqY0eePXC59/ohfWF8SjY6O5uc//zkFBQX09vaycuVKbr75Zn71q18B
UFpaysKFC3njjTe46aab+Ku/+iv27NkT4qjFTEYyhl555RV+8YtfEB0dTVxcHC6XK8RRi1ncf//9
1NTU8MknnzBjxgw2bNjAF198AejzR0ZmuDGkzx/xi9jJ30VEREQiRVhfEhURERG5EqhgExERETE5
FWwiIiIiJqeCTURERMTkVLCJiARRdXU1d911V6jDEJEwp4JNRERExORUsIlIRPvss8/47ne/y+zZ
s0lPT6eiooKTJ0/icDjIzs5mwYIFdHR0APDee+8xb948Zs+ezZw5c3j//fcBePLJJ0lPTycjI4OK
igrgyzNnDoeDpUuXcvPNN/PAAw8E9nngwAFuvvlm5syZw69//evA6zU1Ndjtdux2O1lZWXR2do5j
T4hIOAvrB+eKiAznwIEDJCYm8vrrrwPwpz/9iTvvvJOqqioSEhJ4+eWXefrpp9m9ezfFxcX88Ic/
ZNGiRXz++ef09vby6quv8tZbb9HU1MQf/vAHcnJy+MY3vgHAqVOnePvtt5k6dSq33347dXV1ZGVl
8fd///e8+eab3Hjjjdx3332B+UOfffZZduzYwW233UZXVxdf+cpXQtYvIhJedIZNRCJaRkYGBw8e
ZN26dfz3f/83p0+f5re//S3z5s3DbrfzT//0T7S3t9PZ2clHH33EokWLALjqqquIjY3l6NGjFBUV
YbFY+OpXv8o3v/lNjh8/jsViITc3l2nTpmGxWJg9ezbvv/8+7777LjNnzuTGG28E4IEHHghMLXT7
7bfzxBNP8LOf/YxPP/2UqKiokPWLiIQXnWETkYiWnJyMx+Ph9ddf50c/+hHf+ta3SEtLo66ubsB6
586du+g2LpwQxn/GrP8ZsqioKM6fPx94b6i2a9eu5W/+5m94/fXXuf322/nP//xPvv71r485NxG5
cugMm4hEtI8//pirr76a4uJi1qxZg9vt5pNPPqG+vh6AL774grfffptJkyYxffp0XnvtNQB6enro
7u7mjjvu4OWXX6avr48//OEP1NbWkpubO6iIgy8LuVmzZuH1evnf//1fAPbt2xd4v7W1lbS0NJxO
Jzk5OfzP//zPOPSAiEQCnWETkYjW3NzMk08+yYQJE7jqqqv4xS9+QVRUFI899hhnz57l/PnzPPHE
E6SmplJWVkZpaSnPPPMMMTExvPLKKxQWFnLs2DEyMzOxWCz85Cc/4atf/SrvvPPOoLNp8OVZt507
d/Ld736XuLg47rjjDj777DMAXnjhBd58800mTJjALbfcwp133jne3SEiYUqTv4uIiIiYnC6JioiI
iJicCjYRERERk1PBJiIiImJyKthERERETE4Fm4iIiIjJqWATERERMbn/BzTleJbh/gVBAAAAAElF
TkSuQmCC
"></img>
</div>
</div>

</div>
</div>
</div>
<div class="text_cell_render border-box-sizing rendered_html">
<p>(Load balancing visualization example from http://nbviewer.ipython.org/urls/raw.github.com/jrjohansson/scientific-python-lectures/master/Lecture-6B-HPC.ipynb )</p>
</div>
<div class="text_cell_render border-box-sizing rendered_html">
<p>To make sure that engines have the same modules loaded, one can use the method <code>.sync_imports()</code> of an engine pool view.</p>
</div>
<div class="cell border-box-sizing code_cell vbox">
<div class="input hbox">
<div class="prompt input_prompt">In&nbsp;[53]:</div>
<div class="input_area box-flex1">
<div class="highlight"><pre><span class="k">with</span> <span class="n">dview</span><span class="o">.</span><span class="n">sync_imports</span><span class="p">():</span>
    <span class="kn">import</span> <span class="nn">numpy</span>
    <span class="kn">import</span> <span class="nn">os</span>
</pre></div>

</div>
</div>
<div class="vbox output_wrapper">
<div class="hbox output_area">
<div class="prompt output_prompt"></div>
<div class="output vbox">
<div class="box-flex1 output_subarea output_stream output_stdout">
<pre>importing numpy on engine(s)
importing os on engine(s)
</pre>
</div>
</div>

</div>
</div>
</div>
<div class="cell border-box-sizing code_cell vbox">
<div class="input hbox">
<div class="prompt input_prompt">In&nbsp;[54]:</div>
<div class="input_area box-flex1">
<div class="highlight"><pre><span class="o">%%</span><span class="k">px</span>
<span class="n">os</span><span class="o">.</span><span class="n">getpid</span><span class="p">()</span>
</pre></div>

</div>
</div>
<div class="vbox output_wrapper">
<div class="hbox output_area">
<div class="prompt output_prompt"></div>
<div class="output vbox">
<div class="box-flex1 output_subarea output_display_data">

<pre><span class="ansired">Out[0:1]: </span>88707</pre>
</div><div class="box-flex1 output_subarea output_display_data">

<pre><span class="ansired">Out[1:1]: </span>88708</pre>
</div><div class="box-flex1 output_subarea output_display_data">

<pre><span class="ansired">Out[2:1]: </span>88706</pre>
</div><div class="box-flex1 output_subarea output_display_data">

<pre><span class="ansired">Out[3:1]: </span>88709</pre>
</div><div class="box-flex1 output_subarea output_display_data">

<pre><span class="ansired">Out[4:1]: </span>88710</pre>
</div><div class="box-flex1 output_subarea output_display_data">

<pre><span class="ansired">Out[5:1]: </span>88711</pre>
</div><div class="box-flex1 output_subarea output_display_data">

<pre><span class="ansired">Out[6:1]: </span>88712</pre>
</div><div class="box-flex1 output_subarea output_display_data">

<pre><span class="ansired">Out[7:1]: </span>88713</pre>
</div>
</div>

</div>
</div>
</div>
<div class="text_cell_render border-box-sizing rendered_html">
<p>Since the engines will not have the same namespace as any interpreter that might want to use them, if we want them to have the same data to work on one need to send that data to the engines.</p>
<p>This is done with the <code>.push()</code> method of an engine pool view.</p>
</div>
<div class="cell border-box-sizing code_cell vbox">
<div class="input hbox">
<div class="prompt input_prompt">In&nbsp;[55]:</div>
<div class="input_area box-flex1">
<div class="highlight"><pre><span class="n">dview</span><span class="o">.</span><span class="n">push</span><span class="p">(</span><span class="nb">dict</span><span class="p">(</span><span class="n">a</span><span class="o">=</span><span class="n">np</span><span class="o">.</span><span class="n">arange</span><span class="p">(</span><span class="mi">5</span><span class="p">),</span> <span class="n">b</span><span class="o">=</span><span class="n">np</span><span class="o">.</span><span class="n">zeros</span><span class="p">(</span><span class="mi">5</span><span class="p">)),</span> <span class="n">block</span><span class="o">=</span><span class="bp">True</span><span class="p">)</span>
</pre></div>

</div>
</div>
<div class="vbox output_wrapper">
<div class="hbox output_area">
<div class="prompt output_prompt">Out[55]:</div>
<div class="output vbox">
<div class="box-flex1 output_subarea output_pyout">

<pre>[None, None, None, None, None, None, None, None]</pre>
</div>
</div>

</div>
</div>
</div>
<div class="cell border-box-sizing code_cell vbox">
<div class="input hbox">
<div class="prompt input_prompt">In&nbsp;[56]:</div>
<div class="input_area box-flex1">
<div class="highlight"><pre><span class="n">dview</span><span class="o">.</span><span class="n">pull</span><span class="p">(</span><span class="s">&quot;a&quot;</span><span class="p">,</span> <span class="n">block</span><span class="o">=</span><span class="bp">True</span><span class="p">)</span>
</pre></div>

</div>
</div>
<div class="vbox output_wrapper">
<div class="hbox output_area">
<div class="prompt output_prompt">Out[56]:</div>
<div class="output vbox">
<div class="box-flex1 output_subarea output_pyout">

<pre>[array([0, 1, 2, 3, 4]),
 array([0, 1, 2, 3, 4]),
 array([0, 1, 2, 3, 4]),
 array([0, 1, 2, 3, 4]),
 array([0, 1, 2, 3, 4]),
 array([0, 1, 2, 3, 4]),
 array([0, 1, 2, 3, 4]),
 array([0, 1, 2, 3, 4])]</pre>
</div>
</div>

</div>
</div>
</div>
<div class="text_cell_render border-box-sizing rendered_html">
<p>For the sake of convenience, pushing and pulling to the namespaces on the engines can be done through a dictionary like syntax</p>
</div>
<div class="cell border-box-sizing code_cell vbox">
<div class="input hbox">
<div class="prompt input_prompt">In&nbsp;[57]:</div>
<div class="input_area box-flex1">
<div class="highlight"><pre><span class="n">dview</span><span class="p">[</span><span class="s">&quot;a&quot;</span><span class="p">]</span>
</pre></div>

</div>
</div>
<div class="vbox output_wrapper">
<div class="hbox output_area">
<div class="prompt output_prompt">Out[57]:</div>
<div class="output vbox">
<div class="box-flex1 output_subarea output_pyout">

<pre>[array([0, 1, 2, 3, 4]),
 array([0, 1, 2, 3, 4]),
 array([0, 1, 2, 3, 4]),
 array([0, 1, 2, 3, 4]),
 array([0, 1, 2, 3, 4]),
 array([0, 1, 2, 3, 4]),
 array([0, 1, 2, 3, 4]),
 array([0, 1, 2, 3, 4])]</pre>
</div>
</div>

</div>
</div>
</div>
<div class="cell border-box-sizing code_cell vbox">
<div class="input hbox">
<div class="prompt input_prompt">In&nbsp;[58]:</div>
<div class="input_area box-flex1">
<div class="highlight"><pre><span class="n">dview</span><span class="p">[</span><span class="s">&quot;c&quot;</span><span class="p">]</span> <span class="o">=</span> <span class="s">&quot;See&quot;</span>
</pre></div>

</div>
</div>
</div>
<div class="cell border-box-sizing code_cell vbox">
<div class="input hbox">
<div class="prompt input_prompt">In&nbsp;[59]:</div>
<div class="input_area box-flex1">
<div class="highlight"><pre><span class="n">dview</span><span class="o">.</span><span class="n">pull</span><span class="p">(</span><span class="s">&quot;c&quot;</span><span class="p">,</span> <span class="n">block</span><span class="o">=</span><span class="bp">True</span><span class="p">)</span>
</pre></div>

</div>
</div>
<div class="vbox output_wrapper">
<div class="hbox output_area">
<div class="prompt output_prompt">Out[59]:</div>
<div class="output vbox">
<div class="box-flex1 output_subarea output_pyout">

<pre>[&apos;See&apos;, &apos;See&apos;, &apos;See&apos;, &apos;See&apos;, &apos;See&apos;, &apos;See&apos;, &apos;See&apos;, &apos;See&apos;]</pre>
</div>
</div>

</div>
</div>
</div>
<div class="text_cell_render border-box-sizing rendered_html">
<p>Something which might be more useful is to push <em>different</em> sections of data to various engines, just like when we applied the parallel function above.</p>
<p>The direct view has the methods <code>.scatter()</code> and <code>.gather()</code>.</p>
</div>
<div class="cell border-box-sizing code_cell vbox">
<div class="input hbox">
<div class="prompt input_prompt">In&nbsp;[60]:</div>
<div class="input_area box-flex1">
<div class="highlight"><pre><span class="n">dview</span><span class="o">.</span><span class="n">scatter</span><span class="p">(</span><span class="s">&#39;x&#39;</span><span class="p">,</span> <span class="n">np</span><span class="o">.</span><span class="n">arange</span><span class="p">(</span><span class="mi">95</span><span class="p">),</span> <span class="n">block</span><span class="o">=</span><span class="bp">True</span><span class="p">)</span>
</pre></div>

</div>
</div>
</div>
<div class="text_cell_render border-box-sizing rendered_html">
<p>This will divide the array to four sections, and divide those out to different engines.</p>
</div>
<div class="cell border-box-sizing code_cell vbox">
<div class="input hbox">
<div class="prompt input_prompt">In&nbsp;[61]:</div>
<div class="input_area box-flex1">
<div class="highlight"><pre><span class="o">%%</span><span class="k">px</span>
<span class="n">x</span>
</pre></div>

</div>
</div>
<div class="vbox output_wrapper">
<div class="hbox output_area">
<div class="prompt output_prompt"></div>
<div class="output vbox">
<div class="box-flex1 output_subarea output_display_data">

<pre><span class="ansired">Out[0:2]: </span>array([ 0,  1,  2,  3,  4,  5,  6,  7,  8,  9, 10, 11])</pre>
</div><div class="box-flex1 output_subarea output_display_data">

<pre><span class="ansired">Out[1:2]: </span>array([12, 13, 14, 15, 16, 17, 18, 19, 20, 21, 22, 23])</pre>
</div><div class="box-flex1 output_subarea output_display_data">

<pre><span class="ansired">Out[2:2]: </span>array([24, 25, 26, 27, 28, 29, 30, 31, 32, 33, 34, 35])</pre>
</div><div class="box-flex1 output_subarea output_display_data">

<pre><span class="ansired">Out[3:2]: </span>array([36, 37, 38, 39, 40, 41, 42, 43, 44, 45, 46, 47])</pre>
</div><div class="box-flex1 output_subarea output_display_data">

<pre><span class="ansired">Out[4:2]: </span>array([48, 49, 50, 51, 52, 53, 54, 55, 56, 57, 58, 59])</pre>
</div><div class="box-flex1 output_subarea output_display_data">

<pre><span class="ansired">Out[5:2]: </span>array([60, 61, 62, 63, 64, 65, 66, 67, 68, 69, 70, 71])</pre>
</div><div class="box-flex1 output_subarea output_display_data">

<pre><span class="ansired">Out[6:2]: </span>array([72, 73, 74, 75, 76, 77, 78, 79, 80, 81, 82, 83])</pre>
</div><div class="box-flex1 output_subarea output_display_data">

<pre><span class="ansired">Out[7:2]: </span>array([84, 85, 86, 87, 88, 89, 90, 91, 92, 93, 94])</pre>
</div>
</div>

</div>
</div>
</div>
<div class="cell border-box-sizing code_cell vbox">
<div class="input hbox">
<div class="prompt input_prompt">In&nbsp;[62]:</div>
<div class="input_area box-flex1">
<div class="highlight"><pre><span class="k">def</span> <span class="nf">x_mean</span><span class="p">():</span>
    <span class="k">return</span> <span class="n">x</span><span class="o">.</span><span class="n">mean</span><span class="p">()</span>
</pre></div>

</div>
</div>
</div>
<div class="cell border-box-sizing code_cell vbox">
<div class="input hbox">
<div class="prompt input_prompt">In&nbsp;[63]:</div>
<div class="input_area box-flex1">
<div class="highlight"><pre><span class="n">dview</span><span class="o">.</span><span class="n">apply_sync</span><span class="p">(</span><span class="n">x_mean</span><span class="p">)</span>
</pre></div>

</div>
</div>
<div class="vbox output_wrapper">
<div class="hbox output_area">
<div class="prompt output_prompt">Out[63]:</div>
<div class="output vbox">
<div class="box-flex1 output_subarea output_pyout">

<pre>[5.5, 17.5, 29.5, 41.5, 53.5, 65.5, 77.5, 89.0]</pre>
</div>
</div>

</div>
</div>
</div>
<div class="cell border-box-sizing code_cell vbox">
<div class="input hbox">
<div class="prompt input_prompt">In&nbsp;[64]:</div>
<div class="input_area box-flex1">
<div class="highlight"><pre><span class="n">dview</span><span class="o">.</span><span class="n">gather</span><span class="p">(</span><span class="s">&quot;x&quot;</span><span class="p">,</span> <span class="n">targets</span><span class="o">=</span><span class="mi">1</span><span class="p">,</span> <span class="n">block</span><span class="o">=</span><span class="bp">True</span><span class="p">)</span>
</pre></div>

</div>
</div>
<div class="vbox output_wrapper">
<div class="hbox output_area">
<div class="prompt output_prompt">Out[64]:</div>
<div class="output vbox">
<div class="box-flex1 output_subarea output_pyout">

<pre>array([12, 13, 14, 15, 16, 17, 18, 19, 20, 21, 22, 23])</pre>
</div>
</div>

</div>
</div>
</div>
<div class="text_cell_render border-box-sizing rendered_html">
<p>An alternative to importing modules in the definition of a function, there is a <code>@require</code> decoratir in <code>IPython.parallel</code> which will cause the required module to be imported before the code in the function is executed.</p>
</div>
<div class="cell border-box-sizing code_cell vbox">
<div class="input hbox">
<div class="prompt input_prompt">In&nbsp;[65]:</div>
<div class="input_area box-flex1">
<div class="highlight"><pre><span class="kn">from</span> <span class="nn">IPython.parallel</span> <span class="kn">import</span> <span class="n">require</span>
</pre></div>

</div>
</div>
</div>
<div class="cell border-box-sizing code_cell vbox">
<div class="input hbox">
<div class="prompt input_prompt">In&nbsp;[66]:</div>
<div class="input_area box-flex1">
<div class="highlight"><pre><span class="nd">@require</span><span class="p">(</span><span class="s">&quot;os&quot;</span><span class="p">)</span>
<span class="k">def</span> <span class="nf">get_pid</span><span class="p">():</span>
    <span class="k">return</span> <span class="n">os</span><span class="o">.</span><span class="n">getpid</span><span class="p">()</span>
</pre></div>

</div>
</div>
</div>
<div class="cell border-box-sizing code_cell vbox">
<div class="input hbox">
<div class="prompt input_prompt">In&nbsp;[67]:</div>
<div class="input_area box-flex1">
<div class="highlight"><pre><span class="n">dview</span><span class="o">.</span><span class="n">apply_sync</span><span class="p">(</span><span class="n">get_pid</span><span class="p">)</span>
</pre></div>

</div>
</div>
<div class="vbox output_wrapper">
<div class="hbox output_area">
<div class="prompt output_prompt">Out[67]:</div>
<div class="output vbox">
<div class="box-flex1 output_subarea output_pyout">

<pre>[88707, 88708, 88706, 88709, 88710, 88711, 88712, 88713]</pre>
</div>
</div>

</div>
</div>
</div>
<div class="text_cell_render border-box-sizing rendered_html">
<h2>Assignment 7</h2>
<p>This is a very naive function for factoring integers</p>
</div>
<div class="cell border-box-sizing code_cell vbox">
<div class="input hbox">
<div class="prompt input_prompt">In&nbsp;[]:</div>
<div class="input_area box-flex1">
<div class="highlight"><pre><span class="k">def</span> <span class="nf">factorize</span><span class="p">(</span><span class="n">n</span><span class="p">):</span>
    <span class="k">if</span> <span class="n">n</span> <span class="o">&lt;</span> <span class="mi">2</span><span class="p">:</span>
        <span class="k">return</span> <span class="p">[]</span>
    <span class="n">factors</span> <span class="o">=</span> <span class="p">[]</span>
    <span class="n">p</span> <span class="o">=</span> <span class="mi">2</span>

    <span class="k">while</span> <span class="bp">True</span><span class="p">:</span>
        <span class="k">if</span> <span class="n">n</span> <span class="o">==</span> <span class="mi">1</span><span class="p">:</span>
            <span class="k">return</span> <span class="n">factors</span>
        <span class="n">r</span> <span class="o">=</span> <span class="n">n</span> <span class="o">%</span> <span class="n">p</span>
        <span class="k">if</span> <span class="n">r</span> <span class="o">==</span> <span class="mi">0</span><span class="p">:</span>
            <span class="n">factors</span><span class="o">.</span><span class="n">append</span><span class="p">(</span><span class="n">p</span><span class="p">)</span>
            <span class="n">n</span> <span class="o">=</span> <span class="n">n</span> <span class="o">/</span> <span class="n">p</span>
        <span class="k">elif</span> <span class="n">p</span> <span class="o">*</span> <span class="n">p</span> <span class="o">&gt;=</span> <span class="n">n</span><span class="p">:</span>
            <span class="n">factors</span><span class="o">.</span><span class="n">append</span><span class="p">(</span><span class="n">n</span><span class="p">)</span>
            <span class="k">return</span> <span class="n">factors</span>
        <span class="k">elif</span> <span class="n">p</span> <span class="o">&gt;</span> <span class="mi">2</span><span class="p">:</span>
            <span class="n">p</span> <span class="o">+=</span> <span class="mi">2</span>
        <span class="k">else</span><span class="p">:</span>
            <span class="n">p</span> <span class="o">+=</span> <span class="mi">1</span>
</pre></div>

</div>
</div>
</div>
<div class="text_cell_render border-box-sizing rendered_html">
<p>The task is to factorize all numbers from 2 to 500000, and count the number of <em>unique</em> factors. Then count how many times a factor count occurs. That is, make a histogram of factor counts.</p>
<p>For the sake of clarity, this is what the task would be for the numbers up to 10:</p>
<pre><code>number  factors         unique   num_unique_factors
2       [2]                      1
3       [3]                      1
4       [2, 2]          [2]      1
5       [5]                      1
6       [2, 3]                   2
7       [7]                      1
8       [2, 2, 2]       [2]      1
9       [3, 3]          [3]      1
10      [2, 5]                   2
</code></pre>
<p>Which gives us</p>
<pre><code>{1: 7, 2: 2}
</code></pre>
<h3>1.</h3>
<p>First implement this serially, that is, how you normally would. (It should take in the order of 15 seconds for 500000 numbers).</p>
<h3>2.</h3>
<p>Then make an implementation which uses <code>multiprocessing</code> for parallelization, (the parallelization strategy should be to factor some numbers on some processes, don't worry about the implementation of the factoring function).</p>
<h3>3.</h3>
<p>Implement the same thing using <code>IPython.parallel</code>. (Remember that you need to start the <code>ipcluster</code> before running a script using <code>IPython.parallel</code>, this is something I have a tendency to forget.)</p>
<p>For this assignment, put <em>everything</em> in one script. Call the script <code>num_factors.py</code>. Put it in the <code>scripts</code> directory of your repository.</p>
<p>The script should take a character as an argument to determining how it will be run.
So to run it serially, you run</p>
<pre><code>$ num_factors.py s
</code></pre>
<p>With <code>multiprocessing</code></p>
<pre><code>$ num_factors.py m
</code></pre>
<p>and with <code>IPython.parallel</code></p>
<pre><code>$ num_factors.py i
</code></pre>
<p>The script should print a dictionary like in the example above</p>
</div>
<div class="cell border-box-sizing code_cell vbox">
<div class="input hbox">
<div class="prompt input_prompt">In&nbsp;[]:</div>
<div class="input_area box-flex1">
<div class="highlight"><pre>
</pre></div>

</div>
</div>
</div>


     <!-- Footer
     ================================================== -->
      <footer class="footer">
      <p class="pull-right"><a href="#">Back to top</a></p>
      <p>More info on <a href='http://ipython.org'> IPython website </a>.
      <a href="https://github.com/ipython/nbviewer">The code for this site</a> is licensed under  <a href="https://github.com/ipython/nbviewer/blob/master/LICENSE.txt" target="_blank">BSD</a>.
      Some icons from <a href="http://glyphicons.com">Glyphicons Free</a>, built thanks to <a href="http://twitter.github.com/bootstrap/"> Twitter Bootstrap</a></p>
      <p>This web site does not host notebooks, it only renders notebooks available on other websites.
      Thanks to all our <a href="https://github.com/ipython/nbviewer/contributors">contributors</a>.</p>
      </footer>
    </div><!-- /container -->



    <!-- Le javascript
    ================================================== -->
    <!-- Placed at the end of the document so the pages load faster -->

    <!--<script type="text/javascript" src="http://platform.twitter.com/widgets.js"></script>-->
    <script src="/static/js/jquery.js"></script>
    <!--<script src="/static/js/google-code-prettify/prettify.js"></script>-->
    <!--<script src="/static/js/bootstrap-transition.js"></script>-->
    <!--<script src="/static/js/bootstrap-alert.js"></script>-->
    <!--<script src="/static/js/bootstrap-modal.js"></script>-->
    <!--<script src="/static/js/bootstrap-dropdown.js"></script>-->
    <!--<script src="/static/js/bootstrap-scrollspy.js"></script>-->
    <!--<script src="/static/js/bootstrap-tab.js"></script>-->
    <!--<script src="/static/js/bootstrap-tooltip.js"></script>-->
    <!--<script src="/static/js/bootstrap-popover.js"></script>-->
    <!--<script src="/static/js/bootstrap-button.js"></script>-->
    <script src="/static/js/bootstrap-collapse.js"></script>
    <!--<script src="/static/js/bootstrap-carousel.js"></script>-->
    <!--<script src="/static/js/bootstrap-typeahead.js"></script>-->
    <!--<script src="/static/js/application.js"></script>-->


    <!-- Analytics
    ================================================== -->
    <script type="text/javascript">
      var _gaq = _gaq || [];
      _gaq.push(['_setAccount', 'UA-38683231-2']);
      _gaq.push(['_trackPageview']);

      (function() {
        var ga = document.createElement('script'); ga.type = 'text/javascript'; ga.async = true;
        ga.src = ('https:' == document.location.protocol ? 'https://ssl' : 'http://www') + '.google-analytics.com/ga.js';
        var s = document.getElementsByTagName('script')[0]; s.parentNode.insertBefore(ga, s);
      })();

    </script>
    <!--NEW RELIC Stop Perf Measurement-->
    <script type="text/javascript">if(!NREUMQ.f){NREUMQ.f=function(){NREUMQ.push(["load",new Date().getTime()]);var e=document.createElement("script");e.type="text/javascript";e.src=(("http:"===document.location.protocol)?"http:":"https:")+"//"+"rpm-images.newrelic.com/42/eum/rum.js";document.body.appendChild(e);if(NREUMQ.a)NREUMQ.a();};NREUMQ.a=window.onload;window.onload=NREUMQ.f;};NREUMQ.push(["nrfj","beacon-3.newrelic.com","7c83165904","1528310","Y1YAMUFQXEZYUEcIVlocJBBdUkZcVl0cBlBHR1gXVl9WUEtsRhNVRw==",9,490,new Date().getTime(),"","","","",""]);</script>
    <!--NEW RELIC End-->
  </body>
</html>