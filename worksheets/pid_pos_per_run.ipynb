{
 "cells": [
  {
   "cell_type": "code",
   "execution_count": 1,
   "metadata": {
    "collapsed": false
   },
   "outputs": [],
   "source": [
    "from util_phys import *\n",
    "from util_phys_ROOT import *\n",
    "\n",
    "%matplotlib inline\n",
    "import matplotlib.pyplot as plt"
   ]
  },
  {
   "cell_type": "code",
   "execution_count": 2,
   "metadata": {
    "collapsed": false
   },
   "outputs": [],
   "source": [
    "sol = 29.9792458\n",
    "mpip = 0.13957018\n",
    "mp = 0.93827203\n",
    "\n",
    "def etime(evt):\n",
    "    isc = evt.sc[0]-1\n",
    "    return evt.sc_t[isc] - evt.sc_r[isc]/sol\n",
    "\n",
    "def bifp(p):\n",
    "    return math.sqrt(p**2/(p**2+mp**2))\n",
    "\n",
    "def dtifp(p, d, t, t0):\n",
    "    return t - d/(sol*bifp(p)) - t0\n"
   ]
  },
  {
   "cell_type": "code",
   "execution_count": 3,
   "metadata": {
    "collapsed": false
   },
   "outputs": [],
   "source": [
    "def hid_pos_runs(N=None, n0=0):\n",
    "    n = n0\n",
    "    hid_branches = [ 'q', 'p', 'tr_time', 'sc', 'sc_sect', 'sc_pd', 'sc_r', 'sc_t' ]\n",
    "    tname = 'h10clone/h10'\n",
    "    dir_skims = '/home/ephelps/projects/phys-ana-omega/e1f6/test' #'/hdd500/home/data/batch/e1f_skim'\n",
    "    fn_tmpl = '%s/%%d.root'%dir_skims\n",
    "    exceptional_runs = [37688]\n",
    "    runs = [(run, fn_tmpl%run) for run in golden_runs if run not in exceptional_runs]\n",
    "    nruns = len(runs)\n",
    "    N = nruns if N is None else N\n",
    "    while n-n0 < N and n < nruns:\n",
    "        (run, fn) = runs[n]\n",
    "        yield (run, root_numpy.root2rec(fn_tmpl%run, tname, hid_branches))\n",
    "        n += 1\n",
    "# %time runs = [root_numpy.root2rec(fn_tmpl%grun, tname, bnames) \\\n",
    "#               for grun in golden_runs[0:50] if grun not in exceptional_runs]\n",
    "# %time hid_pos_runs = [(grun, root_numpy.root2rec(fn_tmpl%grun, tname, hid_branches)) \\\n",
    "#                       for grun in golden_runs if grun not in exceptional_runs]"
   ]
  },
  {
   "cell_type": "code",
   "execution_count": 4,
   "metadata": {
    "collapsed": false
   },
   "outputs": [],
   "source": [
    "def positive_particles(run):\n",
    "    dts = []\n",
    "    for i, (pS, qS, scS) in enumerate(zip(run.p, run.q, run.sc)):\n",
    "        for p, q, sc in zip(pS, qS, scS):\n",
    "            if q > 0 and sc > 0 and p > 0 and p < 5.5:\n",
    "                #if run.sc_sect[i][sc-1] == 3 and run.sc_pd[i][sc-1] == 24:\n",
    "                d = run.sc_r[i][sc-1]\n",
    "                t = run.sc_t[i][sc-1]\n",
    "                t0 = run.tr_time[i]\n",
    "                dts.append((run.sc_sect[i][sc-1], run.sc_pd[i][sc-1], dtifp(p, d, t, t0)))\n",
    "    return dts"
   ]
  },
  {
   "cell_type": "code",
   "execution_count": 5,
   "metadata": {
    "collapsed": false
   },
   "outputs": [
    {
     "name": "stdout",
     "output_type": "stream",
     "text": [
      "CPU times: user 56min 13s, sys: 11 s, total: 56min 24s\n",
      "Wall time: 56min 29s\n"
     ]
    }
   ],
   "source": [
    "# golden_runs = [37658, 37659, 37661, 37662]\n",
    "%time run_dtsS = [(run, positive_particles(d_run)) for (run, d_run) in hid_pos_runs()]"
   ]
  },
  {
   "cell_type": "code",
   "execution_count": 6,
   "metadata": {
    "collapsed": false
   },
   "outputs": [],
   "source": [
    "# runs, peaks = [], []\n",
    "# for (run, dts) in run_dtsS:\n",
    "#     for sect, pdl, dt in dts:\n",
    "#         if sect == 3 and pdl == 24:\n",
    "#             Y,X = np.histogram(dt, bins=np.arange(-5,5,0.25))\n",
    "#             runs.append(run)\n",
    "#             peak = max(zip(X,Y), key=lambda x: x[1])\n",
    "#             peaks.append(peak[0])\n",
    "#             #print(run, peak)\n",
    "runs, peaks = [], []\n",
    "for (run, dts) in run_dtsS:\n",
    "    Y,X = np.histogram([dt for (sect,pdl,dt) in dts if sect==1 and pdl==24], bins=np.arange(-5,5,0.1))\n",
    "    runs.append(run)\n",
    "    peak = max(zip(X,Y), key=lambda x: x[1])\n",
    "    peaks.append(peak[0])"
   ]
  },
  {
   "cell_type": "code",
   "execution_count": 7,
   "metadata": {
    "collapsed": false
   },
   "outputs": [
    {
     "data": {
      "text/plain": [
       "[<matplotlib.lines.Line2D at 0x7f8e7169a518>]"
      ]
     },
     "execution_count": 7,
     "metadata": {},
     "output_type": "execute_result"
    },
    {
     "data": {
      "image/png": "[encoded data removed]",
      "text/plain": [
       "<matplotlib.figure.Figure at 0x7f8f8cd63ef0>"
      ]
     },
     "metadata": {},
     "output_type": "display_data"
    }
   ],
   "source": [
    "plt.plot(runs, peaks, 'k.')\n",
    "# for i,(r,p) in enumerate(zip(runs,peaks),1):\n",
    "#     print(i,r,p)\n",
    "#     if i>10:\n",
    "#         break\n",
    "# plt.hist2d(runs,peaks)\n",
    "# run_dtsS"
   ]
  },
  {
   "cell_type": "code",
   "execution_count": 105,
   "metadata": {
    "collapsed": false
   },
   "outputs": [],
   "source": [
    "def get_peak_points(h):\n",
    "    points = []\n",
    "    pfinder = ROOT.TSpectrum(4)\n",
    "    npeaks = pfinder.Search(h, 2, 'goff', 0.5)\n",
    "    for i in range(0,npeaks):\n",
    "        x = pfinder.GetPositionX()[i]\n",
    "        y = pfinder.GetPositionY()[i]\n",
    "        points.append((x,y))\n",
    "    return points\n",
    "\n",
    "def get_hist_peaks(run, dtsS, sect, pdl):\n",
    "    dts = [d for (r,d) in dtsS if r==run][0]\n",
    "    h = ROOT.TH1D('hdt', 'hdt', 500, -45, 5)\n",
    "    for (s,p,dt) in dts:\n",
    "        if s==sect and p==pdl:\n",
    "            h.Fill(dt)\n",
    "    peaks = get_peak_points(h)\n",
    "    dt = max([p[0] for p in peaks]) if len(peaks) > 0 else 0\n",
    "    return (h,peaks,dt)"
   ]
  },
  {
   "cell_type": "code",
   "execution_count": 102,
   "metadata": {
    "collapsed": false
   },
   "outputs": [
    {
     "name": "stderr",
     "output_type": "stream",
     "text": [
      "WARNING:ROOT.TROOT.Append] Replacing existing TH1: hdt (Potential memory leak).\n",
      "WARNING:ROOT.TSpectrum.SearchHighRes] Peak buffer full\n",
      "WARNING:ROOT.TSpectrum.SearchHighRes] Peak buffer full\n",
      "WARNING:ROOT.TSpectrum.SearchHighRes] Peak buffer full\n",
      "WARNING:ROOT.TSpectrum.SearchHighRes] Peak buffer full\n",
      "WARNING:ROOT.TSpectrum.SearchHighRes] Peak buffer full\n",
      "WARNING:ROOT.TSpectrum.SearchHighRes] Peak buffer full\n",
      "WARNING:ROOT.TSpectrum.SearchHighRes] Peak buffer full\n",
      "WARNING:ROOT.TSpectrum.SearchHighRes] Peak buffer full\n"
     ]
    },
    {
     "name": "stdout",
     "output_type": "stream",
     "text": [
      "CPU times: user 58.4 s, sys: 60 ms, total: 58.5 s\n",
      "Wall time: 58.4 s\n"
     ]
    }
   ],
   "source": [
    "%%time\n",
    "runs, peaks = [], []\n",
    "runs_e, peaks_e = [], []\n",
    "for (run, dts) in run_dtsS:\n",
    "    (h,peaks1,dt) = get_hist_peaks(run, run_dtsS, 3, 11)\n",
    "    if len(peaks1)>0 and len(peaks1)<3:\n",
    "        runs.append(run)\n",
    "        peaks.append(dt)\n",
    "    else:\n",
    "        runs_e.append(run)\n",
    "        peaks_e.append(dt)\n",
    "    del h\n",
    "#     break"
   ]
  },
  {
   "cell_type": "code",
   "execution_count": 87,
   "metadata": {
    "collapsed": false,
    "scrolled": true
   },
   "outputs": [
    {
     "data": {
      "text/plain": [
       "[(38050, -0.1499999999999993),\n",
       " (38093, 0),\n",
       " (38141, 0),\n",
       " (38143, 0),\n",
       " (38196, -2.25),\n",
       " (38198, 0),\n",
       " (38217, 0),\n",
       " (38221, 0),\n",
       " (38301, -0.3499999999999995),\n",
       " (38322, 0),\n",
       " (38391, 0),\n",
       " (38395, 0),\n",
       " (38398, 0),\n",
       " (38403, 0),\n",
       " (38405, 0),\n",
       " (38411, 0),\n",
       " (38412, 0),\n",
       " (38438, 0),\n",
       " (38453, -0.24999999999999983),\n",
       " (38492, 0),\n",
       " (38527, 0),\n",
       " (38540, 0),\n",
       " (38542, 0),\n",
       " (38549, 0),\n",
       " (38551, 0),\n",
       " (38578, 0),\n",
       " (38579, 0.45000000000000034),\n",
       " (38611, 0),\n",
       " (38619, 0),\n",
       " (38622, 0),\n",
       " (38631, 0),\n",
       " (38638, 0),\n",
       " (38656, 0),\n",
       " (38671, 0),\n",
       " (38685, 0),\n",
       " (38698, 0),\n",
       " (38724, 0),\n",
       " (38732, 0),\n",
       " (38735, 0),\n",
       " (38745, 0)]"
      ]
     },
     "execution_count": 87,
     "metadata": {},
     "output_type": "execute_result"
    }
   ],
   "source": [
    "[(r,p) for (r,p) in zip(runs,peaks) if p<=0.5 and r>38000]"
   ]
  },
  {
   "cell_type": "code",
   "execution_count": 97,
   "metadata": {
    "collapsed": false
   },
   "outputs": [
    {
     "name": "stderr",
     "output_type": "stream",
     "text": [
      "INFO:ROOT.TCanvas.Print] png file /tmp/tmp2yoyenkx.png has been created\n"
     ]
    },
    {
     "name": "stdout",
     "output_type": "stream",
     "text": [
      "[(2.45, 13.0), (-0.1499999999999993, 11.0)]\n",
      "2.45\n"
     ]
    },
    {
     "data": {
      "image/png": "[encoded data removed]",
      "text/plain": [
       "Hist('hdt')"
      ]
     },
     "execution_count": 97,
     "metadata": {},
     "output_type": "execute_result"
    }
   ],
   "source": [
    "(h,peaks,dt) = get_hist_peaks(38050, run_dtsS, 3, 11)\n",
    "print(peaks)\n",
    "print(dt)\n",
    "asrootpy(h)"
   ]
  },
  {
   "cell_type": "code",
   "execution_count": 106,
   "metadata": {
    "collapsed": false
   },
   "outputs": [
    {
     "name": "stderr",
     "output_type": "stream",
     "text": [
      "WARNING:ROOT.TROOT.Append] Replacing existing TH1: hdt (Potential memory leak).\n",
      "INFO:ROOT.TCanvas.Print] png file /tmp/tmpqj2vzrly.png has been created\n"
     ]
    },
    {
     "name": "stdout",
     "output_type": "stream",
     "text": [
      "[(-23.15, 1.0)]\n",
      "-23.15\n"
     ]
    },
    {
     "data": {
      "image/png": "[encoded data removed]",
      "text/plain": [
       "Hist('hdt')"
      ]
     },
     "execution_count": 106,
     "metadata": {},
     "output_type": "execute_result"
    }
   ],
   "source": [
    "(h,peaks,dt) = get_hist_peaks(37772, run_dtsS, 3, 2)\n",
    "print(peaks)\n",
    "print(dt)\n",
    "asrootpy(h)"
   ]
  },
  {
   "cell_type": "code",
   "execution_count": 103,
   "metadata": {
    "collapsed": false
   },
   "outputs": [
    {
     "data": {
      "text/plain": [
       "[<matplotlib.lines.Line2D at 0x7f8db23bbf60>]"
      ]
     },
     "execution_count": 103,
     "metadata": {},
     "output_type": "execute_result"
    },
    {
     "data": {
      "image/png": "[encoded data removed]",
      "text/plain": [
       "<matplotlib.figure.Figure at 0x7f8db23bbfd0>"
      ]
     },
     "metadata": {},
     "output_type": "display_data"
    }
   ],
   "source": [
    "plt.plot(runs, peaks, 'k.')\n",
    "plt.plot(runs_e, peaks_e, 'r.')\n",
    "# plt.show()\n",
    "# print(peaks)\n",
    "# print(peaks1)\n",
    "# print(get_peak_points(h))\n",
    "# asrootpy(h)"
   ]
  },
  {
   "cell_type": "code",
   "execution_count": 9,
   "metadata": {
    "collapsed": false
   },
   "outputs": [
    {
     "name": "stdout",
     "output_type": "stream",
     "text": [
      "37658 37662\n"
     ]
    }
   ],
   "source": [
    "run0, run1 = min(golden_runs), max(golden_runs)\n",
    "print(run0,run1)"
   ]
  },
  {
   "cell_type": "code",
   "execution_count": 10,
   "metadata": {
    "collapsed": false
   },
   "outputs": [
    {
     "ename": "TypeError",
     "evalue": "'int' object is not iterable",
     "output_type": "error",
     "traceback": [
      "\u001b[0;31m---------------------------------------------------------------------------\u001b[0m",
      "\u001b[0;31mTypeError\u001b[0m                                 Traceback (most recent call last)",
      "\u001b[0;32m<ipython-input-10-d47048344ffd>\u001b[0m in \u001b[0;36m<module>\u001b[0;34m()\u001b[0m\n\u001b[1;32m      5\u001b[0m \u001b[0mnevs\u001b[0m \u001b[0;34m=\u001b[0m \u001b[0;36m0\u001b[0m\u001b[0;34m\u001b[0m\u001b[0m\n\u001b[1;32m      6\u001b[0m \u001b[0;34m\u001b[0m\u001b[0m\n\u001b[0;32m----> 7\u001b[0;31m \u001b[0;32mfor\u001b[0m \u001b[0;34m(\u001b[0m\u001b[0mifile\u001b[0m\u001b[0;34m,\u001b[0m \u001b[0;34m(\u001b[0m\u001b[0mrun\u001b[0m\u001b[0;34m,\u001b[0m \u001b[0mfn\u001b[0m\u001b[0;34m)\u001b[0m\u001b[0;34m)\u001b[0m \u001b[0;32min\u001b[0m \u001b[0menumerate\u001b[0m\u001b[0;34m(\u001b[0m\u001b[0mruns\u001b[0m\u001b[0;34m,\u001b[0m \u001b[0;36m1\u001b[0m\u001b[0;34m)\u001b[0m\u001b[0;34m:\u001b[0m\u001b[0;34m\u001b[0m\u001b[0m\n\u001b[0m\u001b[1;32m      8\u001b[0m     \u001b[0;32mif\u001b[0m \u001b[0mnfiles\u001b[0m \u001b[0;34m>\u001b[0m \u001b[0;36m0\u001b[0m \u001b[0;32mand\u001b[0m \u001b[0mifile\u001b[0m \u001b[0;34m>\u001b[0m \u001b[0mnfiles\u001b[0m\u001b[0;34m:\u001b[0m \u001b[0;32mbreak\u001b[0m\u001b[0;34m\u001b[0m\u001b[0m\n\u001b[1;32m      9\u001b[0m \u001b[0;34m\u001b[0m\u001b[0m\n",
      "\u001b[0;31mTypeError\u001b[0m: 'int' object is not iterable"
     ]
    }
   ],
   "source": [
    "fout = root_open('pid_pos_per_run.root', 'recreate')\n",
    "hpeaks = Hist(run1-run0+1, run0-0.5, run1+0.5, name='proton_dt_per_run')\n",
    "\n",
    "nfiles = 0\n",
    "nevs = 0\n",
    "\n",
    "for (ifile, (run, fn)) in enumerate(runs, 1):\n",
    "    if nfiles > 0 and ifile > nfiles: break\n",
    "\n",
    "    fout.cd()\n",
    "\n",
    "    hss = []\n",
    "    for isect in range(0,6):\n",
    "        hs = []\n",
    "        for ipdl in range(0,50):\n",
    "            h = Hist(40, -10, 10,\n",
    "                     name='r%d_s%d_pdl%d_pid_pos'%(run, isect+1, ipdl+1))\n",
    "            hs.append(h)\n",
    "        hss.append(hs)\n",
    "\n",
    "    fin = ROOT.TFile(fn)\n",
    "    es = fin.Get(tname)\n",
    "    ievt = 0\n",
    "    while es.GetEvent(ievt):\n",
    "        ievt += 1\n",
    "        if nevs > 0 and ievt > nevs: break\n",
    "        for q, p, sc in zip(bytearray(es.q), es.p, bytearray(es.sc)):\n",
    "            q, sc = twos_comp(q), twos_comp(sc)\n",
    "            if q > 0 and sc > 0 and p > 0 and p < 5.5:\n",
    "                sect = twos_comp(bytearray(es.sc_sect)[sc-1])\n",
    "                pdl = twos_comp(bytearray(es.sc_pd)[sc-1])\n",
    "                d = es.sc_r[sc-1]\n",
    "                t = es.sc_t[sc-1]\n",
    "                t0 = es.tr_time\n",
    "                hss[sect-1][pdl-1].Fill(dtifp(p, d, t, t0))\n",
    "    fin.Close()\n",
    "    h = hss[2][23]\n",
    "    peaks = get_peak_points(h)\n",
    "    dt = max([p[0] for p in peaks]) if len(peaks) > 0 else 0\n",
    "    hpeaks.Fill(run, dt)"
   ]
  },
  {
   "cell_type": "code",
   "execution_count": null,
   "metadata": {
    "collapsed": false
   },
   "outputs": [],
   "source": [
    "hpeaks"
   ]
  },
  {
   "cell_type": "code",
   "execution_count": 23,
   "metadata": {
    "collapsed": false
   },
   "outputs": [
    {
     "data": {
      "text/plain": [
       "True"
      ]
     },
     "execution_count": 23,
     "metadata": {},
     "output_type": "execute_result"
    }
   ],
   "source": [
    "fout = root_open('pid_pos_per_run.root', 'recreate')\n",
    "\n",
    "nfiles = 0\n",
    "nevs = 0\n",
    "\n",
    "for (ifile, (run, fn)) in enumerate(runs, 1):\n",
    "    if nfiles > 0 and ifile > nfiles: break\n",
    "\n",
    "    fout.cd()\n",
    "    hss = []\n",
    "    for isect in range(0,6):\n",
    "        hs = HistStack(name='r%d_s%d_pid_pos'%(run, isect+1))\n",
    "        for ipdl in range(0,50):\n",
    "            h = Hist2D(50,0,5,40,-10,10)\n",
    "            h.name='r%d_s%d_pdl%d_pid_pos'%(run, isect+1, ipdl+1)\n",
    "            h.set_option('colz')\n",
    "            hs.Add(h)\n",
    "        hss.append(hs)\n",
    "\n",
    "    fin = ROOT.TFile(fn)\n",
    "    es = fin.Get(tname)\n",
    "    ievt = 0\n",
    "    while es.GetEvent(ievt):\n",
    "        ievt += 1\n",
    "        if nevs > 0 and ievt > nevs: break\n",
    "        for q, p, sc in zip(bytearray(es.q), es.p, bytearray(es.sc)):\n",
    "            q, sc = twos_comp(q), twos_comp(sc)\n",
    "            if q > 0 and sc > 0 and p > 0 and p < 5.5:\n",
    "                sect = twos_comp(bytearray(es.sc_sect)[sc-1])\n",
    "                pdl = twos_comp(bytearray(es.sc_pd)[sc-1])\n",
    "                d = es.sc_r[sc-1]\n",
    "                t = es.sc_t[sc-1]\n",
    "                t0 = es.tr_time\n",
    "                hss[sect-1][pdl-1].Fill(p, dtifp(p, d, t, t0))\n",
    "    fin.Close()\n",
    "    for hs in hss:\n",
    "        fout.WriteObject(hs, hs.name)\n",
    "\n",
    "fout.Close()"
   ]
  },
  {
   "cell_type": "code",
   "execution_count": 19,
   "metadata": {
    "collapsed": false
   },
   "outputs": [],
   "source": [
    "hss[3].Draw('pads colz')"
   ]
  },
  {
   "cell_type": "code",
   "execution_count": 16,
   "metadata": {
    "collapsed": false
   },
   "outputs": [
    {
     "data": {
      "text/plain": [
       "('q', 'p', 'tr_time', 'sc', 'sc_sect', 'sc_pd', 'sc_r', 'sc_t')"
      ]
     },
     "execution_count": 16,
     "metadata": {},
     "output_type": "execute_result"
    }
   ],
   "source": []
  },
  {
   "cell_type": "code",
   "execution_count": null,
   "metadata": {
    "collapsed": false
   },
   "outputs": [],
   "source": []
  }
 ],
 "metadata": {
  "anaconda-cloud": {},
  "kernelspec": {
   "display_name": "Python [default]",
   "language": "python",
   "name": "python3"
  },
  "language_info": {
   "codemirror_mode": {
    "name": "ipython",
    "version": 3
   },
   "file_extension": ".py",
   "mimetype": "text/x-python",
   "name": "python",
   "nbconvert_exporter": "python",
   "pygments_lexer": "ipython3",
   "version": "3.4.5"
  }
 },
 "nbformat": 4,
 "nbformat_minor": 0
}
