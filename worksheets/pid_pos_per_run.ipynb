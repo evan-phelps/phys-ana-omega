{
 "cells": [
  {
   "cell_type": "code",
   "execution_count": 1,
   "metadata": {
    "collapsed": false
   },
   "outputs": [],
   "source": [
    "from util_phys import *\n",
    "from util_phys_ROOT import *\n",
    "\n",
    "%matplotlib inline\n",
    "import matplotlib.pyplot as plt"
   ]
  },
  {
   "cell_type": "code",
   "execution_count": 2,
   "metadata": {
    "collapsed": false
   },
   "outputs": [],
   "source": [
    "sol = 29.9792458\n",
    "mpip = 0.13957018\n",
    "mp = 0.93827203\n",
    "\n",
    "def etime(evt):\n",
    "    isc = evt.sc[0]-1\n",
    "    return evt.sc_t[isc] - evt.sc_r[isc]/sol\n",
    "\n",
    "def bifp(p):\n",
    "    return math.sqrt(p**2/(p**2+mp**2))\n",
    "\n",
    "def dtifp(p, d, t, t0):\n",
    "    return t - d/(sol*bifp(p)) - t0\n"
   ]
  },
  {
   "cell_type": "code",
   "execution_count": 3,
   "metadata": {
    "collapsed": false
   },
   "outputs": [],
   "source": [
    "def hid_pos_runs(N=None, n0=0):\n",
    "    n = n0\n",
    "    hid_branches = [ 'q', 'p', 'tr_time', 'sc', 'sc_sect', 'sc_pd', 'sc_r', 'sc_t' ]\n",
    "    tname = 'h10clone/h10'\n",
    "    dir_skims = '~/data/batch/e1f_skim' #'/hdd500/home/data/batch/e1f_skim'\n",
    "    fn_tmpl = '%s/%%d.root'%dir_skims\n",
    "    exceptional_runs = [37688]\n",
    "    runs = [(run, fn_tmpl%run) for run in golden_runs if run not in exceptional_runs]\n",
    "    nruns = len(runs)\n",
    "    N = nruns if N is None else N\n",
    "    while n-n0 < N and n < nruns:\n",
    "        (run, fn) = runs[n]\n",
    "        yield (run, root_numpy.root2rec(fn_tmpl%run, tname, hid_branches))\n",
    "        n += 1\n",
    "# %time runs = [root_numpy.root2rec(fn_tmpl%grun, tname, bnames) \\\n",
    "#               for grun in golden_runs[0:50] if grun not in exceptional_runs]\n",
    "# %time hid_pos_runs = [(grun, root_numpy.root2rec(fn_tmpl%grun, tname, hid_branches)) \\\n",
    "#                       for grun in golden_runs if grun not in exceptional_runs]"
   ]
  },
  {
   "cell_type": "code",
   "execution_count": 4,
   "metadata": {
    "collapsed": false
   },
   "outputs": [],
   "source": [
    "def positive_particles(run):\n",
    "    dts = []\n",
    "    for i, (pS, qS, scS) in enumerate(zip(run.p, run.q, run.sc)):\n",
    "        for p, q, sc in zip(pS, qS, scS):\n",
    "            if q > 0 and sc > 0 and p > 0 and p < 5.5:\n",
    "                #if run.sc_sect[i][sc-1] == 3 and run.sc_pd[i][sc-1] == 24:\n",
    "                d = run.sc_r[i][sc-1]\n",
    "                t = run.sc_t[i][sc-1]\n",
    "                t0 = run.tr_time[i]\n",
    "                dts.append((run.sc_sect[i][sc-1], run.sc_pd[i][sc-1], dtifp(p, d, t, t0)))\n",
    "    return dts"
   ]
  },
  {
   "cell_type": "code",
   "execution_count": 5,
   "metadata": {
    "collapsed": false
   },
   "outputs": [
    {
     "name": "stdout",
     "output_type": "stream",
     "text": [
      "CPU times: user 50min 30s, sys: 30.2 s, total: 51min 1s\n",
      "Wall time: 50min 17s\n"
     ]
    }
   ],
   "source": [
    "%time run_dtsS = [(run, positive_particles(d_run)) for (run, d_run) in hid_pos_runs()]"
   ]
  },
  {
   "cell_type": "code",
   "execution_count": 16,
   "metadata": {
    "collapsed": false
   },
   "outputs": [],
   "source": [
    "runs, peaks = [], []\n",
    "for (run, dts) in run_dtsS:\n",
    "    for sect, pdl, dt in dts:\n",
    "        if sect == 3 and pdl == 24:\n",
    "            Y,X = np.histogram(dt, bins=np.arange(-5,5,0.25))\n",
    "            runs.append(run)\n",
    "            peak = max(zip(X,Y), key=lambda x: x[1])\n",
    "            peaks.append(peak[0])\n",
    "            #print(run, peak)"
   ]
  },
  {
   "cell_type": "code",
   "execution_count": 23,
   "metadata": {
    "collapsed": false
   },
   "outputs": [
    {
     "data": {
      "text/plain": [
       "(445126, 445126)"
      ]
     },
     "execution_count": 23,
     "metadata": {},
     "output_type": "execute_result"
    }
   ],
   "source": [
    "#plt.plot(runs, peaks, 'k.')\n"
   ]
  },
  {
   "cell_type": "code",
   "execution_count": 30,
   "metadata": {
    "collapsed": false
   },
   "outputs": [],
   "source": [
    "def get_peak_points(h):\n",
    "    points = []\n",
    "    pfinder = ROOT.TSpectrum(2, 1)\n",
    "    npeaks = pfinder.Search(h, 2.5, 'goff', 0.5)\n",
    "    for i in range(0,npeaks):\n",
    "        x = pfinder.GetPositionX()[i]\n",
    "        y = pfinder.GetPositionY()[i]\n",
    "        points.append((x,y))\n",
    "    return points"
   ]
  },
  {
   "cell_type": "code",
   "execution_count": 3,
   "metadata": {
    "collapsed": false
   },
   "outputs": [
    {
     "name": "stdout",
     "output_type": "stream",
     "text": [
      "(37658, 38751)\n"
     ]
    }
   ],
   "source": [
    "run0, run1 = min(golden_runs), max(golden_runs)\n",
    "print(run0,run1)"
   ]
  },
  {
   "cell_type": "code",
   "execution_count": null,
   "metadata": {
    "collapsed": false
   },
   "outputs": [],
   "source": [
    "fout = root_open('pid_pos_per_run.root', 'recreate')\n",
    "hpeaks = Hist(run1-run0+1, run0-0.5, run1+0.5, name='proton_dt_per_run')\n",
    "\n",
    "nfiles = 0\n",
    "nevs = 0\n",
    "\n",
    "for (ifile, (run, fn)) in enumerate(runs, 1):\n",
    "    if nfiles > 0 and ifile > nfiles: break\n",
    "\n",
    "    fout.cd()\n",
    "\n",
    "    hss = []\n",
    "    for isect in range(0,6):\n",
    "        hs = []\n",
    "        for ipdl in range(0,50):\n",
    "            h = Hist(40, -10, 10,\n",
    "                     name='r%d_s%d_pdl%d_pid_pos'%(run, isect+1, ipdl+1))\n",
    "            hs.append(h)\n",
    "        hss.append(hs)\n",
    "\n",
    "    fin = ROOT.TFile(fn)\n",
    "    es = fin.Get(tname)\n",
    "    ievt = 0\n",
    "    while es.GetEvent(ievt):\n",
    "        ievt += 1\n",
    "        if nevs > 0 and ievt > nevs: break\n",
    "        for q, p, sc in zip(bytearray(es.q), es.p, bytearray(es.sc)):\n",
    "            q, sc = twos_comp(q), twos_comp(sc)\n",
    "            if q > 0 and sc > 0 and p > 0 and p < 5.5:\n",
    "                sect = twos_comp(bytearray(es.sc_sect)[sc-1])\n",
    "                pdl = twos_comp(bytearray(es.sc_pd)[sc-1])\n",
    "                d = es.sc_r[sc-1]\n",
    "                t = es.sc_t[sc-1]\n",
    "                t0 = es.tr_time\n",
    "                hss[sect-1][pdl-1].Fill(dtifp(p, d, t, t0))\n",
    "    fin.Close()\n",
    "    h = hss[2][23]\n",
    "    peaks = get_peak_points(h)\n",
    "    dt = max([p[0] for p in peaks]) if len(peaks) > 0 else 0\n",
    "    hpeaks.Fill(run, dt)"
   ]
  },
  {
   "cell_type": "code",
   "execution_count": null,
   "metadata": {
    "collapsed": false
   },
   "outputs": [],
   "source": [
    "hpeaks"
   ]
  },
  {
   "cell_type": "code",
   "execution_count": 23,
   "metadata": {
    "collapsed": false
   },
   "outputs": [
    {
     "data": {
      "text/plain": [
       "True"
      ]
     },
     "execution_count": 23,
     "metadata": {},
     "output_type": "execute_result"
    }
   ],
   "source": [
    "fout = root_open('pid_pos_per_run.root', 'recreate')\n",
    "\n",
    "nfiles = 0\n",
    "nevs = 0\n",
    "\n",
    "for (ifile, (run, fn)) in enumerate(runs, 1):\n",
    "    if nfiles > 0 and ifile > nfiles: break\n",
    "\n",
    "    fout.cd()\n",
    "    hss = []\n",
    "    for isect in range(0,6):\n",
    "        hs = HistStack(name='r%d_s%d_pid_pos'%(run, isect+1))\n",
    "        for ipdl in range(0,50):\n",
    "            h = Hist2D(50,0,5,40,-10,10)\n",
    "            h.name='r%d_s%d_pdl%d_pid_pos'%(run, isect+1, ipdl+1)\n",
    "            h.set_option('colz')\n",
    "            hs.Add(h)\n",
    "        hss.append(hs)\n",
    "\n",
    "    fin = ROOT.TFile(fn)\n",
    "    es = fin.Get(tname)\n",
    "    ievt = 0\n",
    "    while es.GetEvent(ievt):\n",
    "        ievt += 1\n",
    "        if nevs > 0 and ievt > nevs: break\n",
    "        for q, p, sc in zip(bytearray(es.q), es.p, bytearray(es.sc)):\n",
    "            q, sc = twos_comp(q), twos_comp(sc)\n",
    "            if q > 0 and sc > 0 and p > 0 and p < 5.5:\n",
    "                sect = twos_comp(bytearray(es.sc_sect)[sc-1])\n",
    "                pdl = twos_comp(bytearray(es.sc_pd)[sc-1])\n",
    "                d = es.sc_r[sc-1]\n",
    "                t = es.sc_t[sc-1]\n",
    "                t0 = es.tr_time\n",
    "                hss[sect-1][pdl-1].Fill(p, dtifp(p, d, t, t0))\n",
    "    fin.Close()\n",
    "    for hs in hss:\n",
    "        fout.WriteObject(hs, hs.name)\n",
    "\n",
    "fout.Close()"
   ]
  },
  {
   "cell_type": "code",
   "execution_count": 19,
   "metadata": {
    "collapsed": false
   },
   "outputs": [],
   "source": [
    "hss[3].Draw('pads colz')"
   ]
  },
  {
   "cell_type": "code",
   "execution_count": 16,
   "metadata": {
    "collapsed": false
   },
   "outputs": [
    {
     "data": {
      "text/plain": [
       "('q', 'p', 'tr_time', 'sc', 'sc_sect', 'sc_pd', 'sc_r', 'sc_t')"
      ]
     },
     "execution_count": 16,
     "metadata": {},
     "output_type": "execute_result"
    }
   ],
   "source": []
  },
  {
   "cell_type": "code",
   "execution_count": null,
   "metadata": {
    "collapsed": false
   },
   "outputs": [],
   "source": []
  }
 ],
 "metadata": {
  "anaconda-cloud": {},
  "kernelspec": {
   "display_name": "Python [default]",
   "language": "python",
   "name": "python3"
  },
  "language_info": {
   "codemirror_mode": {
    "name": "ipython",
    "version": 3
   },
   "file_extension": ".py",
   "mimetype": "text/x-python",
   "name": "python",
   "nbconvert_exporter": "python",
   "pygments_lexer": "ipython3",
   "version": "3.4.5"
  }
 },
 "nbformat": 4,
 "nbformat_minor": 0
}
