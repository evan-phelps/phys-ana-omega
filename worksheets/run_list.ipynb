{
 "metadata": {
  "name": ""
 },
 "nbformat": 3,
 "nbformat_minor": 0,
 "worksheets": [
  {
   "cells": [
    {
     "cell_type": "code",
     "collapsed": false,
     "input": [
      "import pandas as pd\n",
      "pd.set_option('max_columns', 10)\n",
      "pd.set_option('max_rows', 40)\n",
      "pd.set_option('line_width', 150)"
     ],
     "language": "python",
     "metadata": {},
     "outputs": [],
     "prompt_number": 1
    },
    {
     "cell_type": "code",
     "collapsed": false,
     "input": [
      "df = pd.concat([pd.read_table('../e1f6/e1f_bos_fns.list', header=None),pd.read_table('../e1f6/e16_bos_fns.list', header=None)], ignore_index=True)\n",
      "df['run'] = df[0].str.split('_').apply(lambda x: int(x[1]))\n",
      "df['filenum'] = df[0].str.split('.').apply(lambda x: int(x[1].strip('[a-Z]')))\n",
      "df['exp'] = df.run.apply(lambda x: 'e1f' if x > 37000 else 'e1-6a')\n",
      "df['msspath'] = df.exp.apply(lambda x: '/mss/clas/%s/production/%s/data'%(x, \"pass2/v1\" if x==\"e1f\" else \"pass1/v1\"))\n",
      "df.columns = ['filename', 'run', 'filenum', 'exp', 'msspath']"
     ],
     "language": "python",
     "metadata": {},
     "outputs": [],
     "prompt_number": 2
    },
    {
     "cell_type": "code",
     "collapsed": false,
     "input": [
      "print(df.head())\n",
      "print(df.tail())"
     ],
     "language": "python",
     "metadata": {},
     "outputs": [
      {
       "output_type": "stream",
       "stream": "stdout",
       "text": [
        "              filename    run  filenum  exp                                 msspath\n",
        "0  run_37658_pass1.a00  37658        0  e1f  /mss/clas/e1f/production/pass2/v1/data\n",
        "1  run_37658_pass1.a01  37658        1  e1f  /mss/clas/e1f/production/pass2/v1/data\n",
        "2  run_37658_pass1.a02  37658        2  e1f  /mss/clas/e1f/production/pass2/v1/data\n",
        "3  run_37658_pass1.a03  37658        3  e1f  /mss/clas/e1f/production/pass2/v1/data\n",
        "4  run_37658_pass1.a04  37658        4  e1f  /mss/clas/e1f/production/pass2/v1/data\n",
        "                     filename    run  filenum    exp                                   msspath\n",
        "21713  run_31483_pass1.a11.00  31483       11  e1-6a  /mss/clas/e1-6a/production/pass1/v1/data\n",
        "21714  run_31483_pass1.a12.00  31483       12  e1-6a  /mss/clas/e1-6a/production/pass1/v1/data\n",
        "21715  run_31483_pass1.a13.00  31483       13  e1-6a  /mss/clas/e1-6a/production/pass1/v1/data\n",
        "21716  run_31484_pass1.a00.00  31484        0  e1-6a  /mss/clas/e1-6a/production/pass1/v1/data\n",
        "21717  run_31484_pass1.a01.00  31484        1  e1-6a  /mss/clas/e1-6a/production/pass1/v1/data\n"
       ]
      }
     ],
     "prompt_number": 3
    },
    {
     "cell_type": "code",
     "collapsed": false,
     "input": [
      "filesPerRun = df.groupby(df.run).apply(lambda x: pd.DataFrame(data={'exp':unique(x.exp.values), 'path':unique(x.msspath.values), 'files':', '.join(x.filename.values)}))\n",
      "\n",
      "#from xml.etree.ElementTree import Element, SubElement, Comment, tostring\n",
      "from lxml.etree import Element, SubElement, CDATA, tostring\n",
      "import re\n",
      "\n",
      "def getxml(exp, pretty=True):\n",
      "    rootout = 'out.root'\n",
      "    wdir = '~/omega/src'\n",
      "    exp2 = exp.lower().replace('-','').replace('a','')\n",
      "    fpr = filesPerRun[filesPerRun.exp==exp]\n",
      "    req = Element('Request')\n",
      "    SubElement(req, 'Project').attrib['name'] = exp\n",
      "    SubElement(req, 'Track').attrib['name'] = 'analysis'\n",
      "    SubElement(req, 'Name').attrib['name'] = 'epskim'\n",
      "    disk = SubElement(req, \"DiskSpace\")\n",
      "    disk.attrib['space'] = '80'\n",
      "    disk.attrib['unit'] = 'GB'\n",
      "    memory = SubElement(req, \"Memory\")\n",
      "    memory.attrib['space'] = '4'\n",
      "    memory.attrib['unit'] = 'GB'\n",
      "    reqcom = SubElement(req, 'Command')\n",
      "    reqcom.text = CDATA('bash -l -c \"python %s/processH10s.py -b -o %s -w %s -c %s/%s\"'%(wdir,rootout,wdir,wdir,'input.%s.exp.parms'%exp2))\n",
      "    \n",
      "    for run, path, files in zip(fpr.index, fpr.path.values, fpr.files.values):\n",
      "        reqjob = SubElement(req, 'Job')\n",
      "        for fn in files.split(','):\n",
      "            fn = fn.strip()\n",
      "            inpfile = SubElement(reqjob, 'Input')\n",
      "            inpfile.attrib['src'] = '%s/%s'%('mss:'+path,fn)\n",
      "            inpfile.attrib['dest'] = '%s.bos'%fn\n",
      "        outfile = SubElement(reqjob, 'Output')\n",
      "        outfile.attrib['src'] = rootout\n",
      "        outfile.attrib['dest'] = '~/w/%d.root'%int(run[0])\n",
      "    \n",
      "    return tostring(req, pretty_print=pretty)\n"
     ],
     "language": "python",
     "metadata": {},
     "outputs": [],
     "prompt_number": 4
    },
    {
     "cell_type": "code",
     "collapsed": false,
     "input": [
      "f = open('skim.e16.xml', 'w')\n",
      "f.write(getxml('e1-6a'))\n",
      "f.close()\n",
      "\n",
      "f = open('skim.e1f.xml', 'w')\n",
      "f.write(getxml('e1f'))\n",
      "f.close()"
     ],
     "language": "python",
     "metadata": {},
     "outputs": [],
     "prompt_number": 5
    },
    {
     "cell_type": "code",
     "collapsed": false,
     "input": [],
     "language": "python",
     "metadata": {},
     "outputs": []
    }
   ],
   "metadata": {}
  }
 ]
}