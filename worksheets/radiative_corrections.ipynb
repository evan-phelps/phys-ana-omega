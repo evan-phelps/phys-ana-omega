{
 "cells": [
  {
   "cell_type": "code",
   "execution_count": 20,
   "metadata": {
    "collapsed": true
   },
   "outputs": [],
   "source": [
    "%run util_draw.py\n",
    "%matplotlib inline\n",
    "import matplotlib as mpl\n",
    "from matplotlib import pyplot as plt\n",
    "from array import array\n",
    "import rootpy as rpy\n",
    "import rootpy.plotting.root2matplotlib as rplt\n",
    "from rootpy.io import root_open\n",
    "import numpy as np\n",
    "import pandas as pd\n",
    "import math\n",
    "import ROOT\n",
    "from root_numpy import root2array, root2rec, tree2rec"
   ]
  },
  {
   "cell_type": "code",
   "execution_count": 21,
   "metadata": {
    "collapsed": true
   },
   "outputs": [],
   "source": [
    "E1F_E0 = 5.497\n",
    "E16_E0 = 5.754\n",
    "MP = 0.93827203\n",
    "ME = 0.000511\n",
    "MPIX = 0.139\n",
    "MPI0 = 0.135\n",
    "MOMEGA = 0.78265"
   ]
  },
  {
   "cell_type": "code",
   "execution_count": 4,
   "metadata": {
    "collapsed": false
   },
   "outputs": [],
   "source": [
    "fn_r0, fn_r2 = '../e1f6/test/genev_e1f_rad_0.root', '../e1f6/test/genev_e1f_rad_2.root'\n",
    "hQ2W_r0, hQ2W_r2 = None, None\n",
    "sQ2 = '(2*%.3f*mcp[0]*(1-cos(TMath::DegToRad()*mctheta[0])))'%E1F_E0\n",
    "sW = '(sqrt(%.3f*%.3f+2*%.3f*(%.3f-mcp[0])-%s))'%(MP,MP,MP,E1F_E0,sQ2)\n",
    "with root_open(fn_r0) as fin:\n",
    "    tr0 = asrootpy(fin.h10)\n",
    "    hQ2W_r0 = tr0.Draw('%s:%s>>hQ2W_r0(80,1.6,3.2,35,0,7)'%(sW,sQ2), '', 'colz')\n",
    "with root_open(fn_r2) as fin:\n",
    "    tr2 = fin.h10\n",
    "    hQ2W_r2 = tr2.Draw('%s:%s>>hQ2W_r2(80,1.6,3.2,35,0,7)'%(sW,sQ2), '', 'colz')"
   ]
  },
  {
   "cell_type": "code",
   "execution_count": 5,
   "metadata": {
    "collapsed": false
   },
   "outputs": [
    {
     "data": {
      "image/png": "[encoded data removed]",
      "text/plain": [
       "<matplotlib.figure.Figure at 0x7ff8df618320>"
      ]
     },
     "metadata": {},
     "output_type": "display_data"
    }
   ],
   "source": [
    "draw(hQ2W_r2)\n",
    "plt.show()"
   ]
  },
  {
   "cell_type": "code",
   "execution_count": 6,
   "metadata": {
    "collapsed": false
   },
   "outputs": [
    {
     "data": {
      "text/plain": [
       "True"
      ]
     },
     "execution_count": 6,
     "metadata": {},
     "output_type": "execute_result"
    }
   ],
   "source": [
    "hQ2W_r2.Divide(hQ2W_r0)"
   ]
  },
  {
   "cell_type": "code",
   "execution_count": 18,
   "metadata": {
    "collapsed": false
   },
   "outputs": [],
   "source": [
    "# bQ2_500 = hQ2W_r0.get_yaxis().FindBin(0.5)\n",
    "# bQ2_1000 = hQ2W_r0.get_yaxis().FindBin(1.0)\n",
    "# bQ2_1500 = hQ2W_r0.get_yaxis().FindBin(1.5)\n",
    "# bQ2_2000 = hQ2W_r0.get_yaxis().FindBin(2.0)\n",
    "# bQ2_2500 = hQ2W_r0.get_yaxis().FindBin(2.5)\n",
    "# bQ2_3000 = hQ2W_r0.get_yaxis().FindBin(3.0)\n",
    "# suffixes = ['_500_1000', '_1000_1500', '_1500_2000', '_2000_2500', '_2500_3000']\n",
    "# b0b1s = [(bQ2_500, bQ2_1000), (bQ2_1000, bQ2_1500), (bQ2_1500, bQ2_2000),\n",
    "#          (bQ2_2000, bQ2_2500), (bQ2_2500, bQ2_3000)]\n",
    "# hWs = [hQ2W_r0.projection_x(suffix, b0, b1) for suffix, (b0,b1) in zip(suffixes, b0b1s)]\n",
    "hWs = [hQ2W_r2.projection_x('_%d_%d'%(b0,b0), b0, b0) for b0 in [5]]"
   ]
  },
  {
   "cell_type": "code",
   "execution_count": 19,
   "metadata": {
    "collapsed": false
   },
   "outputs": [
    {
     "data": {
      "image/png": "[encoded data removed]",
      "text/plain": [
       "<matplotlib.figure.Figure at 0x7ff8dca00b38>"
      ]
     },
     "metadata": {},
     "output_type": "display_data"
    }
   ],
   "source": [
    "colors = ['k', 'b', 'r', 'g', 'y']\n",
    "fig = plt.figure()\n",
    "for i,hW in enumerate(hWs):\n",
    "    draw(asrootpy(hW), fig=fig)\n",
    "    plt.ylim(0,0.5)"
   ]
  },
  {
   "cell_type": "code",
   "execution_count": 3,
   "metadata": {
    "collapsed": true
   },
   "outputs": [],
   "source": [
    "# e0 = E1F_E0\n",
    "# fn_r0, fn_r2 = '../e1f6/test/genev_e1f_rad_0.root', '../e1f6/test/genev_e1f_rad_2.root'\n",
    "# df_r0, df_r2 = None, None\n",
    "\n",
    "# with root_open(fn_r0) as fin:\n",
    "#     df_r0 = pd.DataFrame(tree2rec(fin.h10, ['mcp[0]', 'mctheta[0]']))\n",
    "#     df_r0.columns = ['p', 'theta']\n",
    "# with root_open(fn_r2) as fin:\n",
    "#     df_r2 = pd.DataFrame(tree2rec(fin.h10, ['mcp[0]', 'mctheta[0]']))\n",
    "#     df_r2.columns = ['p', 'theta']\n",
    "\n",
    "# def add_Q2W_to_df(df, e0):\n",
    "#     df['Q2'] = 2*e0*df.p*(1-np.cos(np.deg2rad(df.theta)))\n",
    "#     df['W'] = np.sqrt(MP**2+2*MP*(e0-df.p-df.Q2))\n",
    "\n",
    "# add_Q2W_to_df(df_r0, e0)\n",
    "# add_Q2W_to_df(df_r2, e0)\n",
    "\n",
    "\n",
    "\n",
    "# hQ2W_r0 = np.histogram2d(df_r0.W, df_r0.Q2, bins=[np.arange(0,7,0.05), np.arange(1.5,3.2,0.02)])\n",
    "# hQ2W_r2 = np.histogram2d(df_r2.W, df_r2.Q2, bins=[np.arange(0,7,0.05), np.arange(1.5,3.2,0.02)])\n",
    "\n",
    "# im = plt.imshow(hQ2W_r0[0])\n",
    "# plt.show()"
   ]
  },
  {
   "cell_type": "code",
   "execution_count": null,
   "metadata": {
    "collapsed": true
   },
   "outputs": [],
   "source": []
  }
 ],
 "metadata": {
  "anaconda-cloud": {},
  "kernelspec": {
   "display_name": "Python [conda env:root6_py3]",
   "language": "python",
   "name": "conda-env-root6_py3-py"
  },
  "language_info": {
   "codemirror_mode": {
    "name": "ipython",
    "version": 3
   },
   "file_extension": ".py",
   "mimetype": "text/x-python",
   "name": "python",
   "nbconvert_exporter": "python",
   "pygments_lexer": "ipython3",
   "version": "3.4.5"
  }
 },
 "nbformat": 4,
 "nbformat_minor": 1
}
