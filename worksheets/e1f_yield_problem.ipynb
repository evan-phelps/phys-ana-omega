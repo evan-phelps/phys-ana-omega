{
 "cells": [
  {
   "cell_type": "markdown",
   "metadata": {
    "collapsed": true
   },
   "source": [
    "# e1f cooking problem\n",
    "\n",
    "My current e1f cross-sections are too low by a factor of four.  The issue was disguised by a bin normalization issue that accidentally corrected the systematic shift.  Others have suggested that the error results from an incongruence between the cooking of the experimental data and simulated data.  After investigating various cooking configurations and binary event-by-event, I concluded that a recook may be in order.\n",
    "\n",
    "TODO: Formalize the work that is currently at /volatile/clas/clase1/ephelps/phys-ana-omega/recook/20160914.\n",
    "\n",
    "The following worksheet aims to estimate the potential impact of recooking."
   ]
  },
  {
   "cell_type": "code",
   "execution_count": 1,
   "metadata": {
    "collapsed": true
   },
   "outputs": [],
   "source": [
    "%matplotlib inline\n",
    "import rootpy as rpy"
   ]
  },
  {
   "cell_type": "code",
   "execution_count": null,
   "metadata": {
    "collapsed": true
   },
   "outputs": [],
   "source": []
  }
 ],
 "metadata": {
  "anaconda-cloud": {},
  "kernelspec": {
   "display_name": "Python [conda env:root6_py3]",
   "language": "python",
   "name": "conda-env-root6_py3-py"
  },
  "language_info": {
   "codemirror_mode": {
    "name": "ipython",
    "version": 3
   },
   "file_extension": ".py",
   "mimetype": "text/x-python",
   "name": "python",
   "nbconvert_exporter": "python",
   "pygments_lexer": "ipython3",
   "version": "3.4.5"
  }
 },
 "nbformat": 4,
 "nbformat_minor": 0
}
