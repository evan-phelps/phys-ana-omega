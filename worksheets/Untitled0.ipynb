{
 "cells": [
  {
   "cell_type": "code",
   "execution_count": 1,
   "metadata": {
    "collapsed": false
   },
   "outputs": [],
   "source": [
    "from glob import glob\n",
    "from rootpy.io import root_open\n",
    "from rootpy.tree import Tree, TreeChain\n",
    "from root_ numpy import root2array, root2rec, tree2rec"
   ]
  },
  {
   "cell_type": "code",
   "execution_count": 2,
   "metadata": {
    "collapsed": false
   },
   "outputs": [],
   "source": [
    "skimdir='/run/media/ephelps/f8e8ff7e-2321-46f9-b5f5-203391519da8/jobs/skim.20140102/batch'\n",
    "runfiles=glob('%s/e1f_skim/3????.root'%skimdir)\n",
    "#fin = root_open('%s/e1f_skim/38121.root'%skimdir)\n",
    "#fin = root_open('%s/e1f_skim/38320.root'%skimdir)\n",
    "#rec = root2rec('%s/e1f_skim/38320.root'%skimdir, 'h10clone/h10', branches=['gpart','id','p','acos(cz)'], selection='id[1]==2212')\n",
    "#c = TreeChain(name='h10clone/h10', files=runfiles, branches=['gpart', 'p', 'cx', 'cy', 'cz', 'id', 'm', 'b', 'vx', 'vy', 'vz'])"
   ]
  },
  {
   "cell_type": "code",
   "execution_count": 3,
   "metadata": {
    "collapsed": false
   },
   "outputs": [
    {
     "data": {
      "text/plain": [
       "606"
      ]
     },
     "execution_count": 3,
     "metadata": {},
     "output_type": "execute_result"
    }
   ],
   "source": [
    "from ROOT import TChain\n",
    "c = TChain('h10clone/h10')\n",
    "c.Add('%s/e1f_skim/3????.root'%skimdir, -1)"
   ]
  },
  {
   "cell_type": "code",
   "execution_count": 4,
   "metadata": {
    "collapsed": false
   },
   "outputs": [],
   "source": [
    "electrons_rec = tree2rec(c, branches=['gpart','id','p','acos(cz)'], selection='id[1]==2212')"
   ]
  },
  {
   "cell_type": "code",
   "execution_count": 5,
   "metadata": {
    "collapsed": false
   },
   "outputs": [
    {
     "data": {
      "text/plain": [
       "(0, 13200000.000000002)"
      ]
     },
     "execution_count": 5,
     "metadata": {},
     "output_type": "execute_result"
    },
    {
     "data": {
      "image/png": "[encoded data removed]",
      "text/plain": [
       "<matplotlib.figure.Figure at 0x4337090>"
      ]
     },
     "metadata": {},
     "output_type": "display_data"
    }
   ],
   "source": [
    "hist(electrons_rec.gpart, bins=range(0,16))\n",
    "xlim(0,16)\n",
    "ylim(0,1.1*ylim()[1])"
   ]
  },
  {
   "cell_type": "code",
   "execution_count": 6,
   "metadata": {
    "collapsed": false
   },
   "outputs": [
    {
     "data": {
      "text/plain": [
       "array([[ 3.1598103 ,  1.07675195,  1.80408871,  3.24941087,  0.        ],\n",
       "       [ 1.2977668 ,  0.29419532,  2.70708203,  1.4230119 ,  0.        ],\n",
       "       [ 2.69036531,  1.64933836,  1.02215159,  0.        ,  0.        ],\n",
       "       [ 2.13719225,  1.41566408,  1.37959206,  0.        ,  0.        ],\n",
       "       [ 2.67903829,  1.25401855,  0.41871911,  0.        ,  0.        ],\n",
       "       [ 1.10876429,  1.18268383,  2.84615397,  1.07327902,  0.        ],\n",
       "       [ 1.87834013,  1.17450082,  0.79439324,  0.        ,  0.        ],\n",
       "       [ 0.83259052,  0.56051278,  0.86335284,  0.        ,  0.        ],\n",
       "       [ 1.04556155,  0.34038353,  1.69093907,  0.17958966,  1.12469709],\n",
       "       [ 2.89906955,  1.65860152,  1.43593311,  0.        ,  0.        ]], dtype=float32)"
      ]
     },
     "execution_count": 6,
     "metadata": {},
     "output_type": "execute_result"
    }
   ],
   "source": [
    "def pad_list(lst):\n",
    "    inner_max_len = max(map(len, lst))\n",
    "    map(lambda x: x.extend([0]*(inner_max_len-len(x))), lst)\n",
    "    return np.array(lst)\n",
    "\n",
    "def apply_to_zeros(lst, dtype=np.float32):\n",
    "    inner_max_len = max(map(len, lst))\n",
    "    result = np.zeros([len(lst), inner_max_len], dtype)\n",
    "    for i, row in enumerate(lst):\n",
    "        for j, val in enumerate(row):\n",
    "            result[i][j] = val\n",
    "    return result\n",
    "\n",
    "apply_to_zeros(rec.p[0:10])"
   ]
  },
  {
   "cell_type": "code",
   "execution_count": 6,
   "metadata": {
    "collapsed": false
   },
   "outputs": [
    {
     "data": {
      "text/plain": [
       "62168L"
      ]
     },
     "execution_count": 6,
     "metadata": {},
     "output_type": "execute_result"
    }
   ],
   "source": [
    "c.Draw(\"p[0]>>hp_e(500,0.083,5.083)\", \"id[0]==11\", \"\", 100000)\n",
    "c.Draw(\"p[0]>>hp_e2(500,0.083,5.083)\", \"id[0]==11 && nphe[cc[0]-1]>30\", \"same\", 100000)\n",
    "c.Draw(\"p>>hp_pim(500,0.083,5.083)\", \"id==-211\", \"same\", 300000)\n",
    "c.Draw(\"p>>hp_pip(500,0.083,5.083)\", \"id==211\", \"same\", 100000)"
   ]
  },
  {
   "cell_type": "code",
   "execution_count": 7,
   "metadata": {
    "collapsed": false
   },
   "outputs": [
    {
     "data": {
      "text/plain": [
       "382874L"
      ]
     },
     "execution_count": 7,
     "metadata": {},
     "output_type": "execute_result"
    }
   ],
   "source": [
    "c.Draw(\"nphe[cc[0]-1]:acos(cz)\", \"id[0]==11\", \"colz\", 100000)"
   ]
  },
  {
   "cell_type": "code",
   "execution_count": 8,
   "metadata": {
    "collapsed": false
   },
   "outputs": [
    {
     "data": {
      "text/plain": [
       "25428L"
      ]
     },
     "execution_count": 8,
     "metadata": {},
     "output_type": "execute_result"
    }
   ],
   "source": [
    "c.Draw(\"p[2]>>hp_pim(500,0.083,5.083)\", \"id[2]==-211 && nphe[cc[0]-1]>30\", \"\", 300000)"
   ]
  }
 ],
 "metadata": {
  "celltoolbar": "Raw Cell Format",
  "kernelspec": {
   "display_name": "Python 2",
   "language": "python",
   "name": "python2"
  },
  "language_info": {
   "codemirror_mode": {
    "name": "ipython",
    "version": 2
   },
   "file_extension": ".py",
   "mimetype": "text/x-python",
   "name": "python",
   "nbconvert_exporter": "python",
   "pygments_lexer": "ipython2",
   "version": "2.7.12"
  }
 },
 "nbformat": 4,
 "nbformat_minor": 0
}
