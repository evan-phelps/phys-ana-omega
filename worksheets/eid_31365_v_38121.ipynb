{
 "cells": [
  {
   "cell_type": "code",
   "execution_count": 1,
   "metadata": {
    "collapsed": true
   },
   "outputs": [],
   "source": [
    "import ROOT as R\n",
    "\n",
    "\n",
    "def add_sectors(run, hn_tmpl='eid/heidindS_sample_2_2_s%d', hn_tmpl_out='h%s'):\n",
    "    dir_data = '/home/ephelps/projects/phys-ana-omega/e1f6/test'\n",
    "    fin = R.TFile('%s/%s_eskim.root'%(dir_data, run))\n",
    "    h = fin.Get(hn_tmpl%1).Clone(hn_tmpl_out%run)\n",
    "    for sect in range (2,7):\n",
    "        h.Add(fin.Get(hn_tmpl%sect))\n",
    "    h.SetDirectory(0)\n",
    "    fin.Close()\n",
    "    return h\n",
    "\n",
    "\n",
    "def get_fcq(run):\n",
    "    dir_data = '/home/ephelps/projects/phys-ana-omega/e1f6/test'\n",
    "    fin = R.TFile('%s/%s_eskim.root'%(dir_data, run))\n",
    "    lum = fin.Get('lumblocks/lumblocks')\n",
    "    fcq, fcq_trip = 0, 0\n",
    "    for lb in lum:\n",
    "        fcq_trip += lb.fc_charge_ltcorr if lb.fc_charge_ltcorr < 0.5 else 0\n",
    "        fcq += lb.fc_charge_ltcorr\n",
    "    return (fcq, fcq_trip)"
   ]
  },
  {
   "cell_type": "code",
   "execution_count": 2,
   "metadata": {
    "collapsed": false
   },
   "outputs": [],
   "source": [
    "runs = ['31365_p1v1nt', '31365', '38121']\n",
    "hs_e = [add_sectors(run) for run in runs]\n",
    "hs_e_per_q = [h.Clone('%s_per_q'%h.GetName()) for (i,h) in enumerate(hs_e)]\n",
    "for (run, h, hn) in zip(runs, hs_e, hs_e_per_q):\n",
    "    h.SetTitle('eid summary, %s'%run)\n",
    "    hn.Scale(1/(get_fcq(run)[1]))\n",
    "    hn.SetTitle('fcq-normalized eid summary, %s'%run)"
   ]
  },
  {
   "cell_type": "code",
   "execution_count": 3,
   "metadata": {
    "collapsed": false
   },
   "outputs": [],
   "source": [
    "colors = [R.kBlue+2, R.kGreen+2, R.kRed+2]\n",
    "c = R.TCanvas(\"ceid\",\"EID cuts\",800,600)\n",
    "hs_e[0].Draw()\n",
    "hs_e[0].SetLineColor(colors[0])\n",
    "for i, h in enumerate(hs_e[1:], 1):\n",
    "    h.Draw('same')\n",
    "    h.SetLineColor(colors[i])\n",
    "c.BuildLegend()\n",
    "c.Draw()"
   ]
  },
  {
   "cell_type": "code",
   "execution_count": 4,
   "metadata": {
    "collapsed": false
   },
   "outputs": [],
   "source": [
    "colors = [R.kBlue+2, R.kGreen+2, R.kRed+2]\n",
    "c2 = R.TCanvas(\"ceid2\",\"EID cuts 2\",800,600)\n",
    "hs_e_per_q[0].Draw()\n",
    "hs_e_per_q[0].SetLineColor(colors[0])\n",
    "for i, h in enumerate(hs_e_per_q[1:], 1):\n",
    "    h.Draw('same')\n",
    "    h.SetLineColor(colors[i])\n",
    "c2.BuildLegend()\n",
    "c2.Draw()"
   ]
  },
  {
   "cell_type": "code",
   "execution_count": 3,
   "metadata": {
    "collapsed": false
   },
   "outputs": [],
   "source": [
    "runs = ['31365_p1v1', '31365', '38121']\n",
    "hs_e2 = [add_sectors(run, 'eid/heid_sample_2_2_s%d', 'h%s_accum') for run in runs]\n",
    "hs_e_per_q2 = [h.Clone('%s_per_q'%h.GetName()) for (i,h) in enumerate(hs_e2)]\n",
    "for (run, h, hn) in zip(runs, hs_e2, hs_e_per_q2):\n",
    "    h.SetTitle('cumulative. eid summary, %s'%run)\n",
    "    hn.Scale(1/(get_fcq(run)[1]))\n",
    "    hn.SetTitle('fcq-normalized cumulative eid summary, %s'%run)"
   ]
  },
  {
   "cell_type": "code",
   "execution_count": 4,
   "metadata": {
    "collapsed": false
   },
   "outputs": [],
   "source": [
    "colors = [R.kBlue+2, R.kGreen+2, R.kRed+2]\n",
    "cc = R.TCanvas(\"cceid\",\"EID c cuts\",800,600)\n",
    "hs_e2[0].Draw()\n",
    "hs_e2[0].SetLineColor(colors[0])\n",
    "for i, h in enumerate(hs_e2[1:], 1):\n",
    "    h.Draw('same')\n",
    "    h.SetLineColor(colors[i])\n",
    "cc.BuildLegend()\n",
    "cc.Draw()"
   ]
  },
  {
   "cell_type": "code",
   "execution_count": 8,
   "metadata": {
    "collapsed": false
   },
   "outputs": [
    {
     "name": "stderr",
     "output_type": "stream",
     "text": [
      "TCanvas::Constructor:0: RuntimeWarning: Deleting canvas with same name: cceid2\n"
     ]
    }
   ],
   "source": [
    "colors = [R.kBlue+2, R.kGreen+2, R.kRed+2]\n",
    "cc2 = R.TCanvas(\"cceid2\",\"EID c cuts 2\",800,600)\n",
    "hs_e_per_q2[0].Draw()\n",
    "hs_e_per_q2[0].SetLineColor(colors[0])\n",
    "for i, h in enumerate(hs_e_per_q2[1:], 1):\n",
    "    h.Draw('same')\n",
    "    h.SetLineColor(colors[i])\n",
    "cc2.BuildLegend()\n",
    "cc2.Draw()"
   ]
  },
  {
   "cell_type": "code",
   "execution_count": 10,
   "metadata": {
    "collapsed": false
   },
   "outputs": [],
   "source": []
  },
  {
   "cell_type": "code",
   "execution_count": 9,
   "metadata": {
    "collapsed": false
   },
   "outputs": [
    {
     "name": "stdout",
     "output_type": "stream",
     "text": [
      "(29.92619514465332, 26.974619388580322)\n",
      "(47.3635139465332, 44.75334930419922)\n"
     ]
    }
   ],
   "source": [
    "print(fcq38121)\n",
    "print(fcq31365)"
   ]
  },
  {
   "cell_type": "code",
   "execution_count": 10,
   "metadata": {
    "collapsed": true
   },
   "outputs": [],
   "source": [
    "h38121n = h38121.Clone('%s_n'%(h38121.GetName()))\n",
    "h31365n = h31365.Clone('%s_n'%(h31365.GetName()))\n",
    "h38121n.Scale(1/fcq38121[1])\n",
    "h31365n.Scale(1/fcq31365[1])"
   ]
  },
  {
   "cell_type": "code",
   "execution_count": 11,
   "metadata": {
    "collapsed": true
   },
   "outputs": [],
   "source": [
    "c2 = R.TCanvas(\"ceid_%d_n\"%run,\"EID cuts, %d, qnorm\"%run,800,600)\n",
    "h38121n.Draw()\n",
    "h31365n.Draw('same')\n",
    "h38121n.SetLineColor(R.kRed+2)\n",
    "c2.Draw()"
   ]
  },
  {
   "cell_type": "code",
   "execution_count": null,
   "metadata": {
    "collapsed": true
   },
   "outputs": [],
   "source": []
  }
 ],
 "metadata": {
  "anaconda-cloud": {},
  "kernelspec": {
   "display_name": "Python [conda env:root6_py3]",
   "language": "python",
   "name": "conda-env-root6_py3-py"
  },
  "language_info": {
   "codemirror_mode": {
    "name": "ipython",
    "version": 3
   },
   "file_extension": ".py",
   "mimetype": "text/x-python",
   "name": "python",
   "nbconvert_exporter": "python",
   "pygments_lexer": "ipython3",
   "version": "3.4.5"
  }
 },
 "nbformat": 4,
 "nbformat_minor": 1
}
