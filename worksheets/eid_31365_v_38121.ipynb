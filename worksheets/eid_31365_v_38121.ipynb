{
 "cells": [
  {
   "cell_type": "code",
   "execution_count": 1,
   "metadata": {
    "collapsed": false
   },
   "outputs": [],
   "source": [
    "%run util_phys.py\n",
    "import ROOT as R\n",
    "\n",
    "histnameschanged = ['S', 'S', 'S', 'S', '', '', '']\n",
    "runs = ['31365_p1v1nt', '31365_p1v1bos', '31365_p2v1bos',\n",
    "        '38121_p2v1bos', '38121_recook', '38121_p1v1bos', '38121_p2v1ntp']\n",
    "beam_energy = [E16_E0, E16_E0, E16_E0, E1F_E0, E1F_E0, E1F_E0, E1F_E0]\n",
    "colors = [R.kBlue+2, R.kGreen+2, R.kRed+2, R.kYellow+2, R.kOrange+2, R.kBlack+2, R.kRed]\n",
    "\n",
    "def add_sectors(run, hn_tmpl='eid/heid_s%d', hn_tmpl_out='h%s'):\n",
    "    dir_data = '/home/ephelps/projects/phys-ana-omega/e1f6/test'\n",
    "    fin = R.TFile('%s/%s_eskim.root'%(dir_data, run))\n",
    "    h = fin.Get(hn_tmpl%1).Clone(hn_tmpl_out%run)\n",
    "    for sect in range (2,7):\n",
    "        h.Add(fin.Get(hn_tmpl%sect))\n",
    "    h.SetDirectory(0)\n",
    "    fin.Close()\n",
    "    return h\n",
    "\n",
    "def get_fcq(run):\n",
    "    dir_data = '/home/ephelps/projects/phys-ana-omega/e1f6/test'\n",
    "    fin = R.TFile('%s/%s_eskim.root'%(dir_data, run))\n",
    "    lum = fin.Get('lumblocks/lumblocks')\n",
    "    fcq, fcq_trip = 0, 0\n",
    "    for lb in lum:\n",
    "        fcq_trip += lb.fc_charge_ltcorr if lb.fc_charge_ltcorr < 0.5 else 0\n",
    "        fcq += lb.fc_charge_ltcorr\n",
    "    return (fcq, fcq_trip)"
   ]
  },
  {
   "cell_type": "code",
   "execution_count": 2,
   "metadata": {
    "collapsed": false
   },
   "outputs": [],
   "source": [
    "c = R.TCanvas(\"ceid\",\"EID cuts\",800,600)\n",
    "c.Divide(2,2)"
   ]
  },
  {
   "cell_type": "code",
   "execution_count": 3,
   "metadata": {
    "collapsed": false
   },
   "outputs": [
    {
     "data": {
      "text/plain": [
       "<ROOT.TLegend object (\"TPave\") at 0x6b7b1a0>"
      ]
     },
     "execution_count": 3,
     "metadata": {},
     "output_type": "execute_result"
    }
   ],
   "source": [
    "# eid cuts, absolute\n",
    "hs_e_ind = [add_sectors(run, 'eid/heidind_s%d', 'h%s_ind') for run in runs]\n",
    "hs_e_cum = [add_sectors(run, 'eid/heid_s%d', 'h%s_cum') for run in runs]\n",
    "\n",
    "hstack_e_ind = R.THStack('hstack_e_ind', 'eid cuts, independent')\n",
    "hstack_e_cum = R.THStack('hstack_e_cum', 'eid cuts, cumulative')\n",
    "\n",
    "for i, (run, h, hn, e0) in enumerate(zip(runs, hs_e_ind, hs_e_cum, beam_energy)):\n",
    "    h.SetTitle('eid cuts, independent, %s'%run)\n",
    "    hn.SetTitle('eid cuts, cumulative, %s'%run)\n",
    "    h.SetLineColor(colors[i])\n",
    "    hn.SetLineColor(colors[i])\n",
    "    hstack_e_ind.Add(h)\n",
    "    hstack_e_cum.Add(hn)\n",
    "\n",
    "p1 = c.cd(1)\n",
    "hstack_e_ind.Draw('nostack')\n",
    "p1.SetGrid()\n",
    "p1.BuildLegend()\n",
    "\n",
    "p2 = c.cd(2)\n",
    "hstack_e_cum.Draw('nostack')\n",
    "p2.SetGrid()\n",
    "p2.BuildLegend()"
   ]
  },
  {
   "cell_type": "code",
   "execution_count": 4,
   "metadata": {
    "collapsed": false
   },
   "outputs": [
    {
     "data": {
      "text/plain": [
       "<ROOT.TLegend object (\"TPave\") at 0x6c34520>"
      ]
     },
     "execution_count": 4,
     "metadata": {},
     "output_type": "execute_result"
    }
   ],
   "source": [
    "# eid cuts, normalized sample\n",
    "hs_e_ind_norm = [add_sectors(run, 'eid/heidind%s_sample_2_2_s%%d'%xtrachar, 'h%s_ind') for (run,xtrachar) in zip(runs,histnameschanged)]\n",
    "hs_e_cum_norm = [add_sectors(run, 'eid/heid_sample_2_2_s%d', 'h%s_cum_norm') for run in runs]\n",
    "\n",
    "hstack_e_ind_norm = R.THStack('hstack_e_ind_norm', 'eid cuts, independent, normalized')\n",
    "hstack_e_cum_norm = R.THStack('hstack_e_cum_norm', 'eid cuts, cumulative, normalized')\n",
    "\n",
    "for i, (run, h, hn, e0) in enumerate(zip(runs, hs_e_ind_norm, hs_e_cum_norm, beam_energy)):\n",
    "    fcq = get_fcq('38121_p2v1bos')[1] if run in ['38121_recook', '38121_p2v1ntp'] else get_fcq(run)[1]\n",
    "    fcq = get_fcq('31365_p1v1bos')[1] if run == '31365_p1v1nt' else fcq\n",
    "    h.Scale(fcq/vgflux(2, 2, e0))\n",
    "    hn.Scale(fcq/vgflux(2, 2, e0))\n",
    "    h.SetTitle('eid cuts, independent, normalized, %s'%run)\n",
    "    hn.SetTitle('eid cuts, cumulative, normalized, %s'%run)\n",
    "    h.SetLineColor(colors[i])\n",
    "    hn.SetLineColor(colors[i])\n",
    "    hstack_e_ind_norm.Add(h)\n",
    "    hstack_e_cum_norm.Add(hn)\n",
    "\n",
    "p3 = c.cd(3)\n",
    "hstack_e_ind_norm.Draw('nostack')\n",
    "p3.SetGrid()\n",
    "p3.BuildLegend()\n",
    "\n",
    "p4 = c.cd(4)\n",
    "hstack_e_cum_norm.Draw('nostack')\n",
    "p4.SetGrid()\n",
    "p4.BuildLegend()"
   ]
  },
  {
   "cell_type": "code",
   "execution_count": 5,
   "metadata": {
    "collapsed": true
   },
   "outputs": [],
   "source": [
    "c.Draw()"
   ]
  },
  {
   "cell_type": "code",
   "execution_count": null,
   "metadata": {
    "collapsed": false
   },
   "outputs": [],
   "source": [
    "run = '38121_p2v1bos'\n",
    "c2 = R.TCanvas('c2', 'c2')\n",
    "h = add_sectors(run, 'eid/heidindS_sample_2_2_s%d', 'h%s_indsamp')\n",
    "h.Draw()\n",
    "h.Scale(get_fcq('38121_p2v1bos')[1]/vgflux(2, 2, E1F_E0))\n",
    "c2.Draw()"
   ]
  },
  {
   "cell_type": "code",
   "execution_count": null,
   "metadata": {
    "collapsed": true
   },
   "outputs": [],
   "source": [
    "del c2"
   ]
  },
  {
   "cell_type": "code",
   "execution_count": null,
   "metadata": {
    "collapsed": true
   },
   "outputs": [],
   "source": []
  }
 ],
 "metadata": {
  "anaconda-cloud": {},
  "kernelspec": {
   "display_name": "Python [conda env:root6_py3]",
   "language": "python",
   "name": "conda-env-root6_py3-py"
  },
  "language_info": {
   "codemirror_mode": {
    "name": "ipython",
    "version": 3
   },
   "file_extension": ".py",
   "mimetype": "text/x-python",
   "name": "python",
   "nbconvert_exporter": "python",
   "pygments_lexer": "ipython3",
   "version": "3.4.5"
  }
 },
 "nbformat": 4,
 "nbformat_minor": 1
}
